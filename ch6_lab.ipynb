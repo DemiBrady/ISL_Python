{
 "cells": [
  {
   "cell_type": "markdown",
   "id": "7d7f6b35",
   "metadata": {},
   "source": [
    "# Ch6 lab: Linear model selection and regularisation"
   ]
  },
  {
   "cell_type": "markdown",
   "id": "84df82f7",
   "metadata": {},
   "source": [
    "### 1. Libraries"
   ]
  },
  {
   "cell_type": "code",
   "execution_count": 88,
   "id": "75c27f52",
   "metadata": {},
   "outputs": [],
   "source": [
    "import numpy as np\n",
    "import matplotlib.pyplot as plt\n",
    "import scipy\n",
    "import pandas as pd \n",
    "import math\n",
    "import random\n",
    "import itertools\n",
    "import statsmodels.api as sm\n",
    "import statsmodels.formula.api as smf\n",
    "from statsmodels.graphics.regressionplots import *\n",
    "from sklearn import datasets, linear_model\n",
    "from sklearn.decomposition import PCA \n",
    "from sklearn.cross_decomposition import PLSRegression, PLSSVD\n",
    "from sklearn.preprocessing import StandardScaler, scale \n",
    "from sklearn import linear_model \n",
    "from sklearn.model_selection import cross_val_predict \n",
    "from sklearn.metrics import mean_squared_error, r2_score\n",
    "from sklearn.model_selection import train_test_split\n",
    "from sklearn.linear_model import Ridge, RidgeCV, Lasso, LassoCV\n",
    "from sklearn.preprocessing import StandardScaler # had to add this in order to normalise the ridge regression model"
   ]
  },
  {
   "cell_type": "markdown",
   "id": "7a3c8196",
   "metadata": {},
   "source": [
    "### 2. Best subset selection \n",
    "\n",
    "Best subset selection is a technique to identify the most relevant features or variables that should be included in a predictive model. It involves systematically evaluating all possible combinations of features and selecting the subset that yields the best model performance.\n",
    "\n",
    "<b>Best subset selection may be a better choice of feature selection method than others (forward / backward selection, regularisation methods) in the following circumstances:</b>\n",
    "- When interpretability is crucial: Best subset selection allows you to identify the most relevant features, resulting in a concise and interpretable model. If interpretability is a priority, and computational resources are sufficient, best subset selection can provide valuable insights.\n",
    "- When computational resources are available: Evaluating all possible feature combinations can be computationally expensive, especially with a large number of features. Best subset selection requires exhaustive evaluation, so it is feasible when you have sufficient computational resources to handle the computational burden.\n",
    "\n",
    "To start we will set the maximum number of features to 3 so that we restrict the subset selection process to consider only up to 3 features per model. The code will then iterate through all possible subsets of 1, 2, and 3 features, evaluating the performance of the models using these subsets. The subset that produces the best performance among these limited choices will then be selected."
   ]
  },
  {
   "cell_type": "code",
   "execution_count": 3,
   "id": "27a3671d",
   "metadata": {},
   "outputs": [],
   "source": [
    "# creating a function that limits the number of features to be selected during the subset selection process\n",
    "max_feature = 3 "
   ]
  },
  {
   "cell_type": "code",
   "execution_count": 8,
   "id": "cbe55dde",
   "metadata": {},
   "outputs": [],
   "source": [
    "# reading in the data and taking a look at the data\n",
    "hitters = pd.read_csv('data/Hitters.csv', header = 0, na_values = 'NA')"
   ]
  },
  {
   "cell_type": "code",
   "execution_count": 9,
   "id": "220a31be",
   "metadata": {},
   "outputs": [
    {
     "name": "stdout",
     "output_type": "stream",
     "text": [
      "['AtBat', 'Hits', 'HmRun', 'Runs', 'RBI', 'Walks', 'Years', 'CAtBat', 'CHits', 'CHmRun', 'CRuns', 'CRBI', 'CWalks', 'League', 'Division', 'PutOuts', 'Assists', 'Errors', 'Salary', 'NewLeague']\n"
     ]
    }
   ],
   "source": [
    "print(list(hitters)) # geting the header of this data"
   ]
  },
  {
   "cell_type": "code",
   "execution_count": 11,
   "id": "f787f9c2",
   "metadata": {},
   "outputs": [
    {
     "name": "stdout",
     "output_type": "stream",
     "text": [
      "(322, 20)\n"
     ]
    }
   ],
   "source": [
    "print(hitters.shape) # geting the dimension of this dataset"
   ]
  },
  {
   "cell_type": "code",
   "execution_count": 12,
   "id": "e15c8288",
   "metadata": {},
   "outputs": [
    {
     "data": {
      "text/html": [
       "<div>\n",
       "<style scoped>\n",
       "    .dataframe tbody tr th:only-of-type {\n",
       "        vertical-align: middle;\n",
       "    }\n",
       "\n",
       "    .dataframe tbody tr th {\n",
       "        vertical-align: top;\n",
       "    }\n",
       "\n",
       "    .dataframe thead th {\n",
       "        text-align: right;\n",
       "    }\n",
       "</style>\n",
       "<table border=\"1\" class=\"dataframe\">\n",
       "  <thead>\n",
       "    <tr style=\"text-align: right;\">\n",
       "      <th></th>\n",
       "      <th>AtBat</th>\n",
       "      <th>Hits</th>\n",
       "      <th>HmRun</th>\n",
       "      <th>Runs</th>\n",
       "      <th>RBI</th>\n",
       "      <th>Walks</th>\n",
       "      <th>Years</th>\n",
       "      <th>CAtBat</th>\n",
       "      <th>CHits</th>\n",
       "      <th>CHmRun</th>\n",
       "      <th>CRuns</th>\n",
       "      <th>CRBI</th>\n",
       "      <th>CWalks</th>\n",
       "      <th>League</th>\n",
       "      <th>Division</th>\n",
       "      <th>PutOuts</th>\n",
       "      <th>Assists</th>\n",
       "      <th>Errors</th>\n",
       "      <th>Salary</th>\n",
       "      <th>NewLeague</th>\n",
       "    </tr>\n",
       "  </thead>\n",
       "  <tbody>\n",
       "    <tr>\n",
       "      <th>0</th>\n",
       "      <td>293</td>\n",
       "      <td>66</td>\n",
       "      <td>1</td>\n",
       "      <td>30</td>\n",
       "      <td>29</td>\n",
       "      <td>14</td>\n",
       "      <td>1</td>\n",
       "      <td>293</td>\n",
       "      <td>66</td>\n",
       "      <td>1</td>\n",
       "      <td>30</td>\n",
       "      <td>29</td>\n",
       "      <td>14</td>\n",
       "      <td>A</td>\n",
       "      <td>E</td>\n",
       "      <td>446</td>\n",
       "      <td>33</td>\n",
       "      <td>20</td>\n",
       "      <td>NaN</td>\n",
       "      <td>A</td>\n",
       "    </tr>\n",
       "    <tr>\n",
       "      <th>1</th>\n",
       "      <td>315</td>\n",
       "      <td>81</td>\n",
       "      <td>7</td>\n",
       "      <td>24</td>\n",
       "      <td>38</td>\n",
       "      <td>39</td>\n",
       "      <td>14</td>\n",
       "      <td>3449</td>\n",
       "      <td>835</td>\n",
       "      <td>69</td>\n",
       "      <td>321</td>\n",
       "      <td>414</td>\n",
       "      <td>375</td>\n",
       "      <td>N</td>\n",
       "      <td>W</td>\n",
       "      <td>632</td>\n",
       "      <td>43</td>\n",
       "      <td>10</td>\n",
       "      <td>475.0</td>\n",
       "      <td>N</td>\n",
       "    </tr>\n",
       "    <tr>\n",
       "      <th>2</th>\n",
       "      <td>479</td>\n",
       "      <td>130</td>\n",
       "      <td>18</td>\n",
       "      <td>66</td>\n",
       "      <td>72</td>\n",
       "      <td>76</td>\n",
       "      <td>3</td>\n",
       "      <td>1624</td>\n",
       "      <td>457</td>\n",
       "      <td>63</td>\n",
       "      <td>224</td>\n",
       "      <td>266</td>\n",
       "      <td>263</td>\n",
       "      <td>A</td>\n",
       "      <td>W</td>\n",
       "      <td>880</td>\n",
       "      <td>82</td>\n",
       "      <td>14</td>\n",
       "      <td>480.0</td>\n",
       "      <td>A</td>\n",
       "    </tr>\n",
       "    <tr>\n",
       "      <th>3</th>\n",
       "      <td>496</td>\n",
       "      <td>141</td>\n",
       "      <td>20</td>\n",
       "      <td>65</td>\n",
       "      <td>78</td>\n",
       "      <td>37</td>\n",
       "      <td>11</td>\n",
       "      <td>5628</td>\n",
       "      <td>1575</td>\n",
       "      <td>225</td>\n",
       "      <td>828</td>\n",
       "      <td>838</td>\n",
       "      <td>354</td>\n",
       "      <td>N</td>\n",
       "      <td>E</td>\n",
       "      <td>200</td>\n",
       "      <td>11</td>\n",
       "      <td>3</td>\n",
       "      <td>500.0</td>\n",
       "      <td>N</td>\n",
       "    </tr>\n",
       "    <tr>\n",
       "      <th>4</th>\n",
       "      <td>321</td>\n",
       "      <td>87</td>\n",
       "      <td>10</td>\n",
       "      <td>39</td>\n",
       "      <td>42</td>\n",
       "      <td>30</td>\n",
       "      <td>2</td>\n",
       "      <td>396</td>\n",
       "      <td>101</td>\n",
       "      <td>12</td>\n",
       "      <td>48</td>\n",
       "      <td>46</td>\n",
       "      <td>33</td>\n",
       "      <td>N</td>\n",
       "      <td>E</td>\n",
       "      <td>805</td>\n",
       "      <td>40</td>\n",
       "      <td>4</td>\n",
       "      <td>91.5</td>\n",
       "      <td>N</td>\n",
       "    </tr>\n",
       "  </tbody>\n",
       "</table>\n",
       "</div>"
      ],
      "text/plain": [
       "   AtBat  Hits  HmRun  Runs  RBI  Walks  Years  CAtBat  CHits  CHmRun  CRuns  \\\n",
       "0    293    66      1    30   29     14      1     293     66       1     30   \n",
       "1    315    81      7    24   38     39     14    3449    835      69    321   \n",
       "2    479   130     18    66   72     76      3    1624    457      63    224   \n",
       "3    496   141     20    65   78     37     11    5628   1575     225    828   \n",
       "4    321    87     10    39   42     30      2     396    101      12     48   \n",
       "\n",
       "   CRBI  CWalks League Division  PutOuts  Assists  Errors  Salary NewLeague  \n",
       "0    29      14      A        E      446       33      20     NaN         A  \n",
       "1   414     375      N        W      632       43      10   475.0         N  \n",
       "2   266     263      A        W      880       82      14   480.0         A  \n",
       "3   838     354      N        E      200       11       3   500.0         N  \n",
       "4    46      33      N        E      805       40       4    91.5         N  "
      ]
     },
     "execution_count": 12,
     "metadata": {},
     "output_type": "execute_result"
    }
   ],
   "source": [
    "hitters.head() # pulling a sample of this dataset"
   ]
  },
  {
   "cell_type": "code",
   "execution_count": 20,
   "id": "fbaf46b8",
   "metadata": {},
   "outputs": [
    {
     "name": "stdout",
     "output_type": "stream",
     "text": [
      "AtBat         0\n",
      "Hits          0\n",
      "HmRun         0\n",
      "Runs          0\n",
      "RBI           0\n",
      "Walks         0\n",
      "Years         0\n",
      "CAtBat        0\n",
      "CHits         0\n",
      "CHmRun        0\n",
      "CRuns         0\n",
      "CRBI          0\n",
      "CWalks        0\n",
      "League        0\n",
      "Division      0\n",
      "PutOuts       0\n",
      "Assists       0\n",
      "Errors        0\n",
      "Salary       59\n",
      "NewLeague     0\n",
      "dtype: int64\n"
     ]
    }
   ],
   "source": [
    "# cleaning the data to remove NAs, starting by seeing no. NA's in dataset (I can see at least one in Salary column but there may be more)\n",
    "print(hitters.isnull().sum())"
   ]
  },
  {
   "cell_type": "code",
   "execution_count": 25,
   "id": "dc847925",
   "metadata": {},
   "outputs": [],
   "source": [
    "# dropping NAs\n",
    "hitters = hitters.dropna().reset_index(drop=True) # drop the observation with NA values and reindexing the dataframe so that rows form is the same as before"
   ]
  },
  {
   "cell_type": "code",
   "execution_count": 23,
   "id": "90106173",
   "metadata": {},
   "outputs": [
    {
     "name": "stdout",
     "output_type": "stream",
     "text": [
      "(263, 20)\n",
      "0\n"
     ]
    }
   ],
   "source": [
    "# checking dataset post dropping NA columns\n",
    "print(hitters.shape)\n",
    "print(hitters['Salary'].isnull().sum())"
   ]
  },
  {
   "cell_type": "code",
   "execution_count": 29,
   "id": "23a5d817",
   "metadata": {},
   "outputs": [
    {
     "name": "stdout",
     "output_type": "stream",
     "text": [
      "   League_A  League_N  Division_E  Division_W  NewLeague_A  NewLeague_N\n",
      "0         0         1           0           1            0            1\n",
      "1         1         0           0           1            1            0\n",
      "2         0         1           1           0            0            1\n",
      "3         0         1           1           0            0            1\n",
      "4         1         0           0           1            1            0\n"
     ]
    }
   ],
   "source": [
    "# feature engineering to prepare data for modelling\n",
    "y = hitters.Salary # defining response variable \n",
    "dummies = pd.get_dummies(hitters[['League', 'Division', 'NewLeague']]) # creating dummy variables for the columns with categorical variables\n",
    "print(dummies.head()) # checking dummy rows\n",
    "X_prep = hitters.drop(['Salary', 'League', 'Division', 'NewLeague'], axis=1).astype('float64') # creates new dataframe, dropping the old columns with categorical variables and the response\n",
    "X = pd.concat([X_prep, dummies[['League_A', 'Division_E', 'NewLeague_A']]], axis=1) # adding the columns with dummy variables to new dataframe\n",
    "\n",
    "# other notes\n",
    "# 'axis=1' specifies that the operation is performed on columns\n",
    "# 'astype('float64')' converts dataframe into a float data type "
   ]
  },
  {
   "cell_type": "code",
   "execution_count": 30,
   "id": "8e1fc939",
   "metadata": {},
   "outputs": [],
   "source": [
    "# defining functions to be ready for best subset selection \n",
    "\n",
    "def getRSS(y, X, feature_list):\n",
    "    model = sm.OLS(y, X[list(feature_list)]).fit()\n",
    "    RSS = ((model.predict(X[list(feature_list)]) - y) ** 2).sum()\n",
    "    return {'Model':model, \"RSS\":RSS}\n",
    "\n",
    "# function above returns a dictionary containing the fitted model object and the residual sum of squares for that model\n",
    "\n",
    "def bestModel(y, X, K):\n",
    "    results = []\n",
    "    for c in itertools.combinations(X.columns, K):\n",
    "        results.append(getRSS(y, X, c))     \n",
    "    model_all =  pd.DataFrame(results)\n",
    "    best_model = model_all.loc[model_all[\"RSS\"].idxmin()]\n",
    "    return best_model\n",
    "\n",
    "# function above performs best subset selection by iterating over all possible combinations of features of size K from the feature matrix X\n",
    "# The results are stored in a list of dictionaries (results)\n",
    "# Finally, it creates a DataFrame (model_all) from the list of results and returns the model with the lowest RSS"
   ]
  },
  {
   "cell_type": "markdown",
   "id": "6c25039e",
   "metadata": {},
   "source": [
    "<b>Note: alternative way to do the same as above:</b>\n",
    "\n",
    "<code>from sklearn.model_selection import GridSearchCV\n",
    "from sklearn.linear_model import LinearRegression\n",
    "import pandas as pd\n",
    "import numpy as np </code>\n",
    "\n",
    "<b>Create a linear regression model object</b>\n",
    "<code>model = LinearRegression()</code>\n",
    "\n",
    "<b>Define the parameter grid for GridSearchCV</b>\n",
    "<code>param_grid = {</code>\n",
    "    <code>'fit_intercept': [True, False],</code>\n",
    "    <code>'normalize': [True, False]</code>\n",
    "<code>}</code>\n",
    "\n",
    "\n",
    "<b>Create the GridSearchCV object</b>\n",
    "<code> grid_search = GridSearchCV(model, param_grid, scoring='neg_mean_squared_error', cv=5) </code>\n",
    "\n",
    "<b>Fit the GridSearchCV object to the data</b>\n",
    "<code> grid_search.fit(X, y)</code>\n",
    "\n",
    "<b>Get the best model</b>\n",
    "<code>best_model = grid_search.best_estimator_</code>\n"
   ]
  },
  {
   "cell_type": "code",
   "execution_count": 32,
   "id": "eb21450b",
   "metadata": {},
   "outputs": [
    {
     "name": "stdout",
     "output_type": "stream",
     "text": [
      "                                 OLS Regression Results                                \n",
      "=======================================================================================\n",
      "Dep. Variable:                 Salary   R-squared (uncentered):                   0.761\n",
      "Model:                            OLS   Adj. R-squared (uncentered):              0.760\n",
      "Method:                 Least Squares   F-statistic:                              416.7\n",
      "Date:                Tue, 23 May 2023   Prob (F-statistic):                    5.80e-82\n",
      "Time:                        11:00:47   Log-Likelihood:                         -1907.6\n",
      "No. Observations:                 263   AIC:                                      3819.\n",
      "Df Residuals:                     261   BIC:                                      3826.\n",
      "Df Model:                           2                                                  \n",
      "Covariance Type:            nonrobust                                                  \n",
      "==============================================================================\n",
      "                 coef    std err          t      P>|t|      [0.025      0.975]\n",
      "------------------------------------------------------------------------------\n",
      "Hits           2.9538      0.261     11.335      0.000       2.441       3.467\n",
      "CRBI           0.6788      0.066     10.295      0.000       0.549       0.809\n",
      "==============================================================================\n",
      "Omnibus:                      117.551   Durbin-Watson:                   1.933\n",
      "Prob(Omnibus):                  0.000   Jarque-Bera (JB):              654.612\n",
      "Skew:                           1.729   Prob(JB):                    7.12e-143\n",
      "Kurtosis:                       9.912   Cond. No.                         5.88\n",
      "==============================================================================\n",
      "\n",
      "Notes:\n",
      "[1] R² is computed without centering (uncentered) since the model does not contain a constant.\n",
      "[2] Standard Errors assume that the covariance matrix of the errors is correctly specified.\n"
     ]
    }
   ],
   "source": [
    "# performing best model selection\n",
    "\n",
    "models = pd.DataFrame(columns=[\"RSS\", \"Model\"]) # initialises an empty pandas DataFrame called models with two columns: \"RSS\" and \"Model\". This df will store RSS and model objects for different feature subsets \n",
    "for i in range(1,(max_feature+1)): # enters a loop that iterates from 1 to max_feature+1 (inclusive). This loop represents the number of features to consider in each iteration\n",
    "    models.loc[i] = bestModel(y, X, i) # inside loop, 'bestModel' function is called with the target variable y, feature matrix X, and the current number of features i. Then added to the 'models' DataFrame using the loc function, with i as the row index\n",
    "    \n",
    "print(models.loc[2, 'Model'].summary()) #  prints the summary of the model with 2 features stored in the models DataFrame"
   ]
  },
  {
   "cell_type": "code",
   "execution_count": 33,
   "id": "c2a2c90e",
   "metadata": {},
   "outputs": [
    {
     "data": {
      "image/png": "[encoded data removed]",
      "text/plain": [
       "<Figure size 640x480 with 1 Axes>"
      ]
     },
     "metadata": {},
     "output_type": "display_data"
    }
   ],
   "source": [
    "# plotting the RSS of best models with different number of parameters\n",
    "plt.figure()\n",
    "plt.plot(models[\"RSS\"])\n",
    "plt.xlabel('# features')\n",
    "plt.ylabel('RSS')\n",
    "plt.show()"
   ]
  },
  {
   "cell_type": "code",
   "execution_count": 35,
   "id": "bca06b17",
   "metadata": {},
   "outputs": [
    {
     "name": "stdout",
     "output_type": "stream",
     "text": [
      "                                 OLS Regression Results                                \n",
      "=======================================================================================\n",
      "Dep. Variable:                 Salary   R-squared (uncentered):                   0.772\n",
      "Model:                            OLS   Adj. R-squared (uncentered):              0.769\n",
      "Method:                 Least Squares   F-statistic:                              292.7\n",
      "Date:                Tue, 23 May 2023   Prob (F-statistic):                    5.01e-83\n",
      "Time:                        11:04:05   Log-Likelihood:                         -1902.0\n",
      "No. Observations:                 263   AIC:                                      3810.\n",
      "Df Residuals:                     260   BIC:                                      3821.\n",
      "Df Model:                           3                                                  \n",
      "Covariance Type:            nonrobust                                                  \n",
      "==============================================================================\n",
      "                 coef    std err          t      P>|t|      [0.025      0.975]\n",
      "------------------------------------------------------------------------------\n",
      "Hits           2.3164      0.318      7.295      0.000       1.691       2.942\n",
      "CRBI           0.6665      0.065     10.293      0.000       0.539       0.794\n",
      "PutOuts        0.2614      0.077      3.381      0.001       0.109       0.414\n",
      "==============================================================================\n",
      "Omnibus:                      114.300   Durbin-Watson:                   2.008\n",
      "Prob(Omnibus):                  0.000   Jarque-Bera (JB):              666.384\n",
      "Skew:                           1.652   Prob(JB):                    1.98e-145\n",
      "Kurtosis:                      10.063   Cond. No.                         8.59\n",
      "==============================================================================\n",
      "\n",
      "Notes:\n",
      "[1] R² is computed without centering (uncentered) since the model does not contain a constant.\n",
      "[2] Standard Errors assume that the covariance matrix of the errors is correctly specified.\n"
     ]
    }
   ],
   "source": [
    "print(models.loc[3, 'Model'].summary()) # the above plot showed me that I should maybe consider a model with 3 features as it has the lowest RSS"
   ]
  },
  {
   "cell_type": "code",
   "execution_count": 37,
   "id": "162b496e",
   "metadata": {},
   "outputs": [],
   "source": [
    "# find the adjusted R^2, use dir() to identify all available attributes\n",
    "rsquared_adj = models.apply(lambda row: row[1].rsquared_adj, axis=1) "
   ]
  },
  {
   "cell_type": "markdown",
   "id": "f6e1148e",
   "metadata": {},
   "source": [
    "#### Notes on interpretation:\n",
    "- The code above creates a new variable called rsquared_adj to store the adjusted R-squared values.\n",
    "- It applies a lambda function to each row of the models DataFrame using the apply method with axis=1, which indicates that the function should be applied row-wise.\n",
    "- Within the lambda function, row[1] refers to the second column (index 1) of each row, which contains the model objects.\n",
    "- It accesses the rsquared_adj attribute of each model object using .rsquared_adj.\n",
    "- The calculated adjusted R-squared values are assigned to the rsquared_adj variable."
   ]
  },
  {
   "cell_type": "code",
   "execution_count": 39,
   "id": "30db83f9",
   "metadata": {},
   "outputs": [
    {
     "data": {
      "image/png": "[encoded data removed]",
      "text/plain": [
       "<Figure size 640x480 with 1 Axes>"
      ]
     },
     "metadata": {},
     "output_type": "display_data"
    }
   ],
   "source": [
    "# plotting results of adjusted R^2\n",
    "plt.figure()\n",
    "plt.plot(rsquared_adj)\n",
    "plt.xlabel('# features')\n",
    "plt.ylabel('Adjusted R^2')\n",
    "plt.show()"
   ]
  },
  {
   "cell_type": "markdown",
   "id": "f640f42a",
   "metadata": {},
   "source": [
    "### 3. Stepwise feature selection\n",
    "\n",
    "Stepwise feature selection includes different methods, most popular are forward / backward selection. In general, stepwise selection techniques start with an empty model and iteratively adds or removes features based on predefined criteria until a stopping condition is met. The goal is to find the most relevant features that contribute to the model's performance while controlling for model complexity."
   ]
  },
  {
   "cell_type": "markdown",
   "id": "93830a6f",
   "metadata": {},
   "source": [
    "### Forward stepwise selection\n",
    "\n",
    "Forward selection is a stepwise feature selection method. It starts with an empty model and iteratively adds one feature at a time based on predefined criteria until a stopping condition is met. The goal is to identify the most relevant features that contribute to the model's performance.\n",
    "\n",
    "<b>It may be best to use forward selection over other methods in the following circumstances:</b>\n",
    "- When computational resources are limited: Forward selection starts with an empty model and iteratively adds one feature at a time. This stepwise approach is computationally efficient compared to best subset selection since it doesn't evaluate all feature combinations. If computational resources are limited, forward selection can be a practical choice.\n",
    "- When dealing with a large number of features: Forward selection is particularly useful when the feature space is vast. By starting with an empty model and iteratively adding features, it can efficiently explore the feature space without having to evaluate all possible combinations."
   ]
  },
  {
   "cell_type": "code",
   "execution_count": 40,
   "id": "08e5179c",
   "metadata": {},
   "outputs": [],
   "source": [
    "# using RSS function defined in this notebook\n",
    "# creating new function to do forward stepwise selection \n",
    "\n",
    "def forward_select(y, X, feature_list):\n",
    "    remaining_predictors = [p for p in X.columns if p not in feature_list]\n",
    "    results = []\n",
    "    for p in remaining_predictors:\n",
    "        results.append(getRSS(y, X, feature_list+[p]))\n",
    "\n",
    "    models = pd.DataFrame(results)\n",
    "    best_model = models.loc[models['RSS'].idxmin()]\n",
    "    return best_model  "
   ]
  },
  {
   "cell_type": "code",
   "execution_count": 41,
   "id": "2071e07e",
   "metadata": {},
   "outputs": [],
   "source": [
    "# testing out the forward stepwise selection function\n",
    "\n",
    "models2 = pd.DataFrame(columns=[\"RSS\", \"Model\"]) # creates an empty DataFrame called models2 with two columns: \"RSS\" and \"Model\" to store the results of the forward selection process\n",
    "feature_list = [] # initialises an empty list\n",
    "for i in range(1,len(X.columns)+1):\n",
    "    models2.loc[i] = forward_select(y, X, feature_list) # calls the forward_select function, passing y, X, and the current feature_list as arguments, to obtain the best model for the given number of features which is stored in 'models2'\n",
    "    feature_list = models2.loc[i][\"Model\"].model.exog_names # feature_list is updated to include the features from the best model "
   ]
  },
  {
   "cell_type": "code",
   "execution_count": 42,
   "id": "5bcdffde",
   "metadata": {},
   "outputs": [
    {
     "name": "stdout",
     "output_type": "stream",
     "text": [
      "Best max_feature variable from best subset selection on tranining\n",
      "Hits       2.316407\n",
      "CRBI       0.666517\n",
      "PutOuts    0.261395\n",
      "dtype: float64\n",
      "\n",
      "---------------------------------------------\n",
      "Best max_feature variable from forward selection on tranining\n",
      "Hits       2.316407\n",
      "CRBI       0.666517\n",
      "PutOuts    0.261395\n",
      "dtype: float64\n"
     ]
    }
   ],
   "source": [
    "# comparing results of best subset selection vs the forward selection\n",
    "print('Best max_feature variable from best subset selection on tranining')\n",
    "print(models.loc[max_feature, 'Model'].params)\n",
    "print('\\n---------------------------------------------')\n",
    "print('Best max_feature variable from forward selection on tranining')\n",
    "print(models2.loc[max_feature, 'Model'].params)"
   ]
  },
  {
   "cell_type": "markdown",
   "id": "9029796f",
   "metadata": {},
   "source": [
    "### Backward elimination \n",
    "\n",
    "Backward elimination is a feature selection method that starts with a model containing all features and iteratively removes one feature at a time based on predefined criteria. It aims to identify the most relevant subset of features that contribute to the model's performance.\n",
    "\n",
    "<b>It's best to use backward elimination in the following circumstances:</b>\n",
    "- When dealing with a large number of features: Similar to forward selection, backward elimination is well-suited for scenarios with a large feature space. It starts with a model containing all features and iteratively removes one feature at a time. This method can help identify the most relevant features without exhaustively evaluating all feature combinations.\n",
    "- When computational resources are limited: Backward elimination reduces the number of features over iterations, potentially making it less computationally demanding compared to best subset selection."
   ]
  },
  {
   "cell_type": "code",
   "execution_count": 43,
   "id": "31d5dedc",
   "metadata": {},
   "outputs": [],
   "source": [
    "# doing very similar to forward stepwise selection function above, also using previously defined RSS function\n",
    "\n",
    "def backward_select(y, X, feature_list):\n",
    "    results = []\n",
    "    for combo in itertools.combinations(feature_list, len(feature_list)-1): # loop iterates through all combinations of features obtained by using 'itertools.combinations'. The loop generates combinations of len(feature_list)-1 features from the feature_list.\n",
    "        results.append(getRSS(y, X, combo)) # gets RSS for each combo\n",
    "\n",
    "    models = pd.DataFrame(results) # RSS values for each combination of features are stored in a DataFrame called models\n",
    "    best_model = models.loc[models['RSS'].idxmin()] #  selects the model with the minimum RSS from the models DataFrame and returns it as the best model\n",
    "    return best_model "
   ]
  },
  {
   "cell_type": "code",
   "execution_count": 44,
   "id": "1f420b2a",
   "metadata": {},
   "outputs": [
    {
     "name": "stdout",
     "output_type": "stream",
     "text": [
      "Hits       2.111712\n",
      "CRuns      0.646149\n",
      "PutOuts    0.295625\n",
      "dtype: float64\n"
     ]
    }
   ],
   "source": [
    "# testing out backward stepwise selection function \n",
    "\n",
    "models3 = pd.DataFrame(columns=[\"RSS\", \"Model\"], index = range(1,len(X.columns)))\n",
    "feature_list = X.columns\n",
    "\n",
    "while(len(feature_list) > 1):\n",
    "    models3.loc[len(feature_list)-1] = backward_select(y, X, feature_list)\n",
    "    feature_list = models3.loc[len(feature_list)-1][\"Model\"].model.exog_names\n",
    "\n",
    "print(models3.loc[max_feature, \"Model\"].params)"
   ]
  },
  {
   "cell_type": "code",
   "execution_count": 47,
   "id": "bd28ad0b",
   "metadata": {},
   "outputs": [
    {
     "name": "stdout",
     "output_type": "stream",
     "text": [
      "Best 3 variable model from best subset selection on tranining\n",
      "Hits       2.316407\n",
      "CRBI       0.666517\n",
      "PutOuts    0.261395\n",
      "dtype: float64\n",
      "\n",
      "---------------------------------------------\n",
      "Best 3 variable model from forward selection on tranining\n",
      "Hits       2.316407\n",
      "CRBI       0.666517\n",
      "PutOuts    0.261395\n",
      "dtype: float64\n",
      "\n",
      "---------------------------------------------\n",
      "Best 3 variable model from backward selection on tranining\n",
      "Hits       2.111712\n",
      "CRuns      0.646149\n",
      "PutOuts    0.295625\n",
      "dtype: float64\n"
     ]
    }
   ],
   "source": [
    "# comparison of all results from all three selection methods\n",
    "print('Best 3 variable model from best subset selection on tranining')\n",
    "print(models.loc[max_feature, 'Model'].params)\n",
    "print('\\n---------------------------------------------')\n",
    "print('Best 3 variable model from forward selection on tranining')\n",
    "print(models2.loc[max_feature, 'Model'].params)\n",
    "print('\\n---------------------------------------------')\n",
    "print('Best 3 variable model from backward selection on tranining')\n",
    "print(models3.loc[max_feature, 'Model'].params)"
   ]
  },
  {
   "cell_type": "markdown",
   "id": "71d052b2",
   "metadata": {},
   "source": [
    "#### Notes on interpretation\n",
    "\n",
    "- These results provide information about the predictors (variables) included in the best 3-variable models and their respective coefficients. The coefficients indicate the strength and direction of the relationship between each predictor and the target variable. Comparing the coefficients across the different selection approaches can provide insights into the consistency and importance of the selected predictors in predicting the target variable.\n",
    "- The variables and coefficients in best subset and forward selection are exactly the same (Hits: 2.316407, CRBI: 0.666517, PutOuts: 0.261395)\n",
    "- In the backward selection process, one variable was removed from the original set of features (CRBI), resulting in a different combination of predictors and their corresponding coefficients (Hits: 2.111712, CRuns: 0.646149, PutOuts: 0.295625)\n",
    "\n",
    "\n",
    "<b>What conclusions should I make?</b>\n",
    "- I can conclude that Hits and PutOuts are important variables in predicting the target variable, their coefficients are consistent too but including CBRI / excluding CRuns changes the value\n",
    "- I could potentially try creating a 4 variable model which includes both CBRI and CRuns? \n",
    "- I could also rerun the best subset selection method to assess any variability in results\n",
    "- Outside of the code, I could do more domain research to understand what these variables mean\n",
    "- If I've got a lot of time, I could also assess the overall performance of the models generated by each feature selection method. Evaluate metrics such as R-squared, adjusted R-squared, or cross-validated performance to compare the predictive capability of the models. A more reliable method may lead to better-performing models."
   ]
  },
  {
   "cell_type": "markdown",
   "id": "379f9002",
   "metadata": {},
   "source": [
    "### 4. Choosing models using the validation set approach and cross-validation\n",
    "We've defined the 'best' models using various methods and statistics (mainly RSS and adjusted R^2, but we could've used other statistics like AIC and BIC too). However, we haven't tested the performance of these models. We may be at risk of selecting a model which is overfitting on it's training data. This section will use the validation set approach to select models whilst testing their performance on test data.\n",
    "\n",
    "The validation set approach and cross-validation are techniques used to estimate the performance and evaluate the generalisation ability of predictive models. They involve splitting the available data into training and testing subsets, allowing the model to be trained on one subset and evaluated on another.\n",
    "\n",
    "\n",
    "<b>Validation set approach:</b> Involves splitting data into two subsets: a training set and a validation set.\n",
    "The training set is used to train the model, typically by fitting the parameters or learning the patterns in the data.\n",
    "The validation set is used to assess the performance of the trained model. It helps estimate how well the model generalizes to unseen data. After training the model on the training set, it is evaluated on the validation set using appropriate evaluation metrics (e.g., accuracy, mean squared error). The performance on the validation set serves as an estimate of how the model is likely to perform on new, unseen data.\n",
    "- <b>Advantages:</b> Straightforward and easy to implement.\n",
    "- <b>Disadvantages:</b> May suffer from high variability and dependence on the specific split between training and validation sets.\n",
    "\n",
    "\n",
    "<b>Cross-validation:</b> Resampling technique that addresses the limitations of the validation set approach by repeatedly splitting the data into training and testing subsets. Most common form of cross-validation is k-fold cross-validation, where the data is divided into k equal-sized folds. The model is trained and evaluated k times, each time using a different fold as the testing set and the remaining folds as the training set. Performance metrics are calculated for each fold, and the average performance across all folds is taken as the estimate of the model's generalization performance.\n",
    "- <b>Advantages:</b> Reduces the dependency on a particular split of the data and provides a more robust estimate of the model's performance\n",
    "- <b>Disadvantages:</b> Can be complicated and computationally expensive. "
   ]
  },
  {
   "cell_type": "markdown",
   "id": "52082856",
   "metadata": {},
   "source": [
    "### Validation set approach"
   ]
  },
  {
   "cell_type": "code",
   "execution_count": 48,
   "id": "342a3d3c",
   "metadata": {},
   "outputs": [],
   "source": [
    "# randomly splitting the data into training and validation datasets, selecting 70% of data for training, 30% for testing\n",
    "np.random.seed(seed = 21)\n",
    "train_index = np.random.choice([True, False], size = len(y), replace = True, p = [0.7, 0.3])\n",
    "\n",
    "# creating new test / train dataframes for the response (Y) and variables (X)\n",
    "test_index = np.invert(train_index)\n",
    "X_train= X[train_index]\n",
    "y_train = y[train_index]\n",
    "X_test = X[test_index]\n",
    "y_test = y[test_index]"
   ]
  },
  {
   "cell_type": "code",
   "execution_count": 50,
   "id": "203433cd",
   "metadata": {},
   "outputs": [],
   "source": [
    "# recycling old functions (above) but with modifications to include both test / train datasets\n",
    "\n",
    "def getRSS_validation(y_train, X_train, y_test, X_test,  feature_list):\n",
    "    model = sm.OLS(y_train, X_train[list(feature_list)]).fit() # fitting model to training data\n",
    "    RSS = ((model.predict(X_test[list(feature_list)]) - y_test) ** 2).sum() # predicting results for test data, storing RSS values\n",
    "    return {'Model':model, \"RSS\":RSS}\n",
    "\n",
    "def bestModel_validation(y_train, X_train, y_test, X_test, K):\n",
    "    results = []\n",
    "    for c in itertools.combinations(X_train.columns, K):\n",
    "        results.append(getRSS_validation(y_train, X_train, y_test, X_test, c)) # calls getRSS_validation function to peform model training, predictions, and RSS storing  \n",
    "    model_all =  pd.DataFrame(results)\n",
    "    best_model = model_all.loc[model_all[\"RSS\"].idxmin()] \n",
    "    return best_model\n",
    "\n",
    "def forward_select_validation(y_train, X_train, y_test, X_test,  feature_list):\n",
    "    remaining_predictors = [p for p in X_train.columns if p not in feature_list] # considers the remaining predictors (not in the current feature_list) and iteratively adds one predictor at a time to the feature_list.\n",
    "    results = []\n",
    "    for p in remaining_predictors:\n",
    "        results.append(getRSS_validation(y_train, X_train, y_test, X_test, feature_list+[p])) # again calls getRSS_validation function to peform model training, predictions, and RSS storing  \n",
    "    model_all =  pd.DataFrame(results)\n",
    "    models = pd.DataFrame(results)\n",
    "    best_model = models.loc[models['RSS'].idxmin()]\n",
    "    return best_model\n",
    "\n",
    "def backward_select_validation(y_train, X_train, y_test, X_test,  feature_list):\n",
    "    results = []\n",
    "    for combo in itertools.combinations(feature_list, len(feature_list)-1): # considers all combinations of the predictors in the current feature_list except one (one less predictor at a time)\n",
    "        results.append(getRSS_validation(y_train, X_train, y_test, X_test,  combo)) # again calls getRSS_validation function to peform model training, predictions, and RSS storing  \n",
    "    model_all =  pd.DataFrame(results)\n",
    "    models = pd.DataFrame(results)\n",
    "    best_model = models.loc[models['RSS'].idxmin()]\n",
    "    return best_model "
   ]
  },
  {
   "cell_type": "code",
   "execution_count": 52,
   "id": "bf4538a4",
   "metadata": {},
   "outputs": [],
   "source": [
    "models_validation = pd.DataFrame(columns=[\"RSS\", \"Model\"])\n",
    "for i in range(1,(max_feature+1)):\n",
    "    models_validation.loc[i] = bestModel_validation(y_train, X_train, y_test, X_test, i) "
   ]
  },
  {
   "cell_type": "code",
   "execution_count": 54,
   "id": "24658077",
   "metadata": {},
   "outputs": [
    {
     "name": "stdout",
     "output_type": "stream",
     "text": [
      "Best 3-variable model from best subset selection on tranining\n",
      "Hits       2.316407\n",
      "CRBI       0.666517\n",
      "PutOuts    0.261395\n",
      "dtype: float64\n",
      "\n",
      "---------------------------------------------\n",
      "Best 3-variable model from forward selection on tranining\n",
      "Hits       2.316407\n",
      "CRBI       0.666517\n",
      "PutOuts    0.261395\n",
      "dtype: float64\n",
      "\n",
      "---------------------------------------------\n",
      "Best 3-variable model from backward selection on tranining\n",
      "Hits       2.111712\n",
      "CRuns      0.646149\n",
      "PutOuts    0.295625\n",
      "dtype: float64\n",
      "\n",
      "---------------------------------------------\n",
      "Best 3-variable model from best subset selection on traning and validation split\n",
      "Hits       2.591880\n",
      "CHmRun     2.675775\n",
      "PutOuts    0.210471\n",
      "dtype: float64\n"
     ]
    }
   ],
   "source": [
    "print('Best 3-variable model from best subset selection on tranining')\n",
    "print(models.loc[max_feature, 'Model'].params)\n",
    "print('\\n---------------------------------------------')\n",
    "print('Best 3-variable model from forward selection on tranining')\n",
    "print(models2.loc[max_feature, 'Model'].params)\n",
    "print('\\n---------------------------------------------')\n",
    "print('Best 3-variable model from backward selection on tranining')\n",
    "print(models3.loc[max_feature, 'Model'].params)\n",
    "print('\\n---------------------------------------------')\n",
    "print('Best 3-variable model from best subset selection on traning and validation split')\n",
    "print(models_validation.loc[max_feature, 'Model'].params)"
   ]
  },
  {
   "cell_type": "code",
   "execution_count": 73,
   "id": "b61bd6be",
   "metadata": {},
   "outputs": [],
   "source": [
    "models2_forward = pd.DataFrame(columns=[\"RSS\", \"Model\"])\n",
    "feature_list = []\n",
    "for i in range(1,len(X.columns)+1):\n",
    "    models2_forward.loc[i] = forward_select_validation(y_train, X_train, y_test, X_test, feature_list)\n",
    "    feature_list = models2_forward.loc[i][\"Model\"].model.exog_names    \n",
    "\n",
    "models3_backward = pd.DataFrame(columns=[\"RSS\", \"Model\"]) # see below, think there might be a problem with this?\n",
    "feature_list = []\n",
    "i = 1  # initialize i to 1\n",
    "while len(feature_list) > 1:\n",
    "    models3_backward.loc[i] = backward_select_validation(y_train, X_train, y_test, X_test, feature_list)\n",
    "    feature_list = models3_backward.loc[i][\"Model\"].model.exog_names\n",
    "    i += 1  # increment i after assigning values to models3_backward"
   ]
  },
  {
   "cell_type": "code",
   "execution_count": 72,
   "id": "43a6e275",
   "metadata": {},
   "outputs": [
    {
     "name": "stdout",
     "output_type": "stream",
     "text": [
      "Best 3-variable model from best subset selection on tranining\n",
      "Hits       2.316407\n",
      "CRBI       0.666517\n",
      "PutOuts    0.261395\n",
      "dtype: float64\n",
      "\n",
      "---------------------------------------------\n",
      "Best 3-variable model from forward selection on tranining\n",
      "Hits       2.316407\n",
      "CRBI       0.666517\n",
      "PutOuts    0.261395\n",
      "dtype: float64\n",
      "\n",
      "---------------------------------------------\n",
      "Best 3-variable model from backward selection on tranining\n",
      "Hits       2.111712\n",
      "CRuns      0.646149\n",
      "PutOuts    0.295625\n",
      "dtype: float64\n",
      "\n",
      "---------------------------------------------\n",
      "Best 3-variable model from best subset selection on traning and validation split\n",
      "Hits       2.591880\n",
      "CHmRun     2.675775\n",
      "PutOuts    0.210471\n",
      "dtype: float64\n",
      "\n",
      "---------------------------------------------\n",
      "Best 3-variable model from forward selection on traning and validation split\n",
      "Hits       2.591880\n",
      "CHmRun     2.675775\n",
      "PutOuts    0.210471\n",
      "dtype: float64\n",
      "\n",
      "---------------------------------------------\n"
     ]
    }
   ],
   "source": [
    "print('Best 3-variable model from best subset selection on tranining')\n",
    "print(models.loc[max_feature, 'Model'].params)\n",
    "print('\\n---------------------------------------------')\n",
    "print('Best 3-variable model from forward selection on tranining')\n",
    "print(models2.loc[max_feature, 'Model'].params)\n",
    "print('\\n---------------------------------------------')\n",
    "print('Best 3-variable model from backward selection on tranining')\n",
    "print(models3.loc[max_feature, 'Model'].params)\n",
    "print('\\n---------------------------------------------')\n",
    "print('Best 3-variable model from best subset selection on traning and validation split')\n",
    "print(models_validation.loc[max_feature, 'Model'].params)\n",
    "print('\\n---------------------------------------------')\n",
    "print('Best 3-variable model from forward selection on traning and validation split')\n",
    "print(models2_forward.loc[max_feature, 'Model'].params)\n",
    "print('\\n---------------------------------------------')\n",
    "\n",
    "# tried adding in backward models but it didn't work?"
   ]
  },
  {
   "cell_type": "code",
   "execution_count": 74,
   "id": "b146e631",
   "metadata": {},
   "outputs": [
    {
     "data": {
      "image/png": "[encoded data removed]",
      "text/plain": [
       "<Figure size 640x480 with 1 Axes>"
      ]
     },
     "metadata": {},
     "output_type": "display_data"
    }
   ],
   "source": [
    "# plotting the RSS of best models with different number of parameters for best subset with validation\n",
    "plt.figure()\n",
    "plt.plot(models_validation[\"RSS\"])\n",
    "plt.xlabel('# features')\n",
    "plt.ylabel('RSS')\n",
    "plt.show()"
   ]
  },
  {
   "cell_type": "code",
   "execution_count": 75,
   "id": "cf43b940",
   "metadata": {},
   "outputs": [
    {
     "data": {
      "image/png": "[encoded data removed]",
      "text/plain": [
       "<Figure size 640x480 with 1 Axes>"
      ]
     },
     "metadata": {},
     "output_type": "display_data"
    }
   ],
   "source": [
    "# plotting the RSS of best models with different number of parameters for forward selection with validation\n",
    "plt.figure()\n",
    "plt.plot(models2_forward[\"RSS\"])\n",
    "plt.xlabel('# features')\n",
    "plt.ylabel('RSS')\n",
    "plt.show()"
   ]
  },
  {
   "cell_type": "markdown",
   "id": "45cfeb89",
   "metadata": {},
   "source": [
    "#### Notes on interpretation\n",
    "- Looks like a 7-variable model will perform best under forward stepwise selection\n",
    "- We could go back and retrain the model with 7 variables instead of 3"
   ]
  },
  {
   "cell_type": "markdown",
   "id": "ee317fa3",
   "metadata": {},
   "source": [
    "### Cross-validation\n",
    "Similar approach to previous block, difference is that we break the entire dataset into K different folds. On each run, the model will be trained on all the data from K-1 folds and tested on the remaining fold. "
   ]
  },
  {
   "cell_type": "code",
   "execution_count": 79,
   "id": "d32b8b80",
   "metadata": {},
   "outputs": [],
   "source": [
    "k = 10\n",
    "np.random.seed(seed=21)\n",
    "train_index = np.random.choice(k, size=len(y), replace=True)  # randomly assigning observations into folds\n",
    "cv_errors = pd.DataFrame(columns=range(1,k+1), index=range(1,len(X.columns) + 1))"
   ]
  },
  {
   "cell_type": "code",
   "execution_count": 80,
   "id": "d450a19f",
   "metadata": {},
   "outputs": [],
   "source": [
    "# training and testing on each fold\n",
    "models_cv = pd.DataFrame(columns=[\"RSS\", \"Model\"])\n",
    "for j in range(1,k+1):\n",
    "    feature_list = []\n",
    "    for i in range(1,len(X.columns)+1):\n",
    "        models_cv.loc[i] = forward_select_validation(y[train_index != (j-1)], X[train_index != (j-1)], \n",
    "                                                     y[train_index == (j-1)],X[train_index == (j-1)], \n",
    "                                                     feature_list)\n",
    "        \n",
    "        cv_errors[j][i] = models_cv.loc[i][\"RSS\"]\n",
    "        feature_list = models_cv.loc[i][\"Model\"].model.exog_names"
   ]
  },
  {
   "cell_type": "code",
   "execution_count": 81,
   "id": "f545bb48",
   "metadata": {},
   "outputs": [
    {
     "data": {
      "image/png": "[encoded data removed]",
      "text/plain": [
       "<Figure size 640x480 with 1 Axes>"
      ]
     },
     "metadata": {},
     "output_type": "display_data"
    }
   ],
   "source": [
    "# plotting the performance of each model \n",
    "cv_errors_mean = cv_errors.mean(axis = 1)\n",
    "plt.figure()\n",
    "plt.plot(cv_errors_mean)\n",
    "plt.xlabel('# features')\n",
    "plt.ylabel('RSS')\n",
    "plt.show()"
   ]
  },
  {
   "cell_type": "code",
   "execution_count": 83,
   "id": "bef0d5c8",
   "metadata": {},
   "outputs": [
    {
     "name": "stdout",
     "output_type": "stream",
     "text": [
      "                                 OLS Regression Results                                \n",
      "=======================================================================================\n",
      "Dep. Variable:                 Salary   R-squared (uncentered):                   0.771\n",
      "Model:                            OLS   Adj. R-squared (uncentered):              0.766\n",
      "Method:                 Least Squares   F-statistic:                              155.0\n",
      "Date:                Tue, 23 May 2023   Prob (F-statistic):                    1.40e-71\n",
      "Time:                        12:57:41   Log-Likelihood:                         -1704.1\n",
      "No. Observations:                 235   AIC:                                      3418.\n",
      "Df Residuals:                     230   BIC:                                      3435.\n",
      "Df Model:                           5                                                  \n",
      "Covariance Type:            nonrobust                                                  \n",
      "==============================================================================\n",
      "                 coef    std err          t      P>|t|      [0.025      0.975]\n",
      "------------------------------------------------------------------------------\n",
      "Walks          6.3470      0.934      6.795      0.000       4.507       8.187\n",
      "CHits          1.3658      0.353      3.869      0.000       0.670       2.061\n",
      "CAtBat        -0.2803      0.103     -2.713      0.007      -0.484      -0.077\n",
      "PutOuts        0.2629      0.083      3.167      0.002       0.099       0.426\n",
      "CWalks        -0.1555      0.228     -0.681      0.496      -0.605       0.294\n",
      "==============================================================================\n",
      "Omnibus:                       95.002   Durbin-Watson:                   2.014\n",
      "Prob(Omnibus):                  0.000   Jarque-Bera (JB):              564.877\n",
      "Skew:                           1.469   Prob(JB):                    2.18e-123\n",
      "Kurtosis:                      10.004   Cond. No.                         153.\n",
      "==============================================================================\n",
      "\n",
      "Notes:\n",
      "[1] R² is computed without centering (uncentered) since the model does not contain a constant.\n",
      "[2] Standard Errors assume that the covariance matrix of the errors is correctly specified.\n"
     ]
    }
   ],
   "source": [
    "# taking a closer look at the summary of the model with 5 features, given the plot shows it produces the lowest RRS\n",
    "print(models_cv.loc[5, \"Model\"].summary())"
   ]
  },
  {
   "cell_type": "markdown",
   "id": "08a6562a",
   "metadata": {},
   "source": [
    "### 6. Regularisation methods\n",
    "\n",
    "Regularisation methods are techniques to improve the generalization performance of models. They introduce additional constraints or penalties to the model's objective function, discouraging excessive complexity and reducing the impact of noisy or irrelevant features. Regularisation helps find a balance between fitting the training data well and avoiding overfitting, resulting in models that perform better on unseen data.\n",
    "\n",
    "<b>Regularisation methods (e.g., L1 regularisation: LASSO, L2 regularisation: ridge regression) may be preferred in the following circumstances:</b>\n",
    "\n",
    "- When dealing with high-dimensional data: Regularization methods are effective when the number of features is large compared to the number of samples. They apply a penalty term that shrinks the coefficients of less important features, effectively performing automatic feature selection and reducing overfitting.\n",
    "- When dealing with multicollinearity: Regularization methods are robust to multicollinearity, which occurs when features are highly correlated. They can handle situations where features are interrelated by shrinking their coefficients and selecting the most informative ones.\n",
    "- When a balance between simplicity and predictive performance is desired: Regularization methods strike a balance between model simplicity and predictive performance. They can help prevent overfitting by imposing a penalty on the complexity of the model, making them suitable when you want to avoid overly complex models.\n",
    "\n",
    "### Ridge regression\n",
    "\n",
    "Ridge regression, also known as Tikhonov regularisation, is a linear regression technique that addresses the problem of multicollinearity (high correlation among predictor variables) and overfitting in the ordinary least squares (OLS) regression. It introduces a regularisation term to the loss function, which helps stabilise and improve the performance of the model.\n",
    "\n",
    "In ridge regression, the goal is to minimize the sum of squared errors between the predicted values and the actual values, similar to OLS regression. However, ridge regression adds a penalty term that is proportional to the square of the magnitude of the regression coefficients. This penalty term encourages the coefficients to be smaller, reducing their impact on the model's output.\n",
    "\n",
    "In ridge regression, the regularisation parameter (alpha) controls the strength of the penalty term. It determines the trade-off between fitting the data well and keeping the coefficients small. A higher value of alpha results in more shrinkage of the coefficients, effectively reducing their impact on the model.\n",
    "\n",
    "<b>Key characteristics and benefits of ridge regression include:</b>\n",
    "\n",
    "Shrinking coefficients: Ridge regression shrinks the regression coefficients towards zero, but does not set them exactly to zero (unless α is extremely high). This makes ridge regression suitable for situations where all variables may be relevant to some extent.\n",
    "\n",
    "Multicollinearity handling: Ridge regression is particularly effective in handling multicollinearity, where predictor variables are highly correlated. By reducing the impact of correlated variables, it helps stabilize the model and improves its performance.\n",
    "\n",
    "Bias-variance trade-off: Ridge regression balances the trade-off between bias and variance. It reduces the variance of the model by shrinking the coefficients, but introduces a slight bias due to the penalty term. This can lead to better predictive performance on unseen data compared to OLS regression.\n",
    "\n",
    "Regularization path: Ridge regression provides a regularization path, allowing the effect of different values of α to be observed on the coefficients. This can help in selecting an optimal value of α through cross-validation or other model selection techniques."
   ]
  },
  {
   "cell_type": "code",
   "execution_count": 84,
   "id": "87041ebe",
   "metadata": {},
   "outputs": [
    {
     "name": "stdout",
     "output_type": "stream",
     "text": [
      "[1.00000000e+10 7.56463328e+09 5.72236766e+09 4.32876128e+09\n",
      " 3.27454916e+09 2.47707636e+09 1.87381742e+09 1.41747416e+09\n",
      " 1.07226722e+09 8.11130831e+08 6.13590727e+08 4.64158883e+08\n",
      " 3.51119173e+08 2.65608778e+08 2.00923300e+08 1.51991108e+08\n",
      " 1.14975700e+08 8.69749003e+07 6.57933225e+07 4.97702356e+07\n",
      " 3.76493581e+07 2.84803587e+07 2.15443469e+07 1.62975083e+07\n",
      " 1.23284674e+07 9.32603347e+06 7.05480231e+06 5.33669923e+06\n",
      " 4.03701726e+06 3.05385551e+06 2.31012970e+06 1.74752840e+06\n",
      " 1.32194115e+06 1.00000000e+06 7.56463328e+05 5.72236766e+05\n",
      " 4.32876128e+05 3.27454916e+05 2.47707636e+05 1.87381742e+05\n",
      " 1.41747416e+05 1.07226722e+05 8.11130831e+04 6.13590727e+04\n",
      " 4.64158883e+04 3.51119173e+04 2.65608778e+04 2.00923300e+04\n",
      " 1.51991108e+04 1.14975700e+04 8.69749003e+03 6.57933225e+03\n",
      " 4.97702356e+03 3.76493581e+03 2.84803587e+03 2.15443469e+03\n",
      " 1.62975083e+03 1.23284674e+03 9.32603347e+02 7.05480231e+02\n",
      " 5.33669923e+02 4.03701726e+02 3.05385551e+02 2.31012970e+02\n",
      " 1.74752840e+02 1.32194115e+02 1.00000000e+02 7.56463328e+01\n",
      " 5.72236766e+01 4.32876128e+01 3.27454916e+01 2.47707636e+01\n",
      " 1.87381742e+01 1.41747416e+01 1.07226722e+01 8.11130831e+00\n",
      " 6.13590727e+00 4.64158883e+00 3.51119173e+00 2.65608778e+00\n",
      " 2.00923300e+00 1.51991108e+00 1.14975700e+00 8.69749003e-01\n",
      " 6.57933225e-01 4.97702356e-01 3.76493581e-01 2.84803587e-01\n",
      " 2.15443469e-01 1.62975083e-01 1.23284674e-01 9.32603347e-02\n",
      " 7.05480231e-02 5.33669923e-02 4.03701726e-02 3.05385551e-02\n",
      " 2.31012970e-02 1.74752840e-02 1.32194115e-02 1.00000000e-02]\n"
     ]
    }
   ],
   "source": [
    "alphas = 10**np.linspace(10,-2,100)\n",
    "print(alphas)"
   ]
  },
  {
   "cell_type": "markdown",
   "id": "450c5dc5",
   "metadata": {},
   "source": [
    "<b> Notes on interpretation </b>\n",
    "\n",
    "The code <code>alphas = 10**np.linspace(10,-2,100)</code> generates an array of alpha values that will be used for this ridge regression. Specifically, it creates an array of 100 values evenly spaced between 10 and -2. It then applies a power of 10 to each value in the array. The resulting array will contain 100 alpha values ranging from 10^10 to 10^-2.\n",
    "\n",
    "By generating a range of alpha values in this way, you can explore a wide range of regularisation strengths during ridge regression. The alpha values will be used to fit and evaluate ridge regression models with different levels of regularisation, allowing you to find the optimal alpha that balances model complexity and performance."
   ]
  },
  {
   "cell_type": "code",
   "execution_count": 89,
   "id": "a9456f0c",
   "metadata": {},
   "outputs": [],
   "source": [
    "ridge = Ridge(fit_intercept=True) # initialises a Ridge regression model. The 'fit_intercept=True' parameter indicates that an intercept term should be included in the model, and normalize=True specifies that the features should be normalized before fitting the model.\n",
    "coeffs = []\n",
    "intercepts = []\n",
    "# ^ empty lists will be used to store the coefficients and intercepts obtained from ridge regression for each alpha value\n",
    "\n",
    "scaler = StandardScaler()\n",
    "X_normalized = scaler.fit_transform(X)\n",
    "# ^ normalising the features before fitting the model\n",
    "\n",
    "for a in alphas:\n",
    "    ridge.set_params(alpha=a)\n",
    "    ridge.fit(X, y)\n",
    "    coeffs.append(ridge.coef_)\n",
    "    intercepts.append(ridge.intercept_)"
   ]
  },
  {
   "cell_type": "markdown",
   "id": "1852e456",
   "metadata": {},
   "source": [
    "#### Notes on interpretation\n",
    "By looping over the range of alpha values, the code performs ridge regression multiple times, each time with a different level of regularization. It collects the coefficients and intercepts obtained from each ridge regression model and stores them in the coeffs and intercepts lists, respectively. This allows you to examine how the coefficients and intercept change as the regularization strength (alpha) varies."
   ]
  },
  {
   "cell_type": "code",
   "execution_count": 90,
   "id": "6ef262cd",
   "metadata": {},
   "outputs": [
    {
     "name": "stdout",
     "output_type": "stream",
     "text": [
      "100\n",
      "19\n",
      "100\n",
      "498.29708183837045\n"
     ]
    }
   ],
   "source": [
    "print(len(coeffs))\n",
    "print(len(coeffs[0]))\n",
    "print(len(intercepts))\n",
    "print(intercepts[0])"
   ]
  },
  {
   "cell_type": "code",
   "execution_count": 92,
   "id": "0aeb3656",
   "metadata": {},
   "outputs": [
    {
     "data": {
      "image/png": "[encoded data removed]",
      "text/plain": [
       "<Figure size 640x480 with 1 Axes>"
      ]
     },
     "metadata": {},
     "output_type": "display_data"
    }
   ],
   "source": [
    "# plotting how the weights (coefficients) change as the regularization parameter alpha varies. \n",
    "\n",
    "ax = plt.gca() # getting the current axes instance\n",
    "ax.plot(alphas, coeffs) # plotting the coefficients (coeffs) against the alpha values (alphas). Each line in the plot represents the coefficients for a specific feature\n",
    "ax.set_xscale('log') # setting  the x-axis scale to logarithmic. This is commonly done when plotting alpha values in ridge regression since the alpha values usually span a wide range.\n",
    "plt.axis('tight') # adjusting the axis limits to fit the data tightly.\n",
    "plt.xlabel('alpha')\n",
    "plt.ylabel('weights')\n",
    "plt.show()"
   ]
  },
  {
   "cell_type": "code",
   "execution_count": 94,
   "id": "0f7bfe30",
   "metadata": {},
   "outputs": [
    {
     "name": "stdout",
     "output_type": "stream",
     "text": [
      "11497.569953977356\n",
      "6.715562738164365\n",
      "[-1.45023602  4.5954725  -0.13653202  0.5127596   0.55286948  4.08151178\n",
      " -0.02954628 -0.27034404  0.55217839  0.18239527  1.16659294  0.64526686\n",
      " -0.51646782  0.29365016  0.32321952 -1.21748578 -0.24313669  0.64184912\n",
      " -0.1761547 ]\n"
     ]
    }
   ],
   "source": [
    "# looking at an example\n",
    "sample = 49\n",
    "print(alphas[sample])\n",
    "print(math.sqrt(sum(map(lambda x:x*x, coeffs[sample]))))\n",
    "print(coeffs[sample])"
   ]
  },
  {
   "cell_type": "code",
   "execution_count": 96,
   "id": "d3a7801d",
   "metadata": {},
   "outputs": [],
   "source": [
    "# splitting data into test / train sets in order to estimate test error for ridge regression\n",
    "X_train, X_test , y_train, y_test = train_test_split(X, y, test_size=0.66) # using Python built-in function"
   ]
  },
  {
   "cell_type": "code",
   "execution_count": 97,
   "id": "7cbd3e4c",
   "metadata": {},
   "outputs": [
    {
     "name": "stdout",
     "output_type": "stream",
     "text": [
      "AtBat          -0.490220\n",
      "Hits            3.321209\n",
      "HmRun           7.159825\n",
      "Runs            2.835042\n",
      "RBI            -3.503921\n",
      "Walks          -1.779500\n",
      "Years          14.381681\n",
      "CAtBat         -0.631908\n",
      "CHits           2.179848\n",
      "CHmRun          0.601805\n",
      "CRuns          -0.564495\n",
      "CRBI            0.582052\n",
      "CWalks          0.827004\n",
      "PutOuts         0.337649\n",
      "Assists         0.196889\n",
      "Errors         -2.321242\n",
      "League_A      -47.917668\n",
      "Division_E     -0.733416\n",
      "NewLeague_A    28.322887\n",
      "dtype: float64\n",
      "132956.76478350602\n"
     ]
    }
   ],
   "source": [
    "# training model and creating predictions from test dataset \n",
    "ridge = Ridge(fit_intercept=True, alpha=4)\n",
    "scaler = StandardScaler()\n",
    "X_normalized = scaler.fit_transform(X)\n",
    "ridge.fit(X_train, y_train) # fitting a ridge regression on the training data\n",
    "pred = ridge.predict(X_test) # using model to predict the test data\n",
    "print(pd.Series(ridge.coef_, index=X.columns)) \n",
    "print(mean_squared_error(y_test, pred))        "
   ]
  },
  {
   "cell_type": "code",
   "execution_count": 109,
   "id": "f5265cba",
   "metadata": {},
   "outputs": [
    {
     "data": {
      "text/plain": [
       "1321941.1484660287"
      ]
     },
     "execution_count": 109,
     "metadata": {},
     "output_type": "execute_result"
    }
   ],
   "source": [
    "# not sure what this is doing or if it is right? \n",
    "\n",
    "# using CV to select best alpha value. Reporting on test set performance as the final performance metric  \n",
    "ridgecv =  RidgeCV(alphas, scoring='neg_mean_squared_error')\n",
    "scaler = StandardScaler()\n",
    "X_normalized = scaler.fit_transform(X)\n",
    "ridgecv.fit(X_train, y_train)\n",
    "ridgecv.alpha_"
   ]
  },
  {
   "cell_type": "code",
   "execution_count": 108,
   "id": "8ab7f47f",
   "metadata": {},
   "outputs": [
    {
     "data": {
      "text/plain": [
       "132922.0231444014"
      ]
     },
     "execution_count": 108,
     "metadata": {},
     "output_type": "execute_result"
    }
   ],
   "source": [
    "# not sure what this is doing or if it is right? \n",
    "\n",
    "# producing the mean squred error of the selected alpha on test dataset\n",
    "ridge_best = Ridge(alpha=ridgecv.alpha_)\n",
    "scaler = StandardScaler()\n",
    "X_normalized = scaler.fit_transform(X)\n",
    "ridge_best.fit(X_train, y_train)\n",
    "mean_squared_error(y_test, ridge_best.predict(X_test))"
   ]
  },
  {
   "cell_type": "code",
   "execution_count": 107,
   "id": "9a130476",
   "metadata": {},
   "outputs": [
    {
     "data": {
      "text/plain": [
       "AtBat          0.353450\n",
       "Hits           0.176878\n",
       "HmRun          0.025462\n",
       "Runs           0.105949\n",
       "RBI            0.071410\n",
       "Walks          0.035664\n",
       "Years         -0.001023\n",
       "CAtBat        -0.040497\n",
       "CHits          0.229018\n",
       "CHmRun         0.067474\n",
       "CRuns          0.171831\n",
       "CRBI           0.198386\n",
       "CWalks         0.082843\n",
       "PutOuts        0.385379\n",
       "Assists       -0.078019\n",
       "Errors        -0.008235\n",
       "League_A       0.000173\n",
       "Division_E     0.000754\n",
       "NewLeague_A    0.000802\n",
       "dtype: float64"
      ]
     },
     "execution_count": 107,
     "metadata": {},
     "output_type": "execute_result"
    }
   ],
   "source": [
    "# examining values of coefficients (a lot will be tiny but not 0)\n",
    "pd.Series(ridge_best.coef_, index=X.columns)"
   ]
  },
  {
   "cell_type": "markdown",
   "id": "8d5514c2",
   "metadata": {},
   "source": [
    "### LASSO\n",
    "\n",
    "Adds a penalty term to the objective function proportional to the absolute value of the regression coefficients. The LASSO regularisation term encourages sparsity in the model by driving some of the coefficients to exactly zero. This leads to feature selection, as irrelevant features are effectively excluded from the model. LASSO is particularly useful when dealing with high-dimensional datasets where only a subset of features is expected to be relevant."
   ]
  },
  {
   "cell_type": "code",
   "execution_count": 122,
   "id": "43de2a53",
   "metadata": {},
   "outputs": [
    {
     "data": {
      "image/png": "[encoded data removed]",
      "text/plain": [
       "<Figure size 640x480 with 1 Axes>"
      ]
     },
     "metadata": {},
     "output_type": "display_data"
    },
    {
     "data": {
      "text/plain": [
       "137193.87990711155"
      ]
     },
     "execution_count": 122,
     "metadata": {},
     "output_type": "execute_result"
    }
   ],
   "source": [
    "lasso= Lasso(max_iter=100000) \n",
    "coeffs = []\n",
    "\n",
    "scaler = StandardScaler()\n",
    "X_normalized = scaler.fit_transform(X)\n",
    "\n",
    "for a in alphas:\n",
    "    lasso.set_params(alpha=a)\n",
    "    lasso.fit(X_train, y_train)\n",
    "    coeffs.append(lasso.coef_)\n",
    "    \n",
    "ax = plt.gca()\n",
    "ax.plot(alphas, coeffs)\n",
    "ax.set_xscale('log')\n",
    "plt.axis('tight')\n",
    "plt.xlabel('alpha')\n",
    "plt.ylabel('weights')\n",
    "plt.show()\n",
    "\n",
    "lassocv = LassoCV(alphas=None, cv=10, max_iter=100000)\n",
    "lassocv.fit(X_train, y_train)\n",
    "scaler = StandardScaler()\n",
    "X_normalized = scaler.fit_transform(X)\n",
    "\n",
    "lasso.set_params(alpha=lassocv.alpha_)\n",
    "lasso.fit(X_train, y_train)\n",
    "mean_squared_error(y_test, lasso.predict(X_test))"
   ]
  },
  {
   "cell_type": "code",
   "execution_count": 123,
   "id": "130667f7",
   "metadata": {},
   "outputs": [
    {
     "data": {
      "text/plain": [
       "AtBat          0.450411\n",
       "Hits           0.000000\n",
       "HmRun          0.000000\n",
       "Runs           0.000000\n",
       "RBI            0.000000\n",
       "Walks          0.000000\n",
       "Years         -0.000000\n",
       "CAtBat         0.000000\n",
       "CHits          0.197706\n",
       "CHmRun         0.000000\n",
       "CRuns          0.000000\n",
       "CRBI           0.191474\n",
       "CWalks         0.000000\n",
       "PutOuts        0.405333\n",
       "Assists       -0.000000\n",
       "Errors        -0.000000\n",
       "League_A       0.000000\n",
       "Division_E     0.000000\n",
       "NewLeague_A    0.000000\n",
       "dtype: float64"
      ]
     },
     "execution_count": 123,
     "metadata": {},
     "output_type": "execute_result"
    }
   ],
   "source": [
    "# checking that some of the coefficients have reduced to 0\n",
    "pd.Series(lasso.coef_, index=X.columns)"
   ]
  },
  {
   "cell_type": "markdown",
   "id": "35c0706c",
   "metadata": {},
   "source": [
    "### 8. Principal component regression\n",
    "Principal Component Regression (PCR) is a regression technique that combines Principal Component Analysis (PCA) with linear regression. It is used when dealing with datasets that have a high number of correlated predictor variables and aims to address multicollinearity issues that can affect the performance and interpretability of linear regression models.\n",
    "\n",
    "<b>The steps involved in PCR include:</b>\n",
    "\n",
    "- Principal Component Analysis (PCA): PCA is applied to the predictor variables to transform them into a new set of uncorrelated variables called principal components. Each principal component is a linear combination of the original variables and represents a different direction or axis in the data space.\n",
    "\n",
    "- Dimensionality reduction: In PCR, the number of principal components retained is typically lower than the total number of original variables. This dimensionality reduction helps capture most of the variance in the data while reducing multicollinearity.\n",
    "\n",
    "- Linear regression on principal components: The principal components are then used as the predictors in a linear regression model. The dependent variable is regressed against these transformed predictors.\n",
    "\n",
    "- Model estimation and interpretation: The linear regression model is estimated using techniques such as ordinary least squares (OLS). The coefficients obtained in the regression model represent the relationship between the dependent variable and the principal components, rather than the original predictor variables.\n",
    "\n"
   ]
  },
  {
   "cell_type": "code",
   "execution_count": 141,
   "id": "c8f72ae8",
   "metadata": {},
   "outputs": [],
   "source": [
    "def pcr(X,y,pc): \n",
    "    # initialising a PCA (Principal Component Analysis) object\n",
    "    pca = PCA() \n",
    "    # applying PCA to the scaled input data (scale(X)) and performs dimensionality reduction by keeping only the first pc principal components\n",
    "    X_pca = pca.fit_transform(scale(X))[:,:pc]\n",
    "    # creating linear regression object\n",
    "    regr = linear_model.LinearRegression()\n",
    "    # fitting the linear regression model to the transformed data (X_pca) and the target variable (y). It finds the optimal coefficients that represent the linear relationship between the principal components and the target variable.\n",
    "    regr.fit(X_pca, y)\n",
    "    # predicting the target variable (y) using the trained linear regression model and the transformed data (X_pca)\n",
    "    y_train = regr.predict(X_pca)\n",
    "    # performing cross-validation using the linear regression model and the transformed data\n",
    "    y_cv = cross_val_predict(regr, X_pca, y, cv=20)\n",
    "    # calculating the coefficient of determination (R-squared) between the actual target values (y) and the predicted values for the training data (y_train)\n",
    "    score_train = r2_score(y, y_train)\n",
    "    # calculating R-squared between the actual target values (y) and the predicted values obtained from cross-validation (y_cv).\n",
    "    score_cv = r2_score(y, y_cv) \n",
    "    # calculating the mean squared error between the actual target values (y) and the predicted values for the training data (y_train)\n",
    "    mse_train = mean_squared_error(y, y_train) \n",
    "    # calculating the mean squared error between the actual target values (y) and the predicted values obtained from cross-validation (y_cv).\n",
    "    mse_cv = mean_squared_error(y, y_cv)\n",
    "    # returning a tuple of the items shown\n",
    "    return(y_cv, score_train, score_cv, mse_train, mse_cv)"
   ]
  },
  {
   "cell_type": "code",
   "execution_count": 130,
   "id": "88bb5a13",
   "metadata": {
    "scrolled": false
   },
   "outputs": [
    {
     "data": {
      "image/png": "[encoded data removed]",
      "text/plain": [
       "<Figure size 640x480 with 1 Axes>"
      ]
     },
     "metadata": {},
     "output_type": "display_data"
    }
   ],
   "source": [
    "mse_train = []\n",
    "mse_cv = []\n",
    "\n",
    "# calculate MSE using CV for the 19 principle components, adding one component at the time.\n",
    "for i in np.arange(1, 20):\n",
    "    results =  pcr(X,y,i)\n",
    "    mse_train.append(results[3])\n",
    "    mse_cv.append(results[4])\n",
    "    \n",
    "# plot results    \n",
    "plt.plot(np.arange(1, 20), mse_cv, '-v', label = 'Validation_MSE')\n",
    "plt.plot(np.arange(1, 20), mse_train, '-v', label = 'Train_MSE')\n",
    "plt.xlabel('Number of principal components in regression')\n",
    "plt.ylabel('MSE')\n",
    "plt.title('Salary')\n",
    "plt.xlim(left=-1)\n",
    "plt.legend()\n",
    "plt.show()"
   ]
  },
  {
   "cell_type": "code",
   "execution_count": 131,
   "id": "35f87b1b",
   "metadata": {},
   "outputs": [
    {
     "data": {
      "text/plain": [
       "126388.68808584691"
      ]
     },
     "execution_count": 131,
     "metadata": {},
     "output_type": "execute_result"
    }
   ],
   "source": [
    "# Moving forward with 6 PCs\n",
    "\n",
    "pcs = 6\n",
    "X_train, X_test , y_train, y_test = train_test_split(X, y, test_size=0.66)\n",
    "\n",
    "pca2 = PCA()\n",
    "# scale the data\n",
    "X_reduced_train = pca2.fit_transform(scale(X_train))\n",
    "X_reduced_test = pca2.transform(scale(X_test))[:,:pcs]\n",
    "# train regression model on training data \n",
    "regr = linear_model.LinearRegression()\n",
    "regr.fit(X_reduced_train[:,:6], y_train)\n",
    "# prediction with test data\n",
    "pred = regr.predict(X_reduced_test)\n",
    "mean_squared_error(y_test, pred)"
   ]
  },
  {
   "cell_type": "code",
   "execution_count": 132,
   "id": "0f3c42ab",
   "metadata": {},
   "outputs": [
    {
     "data": {
      "text/plain": [
       "array([ 38.31423957,  60.15531541,  70.8416746 ,  79.03419435,\n",
       "        84.29027516,  88.63477938,  92.26288766,  94.96304322,\n",
       "        96.28269124,  97.25541298,  97.97775424,  98.64870031,\n",
       "        99.15178693,  99.4730334 ,  99.74659124,  99.89398793,\n",
       "        99.96815949,  99.99375108, 100.        ])"
      ]
     },
     "execution_count": 132,
     "metadata": {},
     "output_type": "execute_result"
    }
   ],
   "source": [
    "np.cumsum(pca.explained_variance_ratio_) * 100"
   ]
  },
  {
   "cell_type": "markdown",
   "id": "5943c7df",
   "metadata": {},
   "source": [
    "### 9. Partial least squares regression\n",
    "Scikit-learn has function PLSRegression for partial least squares regression. PLSRegression is a technique for linear regression that is particularly useful for dealing with multicollinearity and high-dimensional data.\n",
    "\n",
    "Despite the built-in function, we still need to write a few line of code to do the cross validation. The logic is same as before."
   ]
  },
  {
   "cell_type": "code",
   "execution_count": 136,
   "id": "c6023a97",
   "metadata": {},
   "outputs": [
    {
     "data": {
      "text/plain": [
       "153023.87101730768"
      ]
     },
     "execution_count": 136,
     "metadata": {},
     "output_type": "execute_result"
    }
   ],
   "source": [
    "X_train, X_test , y_train, y_test = train_test_split(X, y, test_size=0.66)\n",
    "pls = PLSRegression(n_components=2) #  initializes a PLSRegression model with n_components=2. \n",
    "pls.fit(scale(X_train), y_train) # line fits the PLSRegression model to the training data. The fit method trains the model by finding the optimal linear relationship between the scaled independent variables (scale(X_train)) and the dependent variable (y_train).\n",
    "\n",
    "mean_squared_error(y_test, pls.predict(scale(X_test))) #  calculates the MSE between the actual target values (y_test) and the predicted target values obtained from the PLSRegression model "
   ]
  }
 ],
 "metadata": {
  "kernelspec": {
   "display_name": "Python 3 (ipykernel)",
   "language": "python",
   "name": "python3"
  },
  "language_info": {
   "codemirror_mode": {
    "name": "ipython",
    "version": 3
   },
   "file_extension": ".py",
   "mimetype": "text/x-python",
   "name": "python",
   "nbconvert_exporter": "python",
   "pygments_lexer": "ipython3",
   "version": "3.10.9"
  }
 },
 "nbformat": 4,
 "nbformat_minor": 5
}
