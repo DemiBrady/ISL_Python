{
 "cells": [
  {
   "cell_type": "markdown",
   "id": "1a1e5d26",
   "metadata": {},
   "source": [
    "## Ch4 lab: classification methods"
   ]
  },
  {
   "cell_type": "markdown",
   "id": "d97d43c8",
   "metadata": {},
   "source": [
    "### 1 Libraries and dataset(s)"
   ]
  },
  {
   "cell_type": "code",
   "execution_count": 1,
   "id": "ad56e253",
   "metadata": {},
   "outputs": [],
   "source": [
    "import numpy as np # numerical computing library for working with arrays, linear algebra etc\n",
    "import matplotlib.pyplot as plt # for creating plots\n",
    "import pandas as pd  # data manipulation and analysis library for creating data structures \n",
    "import math\n",
    "from patsy import dmatrices\n",
    "import statsmodels.discrete.discrete_model as sm\n",
    "import statsmodels.formula.api as smf\n",
    "import statsmodels.api as sma\n",
    "from statsmodels.graphics.regressionplots import * # imports all\n",
    "from sklearn import datasets, linear_model\n",
    "from sklearn.metrics import confusion_matrix\n",
    "from sklearn.discriminant_analysis import LinearDiscriminantAnalysis as LDA\n",
    "from sklearn.discriminant_analysis import QuadraticDiscriminantAnalysis as QDA\n",
    "from sklearn.naive_bayes import GaussianNB as NB\n",
    "from sklearn.neighbors import KNeighborsClassifier as KNN\n",
    "from sklearn import preprocessing"
   ]
  },
  {
   "cell_type": "code",
   "execution_count": 2,
   "id": "512e0dfe",
   "metadata": {},
   "outputs": [],
   "source": [
    "Smarket = pd.read_csv('data/Smarket.csv', header=0)"
   ]
  },
  {
   "cell_type": "markdown",
   "id": "4811d520",
   "metadata": {},
   "source": [
    "#### Dataset description\n",
    "\n",
    "Smarket contains daily stock market returns for the S&P 500 index from 2001 to 2005 (a total of 1,250 observations). Variables include:\n",
    "\n",
    "- <b>'Year'</b> : the year of the observation.\n",
    "- <b>'Lag1', 'Lag2, 'Lag3', 'Lag4', 'Lag5'</b>: the % returns for each lagged day, where 'Lag1' corresponds to the % return for the previous day,  'Lag2' corresponds to the % return for 2 days previous, and so on. \n",
    "- <b>'Volume'</b>: the number of shares traded on the previous day, in billions.\n",
    "- <b>'Today'</b>: the % returns for the current day\n",
    "- <b>'Direction'</b>: a binary variable indicating whether the market went up or down on the current day.\n",
    "\n",
    "The goal is to use the dataset to predict the direction of the stock market based on the previou day's returns and the current day's volume. \n",
    "\n",
    "Note: the S&P 500 index tracks the stock performance of the 500 largest companies listed on the US stock exchange."
   ]
  },
  {
   "cell_type": "code",
   "execution_count": 3,
   "id": "11f9e71e",
   "metadata": {},
   "outputs": [
    {
     "data": {
      "text/html": [
       "<div>\n",
       "<style scoped>\n",
       "    .dataframe tbody tr th:only-of-type {\n",
       "        vertical-align: middle;\n",
       "    }\n",
       "\n",
       "    .dataframe tbody tr th {\n",
       "        vertical-align: top;\n",
       "    }\n",
       "\n",
       "    .dataframe thead th {\n",
       "        text-align: right;\n",
       "    }\n",
       "</style>\n",
       "<table border=\"1\" class=\"dataframe\">\n",
       "  <thead>\n",
       "    <tr style=\"text-align: right;\">\n",
       "      <th></th>\n",
       "      <th>Year</th>\n",
       "      <th>Lag1</th>\n",
       "      <th>Lag2</th>\n",
       "      <th>Lag3</th>\n",
       "      <th>Lag4</th>\n",
       "      <th>Lag5</th>\n",
       "      <th>Volume</th>\n",
       "      <th>Today</th>\n",
       "      <th>Direction</th>\n",
       "    </tr>\n",
       "  </thead>\n",
       "  <tbody>\n",
       "    <tr>\n",
       "      <th>0</th>\n",
       "      <td>2001</td>\n",
       "      <td>0.381</td>\n",
       "      <td>-0.192</td>\n",
       "      <td>-2.624</td>\n",
       "      <td>-1.055</td>\n",
       "      <td>5.010</td>\n",
       "      <td>1.1913</td>\n",
       "      <td>0.959</td>\n",
       "      <td>Up</td>\n",
       "    </tr>\n",
       "    <tr>\n",
       "      <th>1</th>\n",
       "      <td>2001</td>\n",
       "      <td>0.959</td>\n",
       "      <td>0.381</td>\n",
       "      <td>-0.192</td>\n",
       "      <td>-2.624</td>\n",
       "      <td>-1.055</td>\n",
       "      <td>1.2965</td>\n",
       "      <td>1.032</td>\n",
       "      <td>Up</td>\n",
       "    </tr>\n",
       "    <tr>\n",
       "      <th>2</th>\n",
       "      <td>2001</td>\n",
       "      <td>1.032</td>\n",
       "      <td>0.959</td>\n",
       "      <td>0.381</td>\n",
       "      <td>-0.192</td>\n",
       "      <td>-2.624</td>\n",
       "      <td>1.4112</td>\n",
       "      <td>-0.623</td>\n",
       "      <td>Down</td>\n",
       "    </tr>\n",
       "    <tr>\n",
       "      <th>3</th>\n",
       "      <td>2001</td>\n",
       "      <td>-0.623</td>\n",
       "      <td>1.032</td>\n",
       "      <td>0.959</td>\n",
       "      <td>0.381</td>\n",
       "      <td>-0.192</td>\n",
       "      <td>1.2760</td>\n",
       "      <td>0.614</td>\n",
       "      <td>Up</td>\n",
       "    </tr>\n",
       "    <tr>\n",
       "      <th>4</th>\n",
       "      <td>2001</td>\n",
       "      <td>0.614</td>\n",
       "      <td>-0.623</td>\n",
       "      <td>1.032</td>\n",
       "      <td>0.959</td>\n",
       "      <td>0.381</td>\n",
       "      <td>1.2057</td>\n",
       "      <td>0.213</td>\n",
       "      <td>Up</td>\n",
       "    </tr>\n",
       "  </tbody>\n",
       "</table>\n",
       "</div>"
      ],
      "text/plain": [
       "   Year   Lag1   Lag2   Lag3   Lag4   Lag5  Volume  Today Direction\n",
       "0  2001  0.381 -0.192 -2.624 -1.055  5.010  1.1913  0.959        Up\n",
       "1  2001  0.959  0.381 -0.192 -2.624 -1.055  1.2965  1.032        Up\n",
       "2  2001  1.032  0.959  0.381 -0.192 -2.624  1.4112 -0.623      Down\n",
       "3  2001 -0.623  1.032  0.959  0.381 -0.192  1.2760  0.614        Up\n",
       "4  2001  0.614 -0.623  1.032  0.959  0.381  1.2057  0.213        Up"
      ]
     },
     "execution_count": 3,
     "metadata": {},
     "output_type": "execute_result"
    }
   ],
   "source": [
    "Smarket.head()"
   ]
  },
  {
   "cell_type": "code",
   "execution_count": 4,
   "id": "a710ad9f",
   "metadata": {},
   "outputs": [
    {
     "data": {
      "text/plain": [
       "Index(['Year', 'Lag1', 'Lag2', 'Lag3', 'Lag4', 'Lag5', 'Volume', 'Today',\n",
       "       'Direction'],\n",
       "      dtype='object')"
      ]
     },
     "execution_count": 4,
     "metadata": {},
     "output_type": "execute_result"
    }
   ],
   "source": [
    "Smarket.columns"
   ]
  },
  {
   "cell_type": "code",
   "execution_count": 5,
   "id": "9162b84b",
   "metadata": {},
   "outputs": [
    {
     "data": {
      "text/plain": [
       "(1250, 9)"
      ]
     },
     "execution_count": 5,
     "metadata": {},
     "output_type": "execute_result"
    }
   ],
   "source": [
    "Smarket.shape"
   ]
  },
  {
   "cell_type": "code",
   "execution_count": 6,
   "id": "b6d34fe7",
   "metadata": {},
   "outputs": [
    {
     "name": "stderr",
     "output_type": "stream",
     "text": [
      "/var/folders/s2/kw61_ydd4hsfrljr6vzdssy00000gn/T/ipykernel_68844/3934422238.py:1: FutureWarning: The default value of numeric_only in DataFrame.corr is deprecated. In a future version, it will default to False. Select only valid columns or specify the value of numeric_only to silence this warning.\n",
      "  Smarket.corr() # computes the correlation matrix for the columns of the Smarket DataFrame.\n"
     ]
    },
    {
     "data": {
      "text/html": [
       "<div>\n",
       "<style scoped>\n",
       "    .dataframe tbody tr th:only-of-type {\n",
       "        vertical-align: middle;\n",
       "    }\n",
       "\n",
       "    .dataframe tbody tr th {\n",
       "        vertical-align: top;\n",
       "    }\n",
       "\n",
       "    .dataframe thead th {\n",
       "        text-align: right;\n",
       "    }\n",
       "</style>\n",
       "<table border=\"1\" class=\"dataframe\">\n",
       "  <thead>\n",
       "    <tr style=\"text-align: right;\">\n",
       "      <th></th>\n",
       "      <th>Year</th>\n",
       "      <th>Lag1</th>\n",
       "      <th>Lag2</th>\n",
       "      <th>Lag3</th>\n",
       "      <th>Lag4</th>\n",
       "      <th>Lag5</th>\n",
       "      <th>Volume</th>\n",
       "      <th>Today</th>\n",
       "    </tr>\n",
       "  </thead>\n",
       "  <tbody>\n",
       "    <tr>\n",
       "      <th>Year</th>\n",
       "      <td>1.000000</td>\n",
       "      <td>0.029700</td>\n",
       "      <td>0.030596</td>\n",
       "      <td>0.033195</td>\n",
       "      <td>0.035689</td>\n",
       "      <td>0.029788</td>\n",
       "      <td>0.539006</td>\n",
       "      <td>0.030095</td>\n",
       "    </tr>\n",
       "    <tr>\n",
       "      <th>Lag1</th>\n",
       "      <td>0.029700</td>\n",
       "      <td>1.000000</td>\n",
       "      <td>-0.026294</td>\n",
       "      <td>-0.010803</td>\n",
       "      <td>-0.002986</td>\n",
       "      <td>-0.005675</td>\n",
       "      <td>0.040910</td>\n",
       "      <td>-0.026155</td>\n",
       "    </tr>\n",
       "    <tr>\n",
       "      <th>Lag2</th>\n",
       "      <td>0.030596</td>\n",
       "      <td>-0.026294</td>\n",
       "      <td>1.000000</td>\n",
       "      <td>-0.025897</td>\n",
       "      <td>-0.010854</td>\n",
       "      <td>-0.003558</td>\n",
       "      <td>-0.043383</td>\n",
       "      <td>-0.010250</td>\n",
       "    </tr>\n",
       "    <tr>\n",
       "      <th>Lag3</th>\n",
       "      <td>0.033195</td>\n",
       "      <td>-0.010803</td>\n",
       "      <td>-0.025897</td>\n",
       "      <td>1.000000</td>\n",
       "      <td>-0.024051</td>\n",
       "      <td>-0.018808</td>\n",
       "      <td>-0.041824</td>\n",
       "      <td>-0.002448</td>\n",
       "    </tr>\n",
       "    <tr>\n",
       "      <th>Lag4</th>\n",
       "      <td>0.035689</td>\n",
       "      <td>-0.002986</td>\n",
       "      <td>-0.010854</td>\n",
       "      <td>-0.024051</td>\n",
       "      <td>1.000000</td>\n",
       "      <td>-0.027084</td>\n",
       "      <td>-0.048414</td>\n",
       "      <td>-0.006900</td>\n",
       "    </tr>\n",
       "    <tr>\n",
       "      <th>Lag5</th>\n",
       "      <td>0.029788</td>\n",
       "      <td>-0.005675</td>\n",
       "      <td>-0.003558</td>\n",
       "      <td>-0.018808</td>\n",
       "      <td>-0.027084</td>\n",
       "      <td>1.000000</td>\n",
       "      <td>-0.022002</td>\n",
       "      <td>-0.034860</td>\n",
       "    </tr>\n",
       "    <tr>\n",
       "      <th>Volume</th>\n",
       "      <td>0.539006</td>\n",
       "      <td>0.040910</td>\n",
       "      <td>-0.043383</td>\n",
       "      <td>-0.041824</td>\n",
       "      <td>-0.048414</td>\n",
       "      <td>-0.022002</td>\n",
       "      <td>1.000000</td>\n",
       "      <td>0.014592</td>\n",
       "    </tr>\n",
       "    <tr>\n",
       "      <th>Today</th>\n",
       "      <td>0.030095</td>\n",
       "      <td>-0.026155</td>\n",
       "      <td>-0.010250</td>\n",
       "      <td>-0.002448</td>\n",
       "      <td>-0.006900</td>\n",
       "      <td>-0.034860</td>\n",
       "      <td>0.014592</td>\n",
       "      <td>1.000000</td>\n",
       "    </tr>\n",
       "  </tbody>\n",
       "</table>\n",
       "</div>"
      ],
      "text/plain": [
       "            Year      Lag1      Lag2      Lag3      Lag4      Lag5    Volume  \\\n",
       "Year    1.000000  0.029700  0.030596  0.033195  0.035689  0.029788  0.539006   \n",
       "Lag1    0.029700  1.000000 -0.026294 -0.010803 -0.002986 -0.005675  0.040910   \n",
       "Lag2    0.030596 -0.026294  1.000000 -0.025897 -0.010854 -0.003558 -0.043383   \n",
       "Lag3    0.033195 -0.010803 -0.025897  1.000000 -0.024051 -0.018808 -0.041824   \n",
       "Lag4    0.035689 -0.002986 -0.010854 -0.024051  1.000000 -0.027084 -0.048414   \n",
       "Lag5    0.029788 -0.005675 -0.003558 -0.018808 -0.027084  1.000000 -0.022002   \n",
       "Volume  0.539006  0.040910 -0.043383 -0.041824 -0.048414 -0.022002  1.000000   \n",
       "Today   0.030095 -0.026155 -0.010250 -0.002448 -0.006900 -0.034860  0.014592   \n",
       "\n",
       "           Today  \n",
       "Year    0.030095  \n",
       "Lag1   -0.026155  \n",
       "Lag2   -0.010250  \n",
       "Lag3   -0.002448  \n",
       "Lag4   -0.006900  \n",
       "Lag5   -0.034860  \n",
       "Volume  0.014592  \n",
       "Today   1.000000  "
      ]
     },
     "execution_count": 6,
     "metadata": {},
     "output_type": "execute_result"
    }
   ],
   "source": [
    "Smarket.corr() # computes the correlation matrix for the columns of the Smarket DataFrame."
   ]
  },
  {
   "cell_type": "code",
   "execution_count": 7,
   "id": "2dcdaf22",
   "metadata": {},
   "outputs": [
    {
     "data": {
      "text/html": [
       "<div>\n",
       "<style scoped>\n",
       "    .dataframe tbody tr th:only-of-type {\n",
       "        vertical-align: middle;\n",
       "    }\n",
       "\n",
       "    .dataframe tbody tr th {\n",
       "        vertical-align: top;\n",
       "    }\n",
       "\n",
       "    .dataframe thead th {\n",
       "        text-align: right;\n",
       "    }\n",
       "</style>\n",
       "<table border=\"1\" class=\"dataframe\">\n",
       "  <thead>\n",
       "    <tr style=\"text-align: right;\">\n",
       "      <th></th>\n",
       "      <th>Lag1</th>\n",
       "      <th>Lag2</th>\n",
       "      <th>Lag3</th>\n",
       "      <th>Lag5</th>\n",
       "      <th>Volume</th>\n",
       "      <th>Today</th>\n",
       "    </tr>\n",
       "  </thead>\n",
       "  <tbody>\n",
       "    <tr>\n",
       "      <th>Lag1</th>\n",
       "      <td>1.000000</td>\n",
       "      <td>-0.026294</td>\n",
       "      <td>-0.010803</td>\n",
       "      <td>-0.005675</td>\n",
       "      <td>0.040910</td>\n",
       "      <td>-0.026155</td>\n",
       "    </tr>\n",
       "    <tr>\n",
       "      <th>Lag2</th>\n",
       "      <td>-0.026294</td>\n",
       "      <td>1.000000</td>\n",
       "      <td>-0.025897</td>\n",
       "      <td>-0.003558</td>\n",
       "      <td>-0.043383</td>\n",
       "      <td>-0.010250</td>\n",
       "    </tr>\n",
       "    <tr>\n",
       "      <th>Lag3</th>\n",
       "      <td>-0.010803</td>\n",
       "      <td>-0.025897</td>\n",
       "      <td>1.000000</td>\n",
       "      <td>-0.018808</td>\n",
       "      <td>-0.041824</td>\n",
       "      <td>-0.002448</td>\n",
       "    </tr>\n",
       "    <tr>\n",
       "      <th>Lag5</th>\n",
       "      <td>-0.005675</td>\n",
       "      <td>-0.003558</td>\n",
       "      <td>-0.018808</td>\n",
       "      <td>1.000000</td>\n",
       "      <td>-0.022002</td>\n",
       "      <td>-0.034860</td>\n",
       "    </tr>\n",
       "    <tr>\n",
       "      <th>Volume</th>\n",
       "      <td>0.040910</td>\n",
       "      <td>-0.043383</td>\n",
       "      <td>-0.041824</td>\n",
       "      <td>-0.022002</td>\n",
       "      <td>1.000000</td>\n",
       "      <td>0.014592</td>\n",
       "    </tr>\n",
       "    <tr>\n",
       "      <th>Today</th>\n",
       "      <td>-0.026155</td>\n",
       "      <td>-0.010250</td>\n",
       "      <td>-0.002448</td>\n",
       "      <td>-0.034860</td>\n",
       "      <td>0.014592</td>\n",
       "      <td>1.000000</td>\n",
       "    </tr>\n",
       "  </tbody>\n",
       "</table>\n",
       "</div>"
      ],
      "text/plain": [
       "            Lag1      Lag2      Lag3      Lag5    Volume     Today\n",
       "Lag1    1.000000 -0.026294 -0.010803 -0.005675  0.040910 -0.026155\n",
       "Lag2   -0.026294  1.000000 -0.025897 -0.003558 -0.043383 -0.010250\n",
       "Lag3   -0.010803 -0.025897  1.000000 -0.018808 -0.041824 -0.002448\n",
       "Lag5   -0.005675 -0.003558 -0.018808  1.000000 -0.022002 -0.034860\n",
       "Volume  0.040910 -0.043383 -0.041824 -0.022002  1.000000  0.014592\n",
       "Today  -0.026155 -0.010250 -0.002448 -0.034860  0.014592  1.000000"
      ]
     },
     "execution_count": 7,
     "metadata": {},
     "output_type": "execute_result"
    }
   ],
   "source": [
    "# Given error message above, creating subset of only numeric values\n",
    "Smarket_subset = Smarket[['Lag1', 'Lag2', 'Lag3', 'Lag5','Volume', 'Today']] \n",
    "Smarket_subset.corr()"
   ]
  },
  {
   "cell_type": "code",
   "execution_count": 8,
   "id": "1e82a2b3",
   "metadata": {},
   "outputs": [
    {
     "data": {
      "text/plain": [
       "<function matplotlib.pyplot.show(close=None, block=None)>"
      ]
     },
     "execution_count": 8,
     "metadata": {},
     "output_type": "execute_result"
    },
    {
     "data": {
      "image/png": "[encoded data removed]",
      "text/plain": [
       "<Figure size 640x480 with 1 Axes>"
      ]
     },
     "metadata": {},
     "output_type": "display_data"
    }
   ],
   "source": [
    "# plotting the volume column\n",
    "plt.plot(Smarket[['Volume']])\n",
    "plt.xlabel('Observation')\n",
    "plt.ylabel('Volume (billions)')\n",
    "plt.show"
   ]
  },
  {
   "cell_type": "markdown",
   "id": "cf050a66",
   "metadata": {},
   "source": [
    "### 2 Logistic regression"
   ]
  },
  {
   "cell_type": "code",
   "execution_count": 9,
   "id": "3b774271",
   "metadata": {},
   "outputs": [
    {
     "name": "stdout",
     "output_type": "stream",
     "text": [
      "      Direction[Down]  Direction[Up]\n",
      "0                 0.0            1.0\n",
      "1                 0.0            1.0\n",
      "2                 1.0            0.0\n",
      "3                 0.0            1.0\n",
      "4                 0.0            1.0\n",
      "...               ...            ...\n",
      "1245              0.0            1.0\n",
      "1246              1.0            0.0\n",
      "1247              0.0            1.0\n",
      "1248              1.0            0.0\n",
      "1249              1.0            0.0\n",
      "\n",
      "[1250 rows x 2 columns]\n"
     ]
    }
   ],
   "source": [
    "# Using 'dmatrices()' function in 'statsmodels' library to create two dataframes, 'y' and 'X'\n",
    "y, X = dmatrices('Direction~Lag1+Lag2+Lag3+Lag4+Lag5+Volume', Smarket, return_type = 'dataframe')\n",
    "print(y)"
   ]
  },
  {
   "cell_type": "markdown",
   "id": "2c1cbc22",
   "metadata": {},
   "source": [
    "<b> Notes on interpretation </b>\n",
    "\n",
    "- 'y' dataframe contains the response variable ('Direction') with two columns (0 = down, 1 = up).\n",
    "- The formula 'Direction~Lag1+Lag2+Lag3+Lag4+Lag5+Volume' specifies that 'Direction' is the response variable and that the others are predictors. \n",
    "- 'X' is the dataframe containing the predictor variables.\n",
    "\n",
    "<b>How does Python know X is the dataframe containing all the precitor variables? </b>\n",
    "- The 'dmatrices()' function returns two objects, 'y' and 'X'\n",
    "- This function operates by assigning the first returned object (here, 'Direction') to the first variable name on the left side of the assignment (here, 'y')  \n",
    "- The function also assigns the second returned object (here, 'Lag1+Lag2+Lag3+Lag4+Lag5+Volume') to the second variable name on the left side of the assignment('X')"
   ]
  },
  {
   "cell_type": "code",
   "execution_count": 10,
   "id": "9435ef33",
   "metadata": {},
   "outputs": [
    {
     "name": "stdout",
     "output_type": "stream",
     "text": [
      "Optimization terminated successfully.\n",
      "         Current function value: 0.691034\n",
      "         Iterations 4\n"
     ]
    },
    {
     "data": {
      "text/html": [
       "<table class=\"simpletable\">\n",
       "<caption>Logit Regression Results</caption>\n",
       "<tr>\n",
       "  <th>Dep. Variable:</th>     <td>Direction[Up]</td>  <th>  No. Observations:  </th>  <td>  1250</td> \n",
       "</tr>\n",
       "<tr>\n",
       "  <th>Model:</th>                 <td>Logit</td>      <th>  Df Residuals:      </th>  <td>  1243</td> \n",
       "</tr>\n",
       "<tr>\n",
       "  <th>Method:</th>                 <td>MLE</td>       <th>  Df Model:          </th>  <td>     6</td> \n",
       "</tr>\n",
       "<tr>\n",
       "  <th>Date:</th>            <td>Sun, 07 May 2023</td> <th>  Pseudo R-squ.:     </th> <td>0.002074</td>\n",
       "</tr>\n",
       "<tr>\n",
       "  <th>Time:</th>                <td>12:54:16</td>     <th>  Log-Likelihood:    </th> <td> -863.79</td>\n",
       "</tr>\n",
       "<tr>\n",
       "  <th>converged:</th>             <td>True</td>       <th>  LL-Null:           </th> <td> -865.59</td>\n",
       "</tr>\n",
       "<tr>\n",
       "  <th>Covariance Type:</th>     <td>nonrobust</td>    <th>  LLR p-value:       </th>  <td>0.7319</td> \n",
       "</tr>\n",
       "</table>\n",
       "<table class=\"simpletable\">\n",
       "<tr>\n",
       "      <td></td>         <th>coef</th>     <th>std err</th>      <th>z</th>      <th>P>|z|</th>  <th>[0.025</th>    <th>0.975]</th>  \n",
       "</tr>\n",
       "<tr>\n",
       "  <th>Intercept</th> <td>   -0.1260</td> <td>    0.241</td> <td>   -0.523</td> <td> 0.601</td> <td>   -0.598</td> <td>    0.346</td>\n",
       "</tr>\n",
       "<tr>\n",
       "  <th>Lag1</th>      <td>   -0.0731</td> <td>    0.050</td> <td>   -1.457</td> <td> 0.145</td> <td>   -0.171</td> <td>    0.025</td>\n",
       "</tr>\n",
       "<tr>\n",
       "  <th>Lag2</th>      <td>   -0.0423</td> <td>    0.050</td> <td>   -0.845</td> <td> 0.398</td> <td>   -0.140</td> <td>    0.056</td>\n",
       "</tr>\n",
       "<tr>\n",
       "  <th>Lag3</th>      <td>    0.0111</td> <td>    0.050</td> <td>    0.222</td> <td> 0.824</td> <td>   -0.087</td> <td>    0.109</td>\n",
       "</tr>\n",
       "<tr>\n",
       "  <th>Lag4</th>      <td>    0.0094</td> <td>    0.050</td> <td>    0.187</td> <td> 0.851</td> <td>   -0.089</td> <td>    0.107</td>\n",
       "</tr>\n",
       "<tr>\n",
       "  <th>Lag5</th>      <td>    0.0103</td> <td>    0.050</td> <td>    0.208</td> <td> 0.835</td> <td>   -0.087</td> <td>    0.107</td>\n",
       "</tr>\n",
       "<tr>\n",
       "  <th>Volume</th>    <td>    0.1354</td> <td>    0.158</td> <td>    0.855</td> <td> 0.392</td> <td>   -0.175</td> <td>    0.446</td>\n",
       "</tr>\n",
       "</table>"
      ],
      "text/plain": [
       "<class 'statsmodels.iolib.summary.Summary'>\n",
       "\"\"\"\n",
       "                           Logit Regression Results                           \n",
       "==============================================================================\n",
       "Dep. Variable:          Direction[Up]   No. Observations:                 1250\n",
       "Model:                          Logit   Df Residuals:                     1243\n",
       "Method:                           MLE   Df Model:                            6\n",
       "Date:                Sun, 07 May 2023   Pseudo R-squ.:                0.002074\n",
       "Time:                        12:54:16   Log-Likelihood:                -863.79\n",
       "converged:                       True   LL-Null:                       -865.59\n",
       "Covariance Type:            nonrobust   LLR p-value:                    0.7319\n",
       "==============================================================================\n",
       "                 coef    std err          z      P>|z|      [0.025      0.975]\n",
       "------------------------------------------------------------------------------\n",
       "Intercept     -0.1260      0.241     -0.523      0.601      -0.598       0.346\n",
       "Lag1          -0.0731      0.050     -1.457      0.145      -0.171       0.025\n",
       "Lag2          -0.0423      0.050     -0.845      0.398      -0.140       0.056\n",
       "Lag3           0.0111      0.050      0.222      0.824      -0.087       0.109\n",
       "Lag4           0.0094      0.050      0.187      0.851      -0.089       0.107\n",
       "Lag5           0.0103      0.050      0.208      0.835      -0.087       0.107\n",
       "Volume         0.1354      0.158      0.855      0.392      -0.175       0.446\n",
       "==============================================================================\n",
       "\"\"\""
      ]
     },
     "execution_count": 10,
     "metadata": {},
     "output_type": "execute_result"
    }
   ],
   "source": [
    "# creating a model to predict whether the stock market direction will be up\n",
    "\n",
    "logit = sm.Logit(y.iloc[:,1], X) # interested in stock market going up, so selecting column 1 in 'y'\n",
    "logit.fit().summary()"
   ]
  },
  {
   "cell_type": "code",
   "execution_count": 11,
   "id": "4065f992",
   "metadata": {},
   "outputs": [
    {
     "name": "stdout",
     "output_type": "stream",
     "text": [
      "Optimization terminated successfully.\n",
      "         Current function value: 0.691034\n",
      "         Iterations 4\n"
     ]
    },
    {
     "data": {
      "text/plain": [
       "Intercept   -0.126000\n",
       "Lag1        -0.073074\n",
       "Lag2        -0.042301\n",
       "Lag3         0.011085\n",
       "Lag4         0.009359\n",
       "Lag5         0.010313\n",
       "Volume       0.135441\n",
       "dtype: float64"
      ]
     },
     "execution_count": 11,
     "metadata": {},
     "output_type": "execute_result"
    }
   ],
   "source": [
    "# accessing the parameters / coefficients directly\n",
    "logit.fit().params"
   ]
  },
  {
   "cell_type": "code",
   "execution_count": 12,
   "id": "7c65e2de",
   "metadata": {},
   "outputs": [
    {
     "name": "stdout",
     "output_type": "stream",
     "text": [
      "Optimization terminated successfully.\n",
      "         Current function value: 0.691034\n",
      "         Iterations 4\n"
     ]
    },
    {
     "data": {
      "text/plain": [
       "array([0.50708413, 0.48146788, 0.48113883, 0.51522236, 0.51078116,\n",
       "       0.50695646, 0.49265087, 0.50922916, 0.51761353, 0.48883778])"
      ]
     },
     "execution_count": 12,
     "metadata": {},
     "output_type": "execute_result"
    }
   ],
   "source": [
    "# determining the probability that the market will be up for the first 10 instances \n",
    "# instances of what? \n",
    "logit.fit().predict()[0:10]"
   ]
  },
  {
   "cell_type": "code",
   "execution_count": 1,
   "id": "ba841e11",
   "metadata": {},
   "outputs": [
    {
     "ename": "NameError",
     "evalue": "name 'pd' is not defined",
     "output_type": "error",
     "traceback": [
      "\u001b[0;31m---------------------------------------------------------------------------\u001b[0m",
      "\u001b[0;31mNameError\u001b[0m                                 Traceback (most recent call last)",
      "Cell \u001b[0;32mIn[1], line 4\u001b[0m\n\u001b[1;32m      1\u001b[0m \u001b[38;5;66;03m# performing binary classification using logistic regression\u001b[39;00m\n\u001b[1;32m      3\u001b[0m threshold \u001b[38;5;241m=\u001b[39m \u001b[38;5;241m0.5\u001b[39m\n\u001b[0;32m----> 4\u001b[0m predict_label \u001b[38;5;241m=\u001b[39m \u001b[43mpd\u001b[49m\u001b[38;5;241m.\u001b[39mDataFrame(np\u001b[38;5;241m.\u001b[39mzeros(shape\u001b[38;5;241m=\u001b[39m(\u001b[38;5;241m1250\u001b[39m,\u001b[38;5;241m1\u001b[39m)), columns \u001b[38;5;241m=\u001b[39m [\u001b[38;5;124m'\u001b[39m\u001b[38;5;124mLabel 1\u001b[39m\u001b[38;5;124m'\u001b[39m])\n\u001b[1;32m      5\u001b[0m predict_label\u001b[38;5;241m.\u001b[39miloc[logit\u001b[38;5;241m.\u001b[39mfit()\u001b[38;5;241m.\u001b[39mpredict()\u001b[38;5;241m>\u001b[39mthreshold] \u001b[38;5;241m=\u001b[39m \u001b[38;5;241m1\u001b[39m\n",
      "\u001b[0;31mNameError\u001b[0m: name 'pd' is not defined"
     ]
    }
   ],
   "source": [
    "# performing binary classification using logistic regression\n",
    "\n",
    "threshold = 0.5\n",
    "predict_label = pd.DataFrame(np.zeros(shape=(1250,1)), columns = ['Label 1'])\n",
    "predict_label.iloc[logit.fit().predict()>threshold] = 1"
   ]
  },
  {
   "cell_type": "markdown",
   "id": "062683ed",
   "metadata": {},
   "source": [
    "#### Notes on interpretation\n",
    "\n",
    "- <b> 'Threshold = 0.5' </b>: setting threshold value for classificaiton to 0.5. Predicted probabilities <0.5 will be classified as 0, predicted probabilities >0.5 will be  classified as 1.\n",
    "-  <b>'predict_label = pd.DataFrame(np.zeros(shape=1250,1)), columns = ['Label 1'])' </b>: creates a new dataframe called 'predict_label' containing 1250 rows and one column called 'Label 1', initisalised with zeros.\n",
    "- <b> 'logit.fit()'</b>: fits a logisticregression model to the data.\n",
    "- <b> 'logit.fit().predict' </b>: generates predicted probabilities for the data using the fitted logistic regression model.\n",
    "- <b> 'predict_label.iloc[logit.fit().predict()>threshold] = 1' </b>: uses boolean indexing to update values of 'predict_label'\n",
    "    - The expression logit.fit().predict()>threshold generates a boolean mask indicating which predicted probabilities are greater than the threshold\n",
    "    - The iloc[] method selects the rows of predict_label corresponding to the True values in the boolean mask, and sets their values to 1, indicating a positive classification."
   ]
  },
  {
   "cell_type": "code",
   "execution_count": 14,
   "id": "1e315f93",
   "metadata": {},
   "outputs": [
    {
     "data": {
      "text/plain": [
       "array([[145, 457],\n",
       "       [141, 507]])"
      ]
     },
     "execution_count": 14,
     "metadata": {},
     "output_type": "execute_result"
    }
   ],
   "source": [
    "# computes a confusing matrix based on true labels and predicted labels of binary classification\n",
    "confusion_matrix(y.iloc[:,1], predict_label.iloc[:,0])"
   ]
  },
  {
   "cell_type": "code",
   "execution_count": 15,
   "id": "86b03a57",
   "metadata": {},
   "outputs": [
    {
     "name": "stdout",
     "output_type": "stream",
     "text": [
      "0.5216\n"
     ]
    }
   ],
   "source": [
    "# calculates accuracy of binary classification model by comparing predicted labels to the true labels\n",
    "# then taking mean of the resulting boolean array\n",
    "print(np.mean(y.iloc[:,1] == predict_label.iloc[:,0]))"
   ]
  },
  {
   "cell_type": "code",
   "execution_count": 16,
   "id": "1e563dbb",
   "metadata": {},
   "outputs": [
    {
     "name": "stdout",
     "output_type": "stream",
     "text": [
      "0.5216\n"
     ]
    }
   ],
   "source": [
    "# alternative method for doing above, using confusion matrix to compute accuracy\n",
    "print(confusion_matrix(y.iloc[:,1], predict_label.iloc[:,0]).diagonal().sum()* 1.0 /confusion_matrix(y.iloc[:,1], predict_label.iloc[:,0]).sum())"
   ]
  },
  {
   "cell_type": "markdown",
   "id": "78b430f0",
   "metadata": {},
   "source": [
    "### 3 Train-validation split\n",
    "\n",
    "Splitting the dataset into two sets (training / testing) so that we can better assess the accuracy of the logistic regression model. This will yield a more realistic error rate because we will test the models performance on classifying data it hasn't seen. "
   ]
  },
  {
   "cell_type": "code",
   "execution_count": 17,
   "id": "ba4d8067",
   "metadata": {},
   "outputs": [],
   "source": [
    "Smarket_test = Smarket.query('Year >= 2005')\n",
    "Smarket_train = Smarket.query('Year < 2005')"
   ]
  },
  {
   "cell_type": "code",
   "execution_count": 18,
   "id": "b10dbf2a",
   "metadata": {},
   "outputs": [],
   "source": [
    "# split the dataset into training and testing sets and prepare them for a logistic regression model by... \n",
    "# creating design matrices for the response variable and the predictor variables.\n",
    "y_train, X_train = dmatrices('Direction~Lag1+Lag2+Lag3+Lag4+Lag5+Volume', Smarket_train, return_type = 'dataframe')\n",
    "y_test, X_test = dmatrices('Direction~Lag1+Lag2+Lag3+Lag4+Lag5+Volume', Smarket_test, return_type = 'dataframe')"
   ]
  },
  {
   "cell_type": "code",
   "execution_count": 19,
   "id": "b65c4737",
   "metadata": {},
   "outputs": [
    {
     "name": "stdout",
     "output_type": "stream",
     "text": [
      "Optimization terminated successfully.\n",
      "         Current function value: 0.691936\n",
      "         Iterations 4\n",
      "                           Logit Regression Results                           \n",
      "==============================================================================\n",
      "Dep. Variable:          Direction[Up]   No. Observations:                  998\n",
      "Model:                          Logit   Df Residuals:                      991\n",
      "Method:                           MLE   Df Model:                            6\n",
      "Date:                Sun, 07 May 2023   Pseudo R-squ.:                0.001562\n",
      "Time:                        12:54:19   Log-Likelihood:                -690.55\n",
      "converged:                       True   LL-Null:                       -691.63\n",
      "Covariance Type:            nonrobust   LLR p-value:                    0.9044\n",
      "==============================================================================\n",
      "                 coef    std err          z      P>|z|      [0.025      0.975]\n",
      "------------------------------------------------------------------------------\n",
      "Intercept      0.1912      0.334      0.573      0.567      -0.463       0.845\n",
      "Lag1          -0.0542      0.052     -1.046      0.295      -0.156       0.047\n",
      "Lag2          -0.0458      0.052     -0.884      0.377      -0.147       0.056\n",
      "Lag3           0.0072      0.052      0.139      0.889      -0.094       0.108\n",
      "Lag4           0.0064      0.052      0.125      0.901      -0.095       0.108\n",
      "Lag5          -0.0042      0.051     -0.083      0.934      -0.104       0.096\n",
      "Volume        -0.1163      0.240     -0.485      0.628      -0.586       0.353\n",
      "==============================================================================\n"
     ]
    }
   ],
   "source": [
    "logit = sm.Logit(y_train.iloc[:,1], X_train)\n",
    "print(logit.fit().summary())"
   ]
  },
  {
   "cell_type": "code",
   "execution_count": 20,
   "id": "016a48f6",
   "metadata": {},
   "outputs": [
    {
     "name": "stdout",
     "output_type": "stream",
     "text": [
      "Optimization terminated successfully.\n",
      "         Current function value: 0.691936\n",
      "         Iterations 4\n"
     ]
    },
    {
     "data": {
      "text/plain": [
       "array([[77, 34],\n",
       "       [97, 44]])"
      ]
     },
     "execution_count": 20,
     "metadata": {},
     "output_type": "execute_result"
    }
   ],
   "source": [
    "# performing logistic regression on the test set, 'X_test'\n",
    "# then using resulting model to make predictions\n",
    "\n",
    "preds = logit.fit().predict(X_test) # fitting model to training set\n",
    "predict_label = pd.DataFrame(np.zeros(shape=(X_test.shape[0],1)), columns = ['label']) # dataframe of all zeros (?) with same no. rows as 'X_test'\n",
    "threshold = 0.5\n",
    "mark = (preds > threshold).reset_index(drop=True) # boolean array indicating which predictors are above threshold and therefore predicted to be positive\n",
    "predict_label.loc[mark] = 1 # predictions corresponding to values above threshold (as indicated by 'mark') are changed to 1\n",
    "confusion_matrix(y_test.iloc[:,1], predict_label.iloc[:,0]) \n",
    "\n",
    "# computing matrix is compairing the predicted values in 'predicted_label' (column 0)\n",
    "# to the true values in 'y_test' (column 1)"
   ]
  },
  {
   "cell_type": "code",
   "execution_count": 21,
   "id": "ffb56521",
   "metadata": {},
   "outputs": [
    {
     "data": {
      "text/plain": [
       "0.4801587301587302"
      ]
     },
     "execution_count": 21,
     "metadata": {},
     "output_type": "execute_result"
    }
   ],
   "source": [
    "# determining the accuracy\n",
    "\n",
    "np.mean(y_test.iloc[:,1].reset_index(drop=True)==predict_label.iloc[:,0].reset_index(drop=True)) "
   ]
  },
  {
   "cell_type": "markdown",
   "id": "e4d14890",
   "metadata": {},
   "source": [
    "#### Notes on interpretation\n",
    "- Test error rate is 1-48% = 52% which is worse than random guessing (50%)\n",
    "- But this result is not surprising given that we wouldn't expect to be able to use the previous days' returns to predict future market performance"
   ]
  },
  {
   "cell_type": "code",
   "execution_count": 22,
   "id": "1858cfe5",
   "metadata": {},
   "outputs": [
    {
     "name": "stdout",
     "output_type": "stream",
     "text": [
      "Optimization terminated successfully.\n",
      "         Current function value: 0.692085\n",
      "         Iterations 3\n"
     ]
    },
    {
     "data": {
      "text/plain": [
       "array([[111,   0],\n",
       "       [141,   0]])"
      ]
     },
     "execution_count": 22,
     "metadata": {},
     "output_type": "execute_result"
    }
   ],
   "source": [
    "# attempt to retrain the model using only Lag1 and lAG2\n",
    "y_train, X_train = dmatrices('Direction~Lag1+Lag2', Smarket_train, return_type = 'dataframe')\n",
    "y_test, X_test = dmatrices('Direction~Lag1+Lag2', Smarket_test, return_type = 'dataframe')\n",
    "logit = sm.Logit(y_train.iloc[:,1], X_train)\n",
    "preds = logit.fit().predict(X_test)\n",
    "predict_label = pd.DataFrame(np.zeros(shape=(X_test.shape[0],1)), columns = ['label'])\n",
    "threshold = 0.5\n",
    "confusion_matrix(y_test.iloc[:,1], predict_label.iloc[:,0])"
   ]
  },
  {
   "cell_type": "code",
   "execution_count": 23,
   "id": "9bca8ea7",
   "metadata": {},
   "outputs": [
    {
     "data": {
      "text/plain": [
       "0.44047619047619047"
      ]
     },
     "execution_count": 23,
     "metadata": {},
     "output_type": "execute_result"
    }
   ],
   "source": [
    "np.mean(y_test.iloc[:,1].reset_index(drop=True)==predict_label.iloc[:,0].reset_index(drop=True)) # to get accuracy on validation set"
   ]
  },
  {
   "cell_type": "markdown",
   "id": "cc54133f",
   "metadata": {},
   "source": [
    "#### Notes on interpretation\n",
    "- Test error rate is 1-44% = 56% which is worse still than previously \n"
   ]
  },
  {
   "cell_type": "code",
   "execution_count": 24,
   "id": "4b015302",
   "metadata": {},
   "outputs": [
    {
     "name": "stdout",
     "output_type": "stream",
     "text": [
      "Optimization terminated successfully.\n",
      "         Current function value: 0.692085\n",
      "         Iterations 3\n"
     ]
    },
    {
     "data": {
      "text/plain": [
       "array([[  0, 111],\n",
       "       [  0, 141]])"
      ]
     },
     "execution_count": 24,
     "metadata": {},
     "output_type": "execute_result"
    }
   ],
   "source": [
    "# another attempt at retraining using different theshold level\n",
    "preds = logit.fit().predict(X_test)\n",
    "predict_label = pd.DataFrame(np.zeros(shape=(X_test.shape[0],1)), columns = ['label'])\n",
    "threshold = 0.45\n",
    "predict_label.loc[(preds > threshold).reset_index(drop=True)] = 1\n",
    "confusion_matrix(y_test.iloc[:,1], predict_label.iloc[:,0])"
   ]
  },
  {
   "cell_type": "code",
   "execution_count": 25,
   "id": "f4f96a45",
   "metadata": {},
   "outputs": [
    {
     "data": {
      "text/plain": [
       "0.5595238095238095"
      ]
     },
     "execution_count": 25,
     "metadata": {},
     "output_type": "execute_result"
    }
   ],
   "source": [
    "np.mean(y_test.iloc[:,1].reset_index(drop=True)==predict_label.iloc[:,0].reset_index(drop=True))"
   ]
  },
  {
   "cell_type": "markdown",
   "id": "9bcfde33",
   "metadata": {},
   "source": [
    "#### Notes on interpretation \n",
    "- Now seeing improvement on accuracy with test error rate of 1-56 = 44%"
   ]
  },
  {
   "cell_type": "markdown",
   "id": "8ef7f312",
   "metadata": {},
   "source": [
    "### 4. Linear Discriminant Analysis\n",
    "Using sklearn's LDA package"
   ]
  },
  {
   "cell_type": "code",
   "execution_count": 26,
   "id": "bf34de39",
   "metadata": {},
   "outputs": [
    {
     "data": {
      "text/plain": [
       "array([1., 0.])"
      ]
     },
     "execution_count": 26,
     "metadata": {},
     "output_type": "execute_result"
    }
   ],
   "source": [
    "y_train.iloc[:,1].unique() # returning array of unique values in second column of 'y_train' dataframe"
   ]
  },
  {
   "cell_type": "code",
   "execution_count": 27,
   "id": "344900f4",
   "metadata": {},
   "outputs": [],
   "source": [
    "# training process for LDA\n",
    "sklearn_lda = LDA(n_components=1) # creating a LDA object\n",
    "lda = sklearn_lda.fit(X_train.iloc[:,1:3], y_train.iloc[:,1]) # learning the projection matrix\n",
    "X_lda = lda.transform(X_train.iloc[:,1:3]) # using the model to project X \n",
    "X_labels = lda.predict(X_train.iloc[:,1:3]) # gives you the predicted label for each sample\n",
    "X_prob = lda.predict_proba(X_train.iloc[:,1:3]) # the probability of each sample to belong to each class"
   ]
  },
  {
   "cell_type": "markdown",
   "id": "69f12944",
   "metadata": {},
   "source": [
    "#### Notes on interpretation\n",
    "- First line creates an instance of the LDA class from the 'sklearn' module with the number of components set to 1.\n",
    "- Next line trains the LDA model using the 'fit()' method with the predictor variables 'X_train.iloc[:,1:3] and the response variable y_train.iloc[:,1].\n",
    "- 'tranform()' method in third line is used to project the predictor variable onto the LDA space\n",
    "- 'predict()' method in fourth line is used to predict the class label for the training data\n",
    "- 'predict_proba()' method in fifth line is used to get the probability of each sample to belong to each class. 'X-prob' contains the probability estimates for each class.  "
   ]
  },
  {
   "cell_type": "code",
   "execution_count": 28,
   "id": "f2448bc3",
   "metadata": {},
   "outputs": [
    {
     "name": "stdout",
     "output_type": "stream",
     "text": [
      "[[0.49017925 0.50982075]\n",
      " [0.4792185  0.5207815 ]\n",
      " [0.46681848 0.53318152]\n",
      " [0.47400107 0.52599893]\n",
      " [0.49278766 0.50721234]]\n"
     ]
    }
   ],
   "source": [
    "# testing step \n",
    "X_test_labels =lda.predict(X_test.iloc[:,1:3])\n",
    "X_test_prob = lda.predict_proba(X_test.iloc[:,1:3]) \n",
    "print(X_test_prob[0:5,:])"
   ]
  },
  {
   "cell_type": "code",
   "execution_count": 29,
   "id": "0c2aedf4",
   "metadata": {},
   "outputs": [
    {
     "data": {
      "text/plain": [
       "0.5595238095238095"
      ]
     },
     "execution_count": 29,
     "metadata": {},
     "output_type": "execute_result"
    }
   ],
   "source": [
    "# get the accuracy of the test set using default threshold\n",
    "np.mean(y_test.iloc[:,1]==X_test_labels) "
   ]
  },
  {
   "cell_type": "code",
   "execution_count": 30,
   "id": "bf1ec78a",
   "metadata": {},
   "outputs": [
    {
     "data": {
      "text/plain": [
       "0.5595238095238095"
      ]
     },
     "execution_count": 30,
     "metadata": {},
     "output_type": "execute_result"
    }
   ],
   "source": [
    "# testing threshold by looking at default first\n",
    "threshold = 0.5 \n",
    "np.mean(y_test.iloc[:,1]==(X_test_prob[:,1]>=threshold))"
   ]
  },
  {
   "cell_type": "code",
   "execution_count": 31,
   "id": "bb51cd30",
   "metadata": {},
   "outputs": [
    {
     "data": {
      "text/plain": [
       "0.5634920634920635"
      ]
     },
     "execution_count": 31,
     "metadata": {},
     "output_type": "execute_result"
    }
   ],
   "source": [
    "# now testing with lower threshold\n",
    "threshold = 0.48\n",
    "np.mean(y_test.iloc[:,1]==(X_test_prob[:,1]>=threshold))"
   ]
  },
  {
   "cell_type": "markdown",
   "id": "ed52c53f",
   "metadata": {},
   "source": [
    "### 4. Quadratic discriminant analysis\n",
    "\n",
    "Using sklearn's QDA package"
   ]
  },
  {
   "cell_type": "code",
   "execution_count": 32,
   "id": "ef7575b2",
   "metadata": {},
   "outputs": [],
   "source": [
    "sklearn_qda = QDA(priors=None,store_covariance=True) # creates instance of the QDA class\n",
    "\n",
    "# 'priors' parameter specifies the prior probabilities of each class, if none are provided then they are computed from the data\n",
    "# 'store_covariances' parameter indicates whether to compute and store the covariance matrix for each class"
   ]
  },
  {
   "cell_type": "code",
   "execution_count": 33,
   "id": "c8d34b05",
   "metadata": {},
   "outputs": [],
   "source": [
    "# fitting QDA model to training data 'X_train.iloc[:,1:3]' and 'y_train.iloc[:,1]'\n",
    "\n",
    "qda = sklearn_qda.fit(X_train.iloc[:,1:3], y_train.iloc[:,1])\n",
    "\n",
    "# the 'fit' method learns the projection matrix and the class-specific covariance matrices based on the training data"
   ]
  },
  {
   "cell_type": "code",
   "execution_count": 34,
   "id": "e398d32c",
   "metadata": {},
   "outputs": [],
   "source": [
    "X_labels = qda.predict(X_train.iloc[:,1:3]) # predicting class labels of training data 'X_train.iloc[:,1:3]' using QDA model\n",
    "\n",
    "# 'predict' method returns the predicted label for each sample."
   ]
  },
  {
   "cell_type": "code",
   "execution_count": 35,
   "id": "fa211421",
   "metadata": {},
   "outputs": [],
   "source": [
    "x_prob = qda.predict_proba(X_train.iloc[:,1:3]) # computes probability of each sample belonging to each class\n",
    "\n",
    "# predict_proba method returns an array of shape (n_samples, n_classes) \n",
    "# where each element represents the probability of the corresponding sample belonging to the corresponding class"
   ]
  },
  {
   "cell_type": "code",
   "execution_count": 36,
   "id": "5be9e8a6",
   "metadata": {},
   "outputs": [],
   "source": [
    "# predicting class labels / probabilities for test data using QDA model\n",
    "\n",
    "X_test_labels=qda.predict(X_test.iloc[:,1:3])\n",
    "X_test_prob = qda.predict_proba(X_test.iloc[:,1:3])"
   ]
  },
  {
   "cell_type": "code",
   "execution_count": 37,
   "id": "8521ff85",
   "metadata": {},
   "outputs": [
    {
     "name": "stdout",
     "output_type": "stream",
     "text": [
      "0.5992063492063492\n"
     ]
    }
   ],
   "source": [
    "print(np.mean(y_test.iloc[:,1]==X_test_labels) )"
   ]
  },
  {
   "cell_type": "code",
   "execution_count": 38,
   "id": "c782ad7a",
   "metadata": {},
   "outputs": [
    {
     "data": {
      "text/plain": [
       "['__annotations__',\n",
       " '__class__',\n",
       " '__delattr__',\n",
       " '__dict__',\n",
       " '__dir__',\n",
       " '__doc__',\n",
       " '__eq__',\n",
       " '__format__',\n",
       " '__ge__',\n",
       " '__getattribute__',\n",
       " '__getstate__',\n",
       " '__gt__',\n",
       " '__hash__',\n",
       " '__init__',\n",
       " '__init_subclass__',\n",
       " '__le__',\n",
       " '__lt__',\n",
       " '__module__',\n",
       " '__ne__',\n",
       " '__new__',\n",
       " '__reduce__',\n",
       " '__reduce_ex__',\n",
       " '__repr__',\n",
       " '__setattr__',\n",
       " '__setstate__',\n",
       " '__sizeof__',\n",
       " '__str__',\n",
       " '__subclasshook__',\n",
       " '__weakref__',\n",
       " '_check_feature_names',\n",
       " '_check_n_features',\n",
       " '_decision_function',\n",
       " '_estimator_type',\n",
       " '_get_param_names',\n",
       " '_get_tags',\n",
       " '_more_tags',\n",
       " '_parameter_constraints',\n",
       " '_repr_html_',\n",
       " '_repr_html_inner',\n",
       " '_repr_mimebundle_',\n",
       " '_validate_data',\n",
       " '_validate_params',\n",
       " 'classes_',\n",
       " 'covariance_',\n",
       " 'decision_function',\n",
       " 'feature_names_in_',\n",
       " 'fit',\n",
       " 'get_params',\n",
       " 'means_',\n",
       " 'n_features_in_',\n",
       " 'predict',\n",
       " 'predict_log_proba',\n",
       " 'predict_proba',\n",
       " 'priors',\n",
       " 'priors_',\n",
       " 'reg_param',\n",
       " 'rotations_',\n",
       " 'scalings_',\n",
       " 'score',\n",
       " 'set_params',\n",
       " 'store_covariance',\n",
       " 'tol']"
      ]
     },
     "execution_count": 38,
     "metadata": {},
     "output_type": "execute_result"
    }
   ],
   "source": [
    "dir(qda) # returns a list of attributes and methods of the qda\n",
    "\n",
    "# can be useful for exploring the properties of the QDA model and its results\n",
    "# as well as for discovering and using different methods that may not have been explicitly used in the code"
   ]
  },
  {
   "cell_type": "code",
   "execution_count": 39,
   "id": "b488b3e7",
   "metadata": {},
   "outputs": [
    {
     "name": "stdout",
     "output_type": "stream",
     "text": [
      "[[ 0.04279022  0.03389409]\n",
      " [-0.03954635 -0.03132544]]\n",
      "[array([[ 1.50662277, -0.03924806],\n",
      "       [-0.03924806,  1.53559498]]), array([[ 1.51700576, -0.02787349],\n",
      "       [-0.02787349,  1.49026815]])]\n"
     ]
    }
   ],
   "source": [
    "print(qda.means_)\n",
    "print(qda.covariance_)"
   ]
  },
  {
   "cell_type": "markdown",
   "id": "954e77ae",
   "metadata": {},
   "source": [
    "### Naive bayes\n",
    "\n",
    "Using GuassianNB from <code>sklearn.naive_bayes</code>"
   ]
  },
  {
   "cell_type": "code",
   "execution_count": 40,
   "id": "4aad584c",
   "metadata": {},
   "outputs": [],
   "source": [
    "NB_class = NB() # creates an instance of the Naive Bayes class from the sklearn module, defaults to Gaussian Naive Bayes\n",
    "NB_class.fit(X_train.iloc[:,1:3], y_train.iloc[:,1]) # fitting NB model to training data, 'fit' method estimates mean / variance for each feature for each class\n",
    "X_test_labels=NB_class.predict(X_test.iloc[:,1:3]) # predicts class labels for test data using NB model\n",
    "X_test_prob = NB_class.predict_proba(X_test.iloc[:,1:3]) # computes probabilities of each sample in test data belonging to each class \n",
    "\n",
    "# 'predict_proba' returns an array of shape '(n_samples, n_classes)' where each element represents the probability\n",
    "# of the corresponding sample belonging to the corresponding class"
   ]
  },
  {
   "cell_type": "code",
   "execution_count": 41,
   "id": "2c4bae34",
   "metadata": {},
   "outputs": [
    {
     "name": "stdout",
     "output_type": "stream",
     "text": [
      "0.5952380952380952\n"
     ]
    }
   ],
   "source": [
    "print(np.mean(y_test.iloc[:,1] ==X_test_labels))"
   ]
  },
  {
   "cell_type": "code",
   "execution_count": 42,
   "id": "9c7d0fbc",
   "metadata": {},
   "outputs": [
    {
     "data": {
      "text/plain": [
       "['__abstractmethods__',\n",
       " '__annotations__',\n",
       " '__class__',\n",
       " '__delattr__',\n",
       " '__dict__',\n",
       " '__dir__',\n",
       " '__doc__',\n",
       " '__eq__',\n",
       " '__format__',\n",
       " '__ge__',\n",
       " '__getattribute__',\n",
       " '__getstate__',\n",
       " '__gt__',\n",
       " '__hash__',\n",
       " '__init__',\n",
       " '__init_subclass__',\n",
       " '__le__',\n",
       " '__lt__',\n",
       " '__module__',\n",
       " '__ne__',\n",
       " '__new__',\n",
       " '__reduce__',\n",
       " '__reduce_ex__',\n",
       " '__repr__',\n",
       " '__setattr__',\n",
       " '__setstate__',\n",
       " '__sizeof__',\n",
       " '__str__',\n",
       " '__subclasshook__',\n",
       " '__weakref__',\n",
       " '_abc_impl',\n",
       " '_check_X',\n",
       " '_check_feature_names',\n",
       " '_check_n_features',\n",
       " '_estimator_type',\n",
       " '_get_param_names',\n",
       " '_get_tags',\n",
       " '_joint_log_likelihood',\n",
       " '_more_tags',\n",
       " '_parameter_constraints',\n",
       " '_partial_fit',\n",
       " '_repr_html_',\n",
       " '_repr_html_inner',\n",
       " '_repr_mimebundle_',\n",
       " '_update_mean_variance',\n",
       " '_validate_data',\n",
       " '_validate_params',\n",
       " 'class_count_',\n",
       " 'class_prior_',\n",
       " 'classes_',\n",
       " 'epsilon_',\n",
       " 'feature_names_in_',\n",
       " 'fit',\n",
       " 'get_params',\n",
       " 'n_features_in_',\n",
       " 'partial_fit',\n",
       " 'predict',\n",
       " 'predict_joint_log_proba',\n",
       " 'predict_log_proba',\n",
       " 'predict_proba',\n",
       " 'priors',\n",
       " 'score',\n",
       " 'set_params',\n",
       " 'theta_',\n",
       " 'var_',\n",
       " 'var_smoothing']"
      ]
     },
     "execution_count": 42,
     "metadata": {},
     "output_type": "execute_result"
    }
   ],
   "source": [
    "dir(NB_class)"
   ]
  },
  {
   "cell_type": "markdown",
   "id": "936def58",
   "metadata": {},
   "source": [
    "### 6 K-Nearest Neighbors\n",
    "\n",
    "Using <code>KNeighborsClassifier</code> from <code>sklearn.neighbors</code>\n",
    "\n",
    "Incorporating classification task on caravan insurance dataset after first text on Smarket training / testing datasets."
   ]
  },
  {
   "cell_type": "code",
   "execution_count": 56,
   "id": "d86a4f87",
   "metadata": {},
   "outputs": [],
   "source": [
    "neigh = KNN(n_neighbors= 4) # creating an object, setting nearest neighbors to 4\n",
    "KNN_fit = neigh.fit(X_train.iloc[:,1:3], y_train.iloc[:,1]) # fitting classifier to training data\n",
    "\n",
    "# 'X_train.iloc[:,1:3]' selects the features (columns) of the training data to be used by the KNN algorithm\n",
    "# 'y_train.iloc[:,1]' selects target variable (column) for the KNN classifer to predict"
   ]
  },
  {
   "cell_type": "markdown",
   "id": "5917c51a",
   "metadata": {},
   "source": [
    "#### Note on iloc\n",
    "\n",
    "- iloc function is used to select rows / columns of the training data by their integer indices.\n",
    "- The ':' symbol indicates that all rows are selected\n",
    "- '1:3' (after the comma) indicates that columns 1 and 2 (but not column 3) are selected"
   ]
  },
  {
   "cell_type": "code",
   "execution_count": 57,
   "id": "946c2cbd",
   "metadata": {},
   "outputs": [],
   "source": [
    "X_test_labels = KNN_fit.predict(X_test.iloc[:,1:3]) # predicting class labels of test set based on features of the test set\n",
    "X_test_prob = KNN_fit.predict_proba(X_test.iloc[:,1:3]) # predicting class probabilities of test set based on features of the test set"
   ]
  },
  {
   "cell_type": "code",
   "execution_count": 54,
   "id": "8a6e2ece",
   "metadata": {},
   "outputs": [
    {
     "name": "stdout",
     "output_type": "stream",
     "text": [
      "0.5158730158730159\n"
     ]
    }
   ],
   "source": [
    "print(np.mean(y_test.iloc[:,1]==X_test_labels))"
   ]
  },
  {
   "cell_type": "markdown",
   "id": "bb3ac80b",
   "metadata": {},
   "source": [
    "#### Note on mean test of classifier results\n",
    "\n",
    "- 'y_test.iloc[:,1]' selects the true class labels for the instances in the test set.\n",
    "- It knows its true by selecting all rows in column 1, which should contain only the true class labels (based on how the dataframe was defined earlier). \n",
    "- 'X_test_labels' contains predicted class labels for the test set instances.\n",
    "- 'y_test.iloc[:,1] == X_test_labels' compares the predicted labels to the true labels element-wise, resulting in a boolean array where each element indicates whether the prediction was correct or not. \n",
    "\n",
    "<b> The line of code therefore prints the accuracy of the KNN classifier on the test set, which is the proportion of instances for which the predicted label matches the true label </b> \n",
    "\n",
    "- It is not necessary to convert the mean to a percentage, as the mean represents the proportion of correct predictions made by the classifier on the test set.\n",
    "- If you want to convert to a percentage, simply multiple the mean by 100. E.g. 0.515 * 100 = 56% accuracy \n"
   ]
  },
  {
   "cell_type": "code",
   "execution_count": 58,
   "id": "bd0d487c",
   "metadata": {},
   "outputs": [
    {
     "data": {
      "text/plain": [
       "['__abstractmethods__',\n",
       " '__annotations__',\n",
       " '__class__',\n",
       " '__delattr__',\n",
       " '__dict__',\n",
       " '__dir__',\n",
       " '__doc__',\n",
       " '__eq__',\n",
       " '__format__',\n",
       " '__ge__',\n",
       " '__getattribute__',\n",
       " '__getstate__',\n",
       " '__gt__',\n",
       " '__hash__',\n",
       " '__init__',\n",
       " '__init_subclass__',\n",
       " '__le__',\n",
       " '__lt__',\n",
       " '__module__',\n",
       " '__ne__',\n",
       " '__new__',\n",
       " '__reduce__',\n",
       " '__reduce_ex__',\n",
       " '__repr__',\n",
       " '__setattr__',\n",
       " '__setstate__',\n",
       " '__sizeof__',\n",
       " '__str__',\n",
       " '__subclasshook__',\n",
       " '__weakref__',\n",
       " '_abc_impl',\n",
       " '_check_algorithm_metric',\n",
       " '_check_feature_names',\n",
       " '_check_n_features',\n",
       " '_estimator_type',\n",
       " '_fit',\n",
       " '_fit_X',\n",
       " '_fit_method',\n",
       " '_get_param_names',\n",
       " '_get_tags',\n",
       " '_kneighbors_reduce_func',\n",
       " '_more_tags',\n",
       " '_parameter_constraints',\n",
       " '_repr_html_',\n",
       " '_repr_html_inner',\n",
       " '_repr_mimebundle_',\n",
       " '_tree',\n",
       " '_validate_data',\n",
       " '_validate_params',\n",
       " '_y',\n",
       " 'algorithm',\n",
       " 'classes_',\n",
       " 'effective_metric_',\n",
       " 'effective_metric_params_',\n",
       " 'feature_names_in_',\n",
       " 'fit',\n",
       " 'get_params',\n",
       " 'kneighbors',\n",
       " 'kneighbors_graph',\n",
       " 'leaf_size',\n",
       " 'metric',\n",
       " 'metric_params',\n",
       " 'n_features_in_',\n",
       " 'n_jobs',\n",
       " 'n_neighbors',\n",
       " 'n_samples_fit_',\n",
       " 'outputs_2d_',\n",
       " 'p',\n",
       " 'predict',\n",
       " 'predict_proba',\n",
       " 'radius',\n",
       " 'score',\n",
       " 'set_params',\n",
       " 'weights']"
      ]
     },
     "execution_count": 58,
     "metadata": {},
     "output_type": "execute_result"
    }
   ],
   "source": [
    "dir(neigh) # returns list of all valid attributes and methods of 'neigh' object"
   ]
  },
  {
   "cell_type": "code",
   "execution_count": 59,
   "id": "73cf7438",
   "metadata": {},
   "outputs": [],
   "source": [
    "caravan = pd.read_csv('data/Caravan.csv', header=0)"
   ]
  },
  {
   "cell_type": "code",
   "execution_count": 60,
   "id": "a443fba4",
   "metadata": {},
   "outputs": [
    {
     "data": {
      "text/plain": [
       "(5822, 86)"
      ]
     },
     "execution_count": 60,
     "metadata": {},
     "output_type": "execute_result"
    }
   ],
   "source": [
    "caravan.shape"
   ]
  },
  {
   "cell_type": "code",
   "execution_count": 61,
   "id": "4249da01",
   "metadata": {},
   "outputs": [
    {
     "data": {
      "text/html": [
       "<div>\n",
       "<style scoped>\n",
       "    .dataframe tbody tr th:only-of-type {\n",
       "        vertical-align: middle;\n",
       "    }\n",
       "\n",
       "    .dataframe tbody tr th {\n",
       "        vertical-align: top;\n",
       "    }\n",
       "\n",
       "    .dataframe thead th {\n",
       "        text-align: right;\n",
       "    }\n",
       "</style>\n",
       "<table border=\"1\" class=\"dataframe\">\n",
       "  <thead>\n",
       "    <tr style=\"text-align: right;\">\n",
       "      <th></th>\n",
       "      <th>MOSTYPE</th>\n",
       "      <th>MAANTHUI</th>\n",
       "      <th>MGEMOMV</th>\n",
       "      <th>MGEMLEEF</th>\n",
       "      <th>MOSHOOFD</th>\n",
       "      <th>MGODRK</th>\n",
       "      <th>MGODPR</th>\n",
       "      <th>MGODOV</th>\n",
       "      <th>MGODGE</th>\n",
       "      <th>MRELGE</th>\n",
       "      <th>...</th>\n",
       "      <th>APERSONG</th>\n",
       "      <th>AGEZONG</th>\n",
       "      <th>AWAOREG</th>\n",
       "      <th>ABRAND</th>\n",
       "      <th>AZEILPL</th>\n",
       "      <th>APLEZIER</th>\n",
       "      <th>AFIETS</th>\n",
       "      <th>AINBOED</th>\n",
       "      <th>ABYSTAND</th>\n",
       "      <th>Purchase</th>\n",
       "    </tr>\n",
       "  </thead>\n",
       "  <tbody>\n",
       "    <tr>\n",
       "      <th>0</th>\n",
       "      <td>33</td>\n",
       "      <td>1</td>\n",
       "      <td>3</td>\n",
       "      <td>2</td>\n",
       "      <td>8</td>\n",
       "      <td>0</td>\n",
       "      <td>5</td>\n",
       "      <td>1</td>\n",
       "      <td>3</td>\n",
       "      <td>7</td>\n",
       "      <td>...</td>\n",
       "      <td>0</td>\n",
       "      <td>0</td>\n",
       "      <td>0</td>\n",
       "      <td>1</td>\n",
       "      <td>0</td>\n",
       "      <td>0</td>\n",
       "      <td>0</td>\n",
       "      <td>0</td>\n",
       "      <td>0</td>\n",
       "      <td>No</td>\n",
       "    </tr>\n",
       "    <tr>\n",
       "      <th>1</th>\n",
       "      <td>37</td>\n",
       "      <td>1</td>\n",
       "      <td>2</td>\n",
       "      <td>2</td>\n",
       "      <td>8</td>\n",
       "      <td>1</td>\n",
       "      <td>4</td>\n",
       "      <td>1</td>\n",
       "      <td>4</td>\n",
       "      <td>6</td>\n",
       "      <td>...</td>\n",
       "      <td>0</td>\n",
       "      <td>0</td>\n",
       "      <td>0</td>\n",
       "      <td>1</td>\n",
       "      <td>0</td>\n",
       "      <td>0</td>\n",
       "      <td>0</td>\n",
       "      <td>0</td>\n",
       "      <td>0</td>\n",
       "      <td>No</td>\n",
       "    </tr>\n",
       "    <tr>\n",
       "      <th>2</th>\n",
       "      <td>37</td>\n",
       "      <td>1</td>\n",
       "      <td>2</td>\n",
       "      <td>2</td>\n",
       "      <td>8</td>\n",
       "      <td>0</td>\n",
       "      <td>4</td>\n",
       "      <td>2</td>\n",
       "      <td>4</td>\n",
       "      <td>3</td>\n",
       "      <td>...</td>\n",
       "      <td>0</td>\n",
       "      <td>0</td>\n",
       "      <td>0</td>\n",
       "      <td>1</td>\n",
       "      <td>0</td>\n",
       "      <td>0</td>\n",
       "      <td>0</td>\n",
       "      <td>0</td>\n",
       "      <td>0</td>\n",
       "      <td>No</td>\n",
       "    </tr>\n",
       "    <tr>\n",
       "      <th>3</th>\n",
       "      <td>9</td>\n",
       "      <td>1</td>\n",
       "      <td>3</td>\n",
       "      <td>3</td>\n",
       "      <td>3</td>\n",
       "      <td>2</td>\n",
       "      <td>3</td>\n",
       "      <td>2</td>\n",
       "      <td>4</td>\n",
       "      <td>5</td>\n",
       "      <td>...</td>\n",
       "      <td>0</td>\n",
       "      <td>0</td>\n",
       "      <td>0</td>\n",
       "      <td>1</td>\n",
       "      <td>0</td>\n",
       "      <td>0</td>\n",
       "      <td>0</td>\n",
       "      <td>0</td>\n",
       "      <td>0</td>\n",
       "      <td>No</td>\n",
       "    </tr>\n",
       "    <tr>\n",
       "      <th>4</th>\n",
       "      <td>40</td>\n",
       "      <td>1</td>\n",
       "      <td>4</td>\n",
       "      <td>2</td>\n",
       "      <td>10</td>\n",
       "      <td>1</td>\n",
       "      <td>4</td>\n",
       "      <td>1</td>\n",
       "      <td>4</td>\n",
       "      <td>7</td>\n",
       "      <td>...</td>\n",
       "      <td>0</td>\n",
       "      <td>0</td>\n",
       "      <td>0</td>\n",
       "      <td>1</td>\n",
       "      <td>0</td>\n",
       "      <td>0</td>\n",
       "      <td>0</td>\n",
       "      <td>0</td>\n",
       "      <td>0</td>\n",
       "      <td>No</td>\n",
       "    </tr>\n",
       "  </tbody>\n",
       "</table>\n",
       "<p>5 rows × 86 columns</p>\n",
       "</div>"
      ],
      "text/plain": [
       "   MOSTYPE  MAANTHUI  MGEMOMV  MGEMLEEF  MOSHOOFD  MGODRK  MGODPR  MGODOV  \\\n",
       "0       33         1        3         2         8       0       5       1   \n",
       "1       37         1        2         2         8       1       4       1   \n",
       "2       37         1        2         2         8       0       4       2   \n",
       "3        9         1        3         3         3       2       3       2   \n",
       "4       40         1        4         2        10       1       4       1   \n",
       "\n",
       "   MGODGE  MRELGE  ...  APERSONG  AGEZONG  AWAOREG  ABRAND  AZEILPL  APLEZIER  \\\n",
       "0       3       7  ...         0        0        0       1        0         0   \n",
       "1       4       6  ...         0        0        0       1        0         0   \n",
       "2       4       3  ...         0        0        0       1        0         0   \n",
       "3       4       5  ...         0        0        0       1        0         0   \n",
       "4       4       7  ...         0        0        0       1        0         0   \n",
       "\n",
       "   AFIETS  AINBOED  ABYSTAND  Purchase  \n",
       "0       0        0         0        No  \n",
       "1       0        0         0        No  \n",
       "2       0        0         0        No  \n",
       "3       0        0         0        No  \n",
       "4       0        0         0        No  \n",
       "\n",
       "[5 rows x 86 columns]"
      ]
     },
     "execution_count": 61,
     "metadata": {},
     "output_type": "execute_result"
    }
   ],
   "source": [
    "caravan.head()"
   ]
  },
  {
   "cell_type": "code",
   "execution_count": 63,
   "id": "ae998455",
   "metadata": {},
   "outputs": [],
   "source": [
    "# creating new pandas dataframe with same no. rows as 'caravan\n",
    "# but with a single column named 'label'\n",
    "# initial values of label column set to 0 using 'np.zeros'\n",
    "\n",
    "predict_label = pd.DataFrame(np.zeros(shape=(caravan.shape[0],1)), columns = ['label'])"
   ]
  },
  {
   "cell_type": "code",
   "execution_count": 64,
   "id": "7db8b4cd",
   "metadata": {},
   "outputs": [
    {
     "data": {
      "text/html": [
       "<div>\n",
       "<style scoped>\n",
       "    .dataframe tbody tr th:only-of-type {\n",
       "        vertical-align: middle;\n",
       "    }\n",
       "\n",
       "    .dataframe tbody tr th {\n",
       "        vertical-align: top;\n",
       "    }\n",
       "\n",
       "    .dataframe thead th {\n",
       "        text-align: right;\n",
       "    }\n",
       "</style>\n",
       "<table border=\"1\" class=\"dataframe\">\n",
       "  <thead>\n",
       "    <tr style=\"text-align: right;\">\n",
       "      <th></th>\n",
       "      <th>label</th>\n",
       "    </tr>\n",
       "  </thead>\n",
       "  <tbody>\n",
       "    <tr>\n",
       "      <th>0</th>\n",
       "      <td>0.0</td>\n",
       "    </tr>\n",
       "    <tr>\n",
       "      <th>1</th>\n",
       "      <td>0.0</td>\n",
       "    </tr>\n",
       "    <tr>\n",
       "      <th>2</th>\n",
       "      <td>0.0</td>\n",
       "    </tr>\n",
       "    <tr>\n",
       "      <th>3</th>\n",
       "      <td>0.0</td>\n",
       "    </tr>\n",
       "    <tr>\n",
       "      <th>4</th>\n",
       "      <td>0.0</td>\n",
       "    </tr>\n",
       "  </tbody>\n",
       "</table>\n",
       "</div>"
      ],
      "text/plain": [
       "   label\n",
       "0    0.0\n",
       "1    0.0\n",
       "2    0.0\n",
       "3    0.0\n",
       "4    0.0"
      ]
     },
     "execution_count": 64,
     "metadata": {},
     "output_type": "execute_result"
    }
   ],
   "source": [
    "predict_label.head()"
   ]
  },
  {
   "cell_type": "code",
   "execution_count": 65,
   "id": "5e48b6a2",
   "metadata": {},
   "outputs": [
    {
     "data": {
      "text/plain": [
       "(5822, 1)"
      ]
     },
     "execution_count": 65,
     "metadata": {},
     "output_type": "execute_result"
    }
   ],
   "source": [
    "predict_label.shape"
   ]
  },
  {
   "cell_type": "code",
   "execution_count": 67,
   "id": "b26fa719",
   "metadata": {},
   "outputs": [],
   "source": [
    "predict_label[caravan['Purchase'] == 'Yes'] = 1 \n",
    "\n",
    "# setting value of 'label' column in 'predict_label' to 1 for any row in 'caravan' where purchase is 'yes'\n",
    "# i.e. method for encoding target variable as binary variable\n",
    "\n",
    "caravan_drop = caravan.drop(labels='Purchase', axis=1)\n",
    "\n",
    "# creates new dataframe, 'caravan_drop' which copies 'caravan' but drops 'purchase' column\n",
    "# typically done when prepping for modelling since target variable should not be included as features for the trained model"
   ]
  },
  {
   "cell_type": "code",
   "execution_count": 68,
   "id": "213174b9",
   "metadata": {},
   "outputs": [],
   "source": [
    "# creating a training / test set for caravan data\n",
    "\n",
    "train_size = 1000 # setting size of training set to 1000, i.e. first 1000 rows will be used for training\n",
    "train_index = range(0, train_size) # creates range of interger indices from 0 to 'train_size' which'll be used to select the first 'train_size' rows of the dataset for training\n",
    "X_validate = caravan_drop.iloc[train_index, ] # assigns rows from 'caravan_drop' (i.e. newest caravan dataframe without 'purchase') to a validation set \n",
    "Y_validate = predict_label.iloc[train_index, ] # does the same above, but for 'predict_label' (i.e. the dataframe containing only the 'purchase' variable) to create a target variable for the validation\n",
    "X_train = caravan_drop.iloc[train_size:, ] # selects all rows in 'caravan_drop' except for the first 'train_size' rows\n",
    "Y_train = predict_label.iloc[train_size:, ] # selects all rows in 'predict_label' except for the first 'train_size' rows"
   ]
  },
  {
   "cell_type": "code",
   "execution_count": 70,
   "id": "72d6064c",
   "metadata": {},
   "outputs": [],
   "source": [
    "# performing feature scaling using the 'preprocessing' module from scikit-learn\n",
    "# doing this to scale features in validation set in the same way as training\n",
    "# so that they have similar magnitudes and can be used for prediction by the trained model\n",
    "\n",
    "X_train_scaled = preprocessing.scale(X_train) # scaling features in training set\n",
    "scaler = preprocessing.StandardScaler().fit(X_train) # computes mean and std of features in training set, this will be used to scale the validation set\n",
    "X_validate_scaled = scaler.transform(X_validate) # transform the validation set using mean and std computed from training set\n"
   ]
  },
  {
   "cell_type": "markdown",
   "id": "dab49af8",
   "metadata": {},
   "source": [
    "#### Notes on feature scaling \n",
    "\n",
    "- Feature scaling is a common preprocessing step in machine learning that aims to standardize the range of feature values, so that they have similar magnitudes and the algorithm can learn more effectively. \n",
    "-  'preprocessing.scale()' scales each feature to have zero mean and unit variance, using the formula (x - mean) / std, where x is the feature value, mean is the mean of the feature values in the training set, and std is the standard deviation of the feature values in the training set."
   ]
  },
  {
   "cell_type": "code",
   "execution_count": 76,
   "id": "649c9b1b",
   "metadata": {},
   "outputs": [],
   "source": [
    "n_neighbors = 1\n",
    "neigh = KNN(n_neighbors=n_neighbors)\n",
    "KNN_fit = neigh.fit(X_train_scaled, Y_train.iloc[:,0]) # fits KNN model to training data\n",
    "X_validate_labels = KNN_fit.predict(X_validate_scaled) # predicts labels of validation set, returns numpy array of binary labels (0 or 1)\n",
    "X_validate_prob = KNN_fit.predict_proba(X_validate_scaled) # calculates predicted probabilities of labels for validation set "
   ]
  },
  {
   "cell_type": "code",
   "execution_count": 75,
   "id": "c5671195",
   "metadata": {},
   "outputs": [
    {
     "name": "stdout",
     "output_type": "stream",
     "text": [
      "0.883\n",
      "[[874  67]\n",
      " [ 50   9]]\n"
     ]
    }
   ],
   "source": [
    "print(np.mean(Y_validate.iloc[:,0]==X_validate_labels))\n",
    "print(confusion_matrix(Y_validate.iloc[:,0], X_validate_labels))"
   ]
  },
  {
   "cell_type": "markdown",
   "id": "df9248b0",
   "metadata": {},
   "source": [
    "### 7 Poisson regression\n",
    "\n",
    "Testing using bikeshare data "
   ]
  },
  {
   "cell_type": "code",
   "execution_count": 77,
   "id": "4b06188e",
   "metadata": {},
   "outputs": [],
   "source": [
    "bikeshare = pd.read_csv('data/Bikeshare.csv', header=0)"
   ]
  },
  {
   "cell_type": "code",
   "execution_count": 79,
   "id": "bbd73cdd",
   "metadata": {},
   "outputs": [
    {
     "data": {
      "text/html": [
       "<div>\n",
       "<style scoped>\n",
       "    .dataframe tbody tr th:only-of-type {\n",
       "        vertical-align: middle;\n",
       "    }\n",
       "\n",
       "    .dataframe tbody tr th {\n",
       "        vertical-align: top;\n",
       "    }\n",
       "\n",
       "    .dataframe thead th {\n",
       "        text-align: right;\n",
       "    }\n",
       "</style>\n",
       "<table border=\"1\" class=\"dataframe\">\n",
       "  <thead>\n",
       "    <tr style=\"text-align: right;\">\n",
       "      <th></th>\n",
       "      <th>Unnamed: 0</th>\n",
       "      <th>season</th>\n",
       "      <th>mnth</th>\n",
       "      <th>day</th>\n",
       "      <th>hr</th>\n",
       "      <th>holiday</th>\n",
       "      <th>weekday</th>\n",
       "      <th>workingday</th>\n",
       "      <th>weathersit</th>\n",
       "      <th>temp</th>\n",
       "      <th>atemp</th>\n",
       "      <th>hum</th>\n",
       "      <th>windspeed</th>\n",
       "      <th>casual</th>\n",
       "      <th>registered</th>\n",
       "      <th>bikers</th>\n",
       "    </tr>\n",
       "  </thead>\n",
       "  <tbody>\n",
       "    <tr>\n",
       "      <th>0</th>\n",
       "      <td>1</td>\n",
       "      <td>1</td>\n",
       "      <td>Jan</td>\n",
       "      <td>1</td>\n",
       "      <td>0</td>\n",
       "      <td>0</td>\n",
       "      <td>6</td>\n",
       "      <td>0</td>\n",
       "      <td>clear</td>\n",
       "      <td>0.24</td>\n",
       "      <td>0.2879</td>\n",
       "      <td>0.81</td>\n",
       "      <td>0.0</td>\n",
       "      <td>3</td>\n",
       "      <td>13</td>\n",
       "      <td>16</td>\n",
       "    </tr>\n",
       "    <tr>\n",
       "      <th>1</th>\n",
       "      <td>2</td>\n",
       "      <td>1</td>\n",
       "      <td>Jan</td>\n",
       "      <td>1</td>\n",
       "      <td>1</td>\n",
       "      <td>0</td>\n",
       "      <td>6</td>\n",
       "      <td>0</td>\n",
       "      <td>clear</td>\n",
       "      <td>0.22</td>\n",
       "      <td>0.2727</td>\n",
       "      <td>0.80</td>\n",
       "      <td>0.0</td>\n",
       "      <td>8</td>\n",
       "      <td>32</td>\n",
       "      <td>40</td>\n",
       "    </tr>\n",
       "    <tr>\n",
       "      <th>2</th>\n",
       "      <td>3</td>\n",
       "      <td>1</td>\n",
       "      <td>Jan</td>\n",
       "      <td>1</td>\n",
       "      <td>2</td>\n",
       "      <td>0</td>\n",
       "      <td>6</td>\n",
       "      <td>0</td>\n",
       "      <td>clear</td>\n",
       "      <td>0.22</td>\n",
       "      <td>0.2727</td>\n",
       "      <td>0.80</td>\n",
       "      <td>0.0</td>\n",
       "      <td>5</td>\n",
       "      <td>27</td>\n",
       "      <td>32</td>\n",
       "    </tr>\n",
       "    <tr>\n",
       "      <th>3</th>\n",
       "      <td>4</td>\n",
       "      <td>1</td>\n",
       "      <td>Jan</td>\n",
       "      <td>1</td>\n",
       "      <td>3</td>\n",
       "      <td>0</td>\n",
       "      <td>6</td>\n",
       "      <td>0</td>\n",
       "      <td>clear</td>\n",
       "      <td>0.24</td>\n",
       "      <td>0.2879</td>\n",
       "      <td>0.75</td>\n",
       "      <td>0.0</td>\n",
       "      <td>3</td>\n",
       "      <td>10</td>\n",
       "      <td>13</td>\n",
       "    </tr>\n",
       "    <tr>\n",
       "      <th>4</th>\n",
       "      <td>5</td>\n",
       "      <td>1</td>\n",
       "      <td>Jan</td>\n",
       "      <td>1</td>\n",
       "      <td>4</td>\n",
       "      <td>0</td>\n",
       "      <td>6</td>\n",
       "      <td>0</td>\n",
       "      <td>clear</td>\n",
       "      <td>0.24</td>\n",
       "      <td>0.2879</td>\n",
       "      <td>0.75</td>\n",
       "      <td>0.0</td>\n",
       "      <td>0</td>\n",
       "      <td>1</td>\n",
       "      <td>1</td>\n",
       "    </tr>\n",
       "  </tbody>\n",
       "</table>\n",
       "</div>"
      ],
      "text/plain": [
       "   Unnamed: 0  season mnth  day  hr  holiday  weekday  workingday weathersit  \\\n",
       "0           1       1  Jan    1   0        0        6           0      clear   \n",
       "1           2       1  Jan    1   1        0        6           0      clear   \n",
       "2           3       1  Jan    1   2        0        6           0      clear   \n",
       "3           4       1  Jan    1   3        0        6           0      clear   \n",
       "4           5       1  Jan    1   4        0        6           0      clear   \n",
       "\n",
       "   temp   atemp   hum  windspeed  casual  registered  bikers  \n",
       "0  0.24  0.2879  0.81        0.0       3          13      16  \n",
       "1  0.22  0.2727  0.80        0.0       8          32      40  \n",
       "2  0.22  0.2727  0.80        0.0       5          27      32  \n",
       "3  0.24  0.2879  0.75        0.0       3          10      13  \n",
       "4  0.24  0.2879  0.75        0.0       0           1       1  "
      ]
     },
     "execution_count": 79,
     "metadata": {},
     "output_type": "execute_result"
    }
   ],
   "source": [
    "bikeshare.head()"
   ]
  },
  {
   "cell_type": "code",
   "execution_count": 80,
   "id": "5f1bc12f",
   "metadata": {},
   "outputs": [
    {
     "data": {
      "text/plain": [
       "(8645, 16)"
      ]
     },
     "execution_count": 80,
     "metadata": {},
     "output_type": "execute_result"
    }
   ],
   "source": [
    "bikeshare.shape"
   ]
  },
  {
   "cell_type": "code",
   "execution_count": 85,
   "id": "83393d4e",
   "metadata": {},
   "outputs": [],
   "source": [
    "# first build linear regression model and explore results\n",
    "\n",
    "lm_bikeshare = smf.ols('bikers~mnth+hr+workingday+temp+weathersit', data = bikeshare).fit()"
   ]
  },
  {
   "cell_type": "code",
   "execution_count": 83,
   "id": "a53c87fe",
   "metadata": {},
   "outputs": [
    {
     "data": {
      "text/html": [
       "<table class=\"simpletable\">\n",
       "<caption>OLS Regression Results</caption>\n",
       "<tr>\n",
       "  <th>Dep. Variable:</th>         <td>bikers</td>      <th>  R-squared:         </th> <td>   0.364</td> \n",
       "</tr>\n",
       "<tr>\n",
       "  <th>Model:</th>                   <td>OLS</td>       <th>  Adj. R-squared:    </th> <td>   0.363</td> \n",
       "</tr>\n",
       "<tr>\n",
       "  <th>Method:</th>             <td>Least Squares</td>  <th>  F-statistic:       </th> <td>   291.1</td> \n",
       "</tr>\n",
       "<tr>\n",
       "  <th>Date:</th>             <td>Sun, 07 May 2023</td> <th>  Prob (F-statistic):</th>  <td>  0.00</td>  \n",
       "</tr>\n",
       "<tr>\n",
       "  <th>Time:</th>                 <td>14:15:21</td>     <th>  Log-Likelihood:    </th> <td> -52635.</td> \n",
       "</tr>\n",
       "<tr>\n",
       "  <th>No. Observations:</th>      <td>  8645</td>      <th>  AIC:               </th> <td>1.053e+05</td>\n",
       "</tr>\n",
       "<tr>\n",
       "  <th>Df Residuals:</th>          <td>  8627</td>      <th>  BIC:               </th> <td>1.054e+05</td>\n",
       "</tr>\n",
       "<tr>\n",
       "  <th>Df Model:</th>              <td>    17</td>      <th>                     </th>     <td> </td>    \n",
       "</tr>\n",
       "<tr>\n",
       "  <th>Covariance Type:</th>      <td>nonrobust</td>    <th>                     </th>     <td> </td>    \n",
       "</tr>\n",
       "</table>\n",
       "<table class=\"simpletable\">\n",
       "<tr>\n",
       "                <td></td>                   <th>coef</th>     <th>std err</th>      <th>t</th>      <th>P>|t|</th>  <th>[0.025</th>    <th>0.975]</th>  \n",
       "</tr>\n",
       "<tr>\n",
       "  <th>Intercept</th>                     <td> -101.1052</td> <td>    7.269</td> <td>  -13.910</td> <td> 0.000</td> <td> -115.353</td> <td>  -86.857</td>\n",
       "</tr>\n",
       "<tr>\n",
       "  <th>mnth[T.Aug]</th>                   <td>  -33.1123</td> <td>    6.410</td> <td>   -5.166</td> <td> 0.000</td> <td>  -45.677</td> <td>  -20.547</td>\n",
       "</tr>\n",
       "<tr>\n",
       "  <th>mnth[T.Dec]</th>                   <td>   34.7242</td> <td>    5.908</td> <td>    5.878</td> <td> 0.000</td> <td>   23.144</td> <td>   46.305</td>\n",
       "</tr>\n",
       "<tr>\n",
       "  <th>mnth[T.Feb]</th>                   <td>    5.3621</td> <td>    6.279</td> <td>    0.854</td> <td> 0.393</td> <td>   -6.946</td> <td>   17.670</td>\n",
       "</tr>\n",
       "<tr>\n",
       "  <th>mnth[T.Jan]</th>                   <td>   15.8861</td> <td>    6.731</td> <td>    2.360</td> <td> 0.018</td> <td>    2.691</td> <td>   29.081</td>\n",
       "</tr>\n",
       "<tr>\n",
       "  <th>mnth[T.July]</th>                  <td>  -52.1488</td> <td>    6.769</td> <td>   -7.704</td> <td> 0.000</td> <td>  -65.417</td> <td>  -38.881</td>\n",
       "</tr>\n",
       "<tr>\n",
       "  <th>mnth[T.June]</th>                  <td>  -16.8499</td> <td>    6.343</td> <td>   -2.656</td> <td> 0.008</td> <td>  -29.284</td> <td>   -4.416</td>\n",
       "</tr>\n",
       "<tr>\n",
       "  <th>mnth[T.March]</th>                 <td>    4.4564</td> <td>    5.906</td> <td>    0.755</td> <td> 0.451</td> <td>   -7.121</td> <td>   16.034</td>\n",
       "</tr>\n",
       "<tr>\n",
       "  <th>mnth[T.May]</th>                   <td>   10.3534</td> <td>    5.757</td> <td>    1.798</td> <td> 0.072</td> <td>   -0.932</td> <td>   21.639</td>\n",
       "</tr>\n",
       "<tr>\n",
       "  <th>mnth[T.Nov]</th>                   <td>   32.8573</td> <td>    5.705</td> <td>    5.759</td> <td> 0.000</td> <td>   21.674</td> <td>   44.041</td>\n",
       "</tr>\n",
       "<tr>\n",
       "  <th>mnth[T.Oct]</th>                   <td>   34.6532</td> <td>    5.591</td> <td>    6.198</td> <td> 0.000</td> <td>   23.694</td> <td>   45.613</td>\n",
       "</tr>\n",
       "<tr>\n",
       "  <th>mnth[T.Sept]</th>                  <td>   -3.0572</td> <td>    5.930</td> <td>   -0.516</td> <td> 0.606</td> <td>  -14.681</td> <td>    8.567</td>\n",
       "</tr>\n",
       "<tr>\n",
       "  <th>weathersit[T.cloudy/misty]</th>    <td>  -10.5972</td> <td>    2.729</td> <td>   -3.884</td> <td> 0.000</td> <td>  -15.946</td> <td>   -5.249</td>\n",
       "</tr>\n",
       "<tr>\n",
       "  <th>weathersit[T.heavy rain/snow]</th> <td>  -62.2356</td> <td>  106.855</td> <td>   -0.582</td> <td> 0.560</td> <td> -271.698</td> <td>  147.227</td>\n",
       "</tr>\n",
       "<tr>\n",
       "  <th>weathersit[T.light rain/snow]</th> <td>  -58.2213</td> <td>    4.133</td> <td>  -14.088</td> <td> 0.000</td> <td>  -66.322</td> <td>  -50.120</td>\n",
       "</tr>\n",
       "<tr>\n",
       "  <th>hr</th>                            <td>    6.6441</td> <td>    0.174</td> <td>   38.286</td> <td> 0.000</td> <td>    6.304</td> <td>    6.984</td>\n",
       "</tr>\n",
       "<tr>\n",
       "  <th>workingday</th>                    <td>   -1.1738</td> <td>    2.489</td> <td>   -0.472</td> <td> 0.637</td> <td>   -6.053</td> <td>    3.705</td>\n",
       "</tr>\n",
       "<tr>\n",
       "  <th>temp</th>                          <td>  356.0133</td> <td>   13.007</td> <td>   27.370</td> <td> 0.000</td> <td>  330.516</td> <td>  381.511</td>\n",
       "</tr>\n",
       "</table>\n",
       "<table class=\"simpletable\">\n",
       "<tr>\n",
       "  <th>Omnibus:</th>       <td>1288.401</td> <th>  Durbin-Watson:     </th> <td>   0.571</td>\n",
       "</tr>\n",
       "<tr>\n",
       "  <th>Prob(Omnibus):</th>  <td> 0.000</td>  <th>  Jarque-Bera (JB):  </th> <td>2017.317</td>\n",
       "</tr>\n",
       "<tr>\n",
       "  <th>Skew:</th>           <td> 1.044</td>  <th>  Prob(JB):          </th> <td>    0.00</td>\n",
       "</tr>\n",
       "<tr>\n",
       "  <th>Kurtosis:</th>       <td> 4.113</td>  <th>  Cond. No.          </th> <td>1.26e+03</td>\n",
       "</tr>\n",
       "</table><br/><br/>Notes:<br/>[1] Standard Errors assume that the covariance matrix of the errors is correctly specified.<br/>[2] The condition number is large, 1.26e+03. This might indicate that there are<br/>strong multicollinearity or other numerical problems."
      ],
      "text/plain": [
       "<class 'statsmodels.iolib.summary.Summary'>\n",
       "\"\"\"\n",
       "                            OLS Regression Results                            \n",
       "==============================================================================\n",
       "Dep. Variable:                 bikers   R-squared:                       0.364\n",
       "Model:                            OLS   Adj. R-squared:                  0.363\n",
       "Method:                 Least Squares   F-statistic:                     291.1\n",
       "Date:                Sun, 07 May 2023   Prob (F-statistic):               0.00\n",
       "Time:                        14:15:21   Log-Likelihood:                -52635.\n",
       "No. Observations:                8645   AIC:                         1.053e+05\n",
       "Df Residuals:                    8627   BIC:                         1.054e+05\n",
       "Df Model:                          17                                         \n",
       "Covariance Type:            nonrobust                                         \n",
       "=================================================================================================\n",
       "                                    coef    std err          t      P>|t|      [0.025      0.975]\n",
       "-------------------------------------------------------------------------------------------------\n",
       "Intercept                      -101.1052      7.269    -13.910      0.000    -115.353     -86.857\n",
       "mnth[T.Aug]                     -33.1123      6.410     -5.166      0.000     -45.677     -20.547\n",
       "mnth[T.Dec]                      34.7242      5.908      5.878      0.000      23.144      46.305\n",
       "mnth[T.Feb]                       5.3621      6.279      0.854      0.393      -6.946      17.670\n",
       "mnth[T.Jan]                      15.8861      6.731      2.360      0.018       2.691      29.081\n",
       "mnth[T.July]                    -52.1488      6.769     -7.704      0.000     -65.417     -38.881\n",
       "mnth[T.June]                    -16.8499      6.343     -2.656      0.008     -29.284      -4.416\n",
       "mnth[T.March]                     4.4564      5.906      0.755      0.451      -7.121      16.034\n",
       "mnth[T.May]                      10.3534      5.757      1.798      0.072      -0.932      21.639\n",
       "mnth[T.Nov]                      32.8573      5.705      5.759      0.000      21.674      44.041\n",
       "mnth[T.Oct]                      34.6532      5.591      6.198      0.000      23.694      45.613\n",
       "mnth[T.Sept]                     -3.0572      5.930     -0.516      0.606     -14.681       8.567\n",
       "weathersit[T.cloudy/misty]      -10.5972      2.729     -3.884      0.000     -15.946      -5.249\n",
       "weathersit[T.heavy rain/snow]   -62.2356    106.855     -0.582      0.560    -271.698     147.227\n",
       "weathersit[T.light rain/snow]   -58.2213      4.133    -14.088      0.000     -66.322     -50.120\n",
       "hr                                6.6441      0.174     38.286      0.000       6.304       6.984\n",
       "workingday                       -1.1738      2.489     -0.472      0.637      -6.053       3.705\n",
       "temp                            356.0133     13.007     27.370      0.000     330.516     381.511\n",
       "==============================================================================\n",
       "Omnibus:                     1288.401   Durbin-Watson:                   0.571\n",
       "Prob(Omnibus):                  0.000   Jarque-Bera (JB):             2017.317\n",
       "Skew:                           1.044   Prob(JB):                         0.00\n",
       "Kurtosis:                       4.113   Cond. No.                     1.26e+03\n",
       "==============================================================================\n",
       "\n",
       "Notes:\n",
       "[1] Standard Errors assume that the covariance matrix of the errors is correctly specified.\n",
       "[2] The condition number is large, 1.26e+03. This might indicate that there are\n",
       "strong multicollinearity or other numerical problems.\n",
       "\"\"\""
      ]
     },
     "execution_count": 83,
     "metadata": {},
     "output_type": "execute_result"
    }
   ],
   "source": [
    "lm_bikeshare.summary()"
   ]
  },
  {
   "cell_type": "code",
   "execution_count": 86,
   "id": "6d7e0926",
   "metadata": {},
   "outputs": [
    {
     "data": {
      "text/plain": [
       "106.65534360848791"
      ]
     },
     "execution_count": 86,
     "metadata": {},
     "output_type": "execute_result"
    }
   ],
   "source": [
    "# getting a sense of the RMSE \n",
    "np.sqrt(((lm_bikeshare.fittedvalues - bikeshare.bikers)**2).sum()/len(bikeshare.bikers))"
   ]
  },
  {
   "cell_type": "code",
   "execution_count": 89,
   "id": "5cae5f8d",
   "metadata": {},
   "outputs": [],
   "source": [
    "# now considering whether possion regression model would do a better job\n",
    "glm_bikeshare = smf.glm('bikers~mnth+hr+workingday+temp+weathersit', data = bikeshare, family=sma.families.Poisson()).fit()"
   ]
  },
  {
   "cell_type": "code",
   "execution_count": 90,
   "id": "6af3e285",
   "metadata": {},
   "outputs": [
    {
     "data": {
      "text/html": [
       "<table class=\"simpletable\">\n",
       "<caption>Generalized Linear Model Regression Results</caption>\n",
       "<tr>\n",
       "  <th>Dep. Variable:</th>        <td>bikers</td>      <th>  No. Observations:  </th>   <td>  8645</td>   \n",
       "</tr>\n",
       "<tr>\n",
       "  <th>Model:</th>                  <td>GLM</td>       <th>  Df Residuals:      </th>   <td>  8627</td>   \n",
       "</tr>\n",
       "<tr>\n",
       "  <th>Model Family:</th>         <td>Poisson</td>     <th>  Df Model:          </th>   <td>    17</td>   \n",
       "</tr>\n",
       "<tr>\n",
       "  <th>Link Function:</th>          <td>Log</td>       <th>  Scale:             </th>  <td>  1.0000</td>  \n",
       "</tr>\n",
       "<tr>\n",
       "  <th>Method:</th>                <td>IRLS</td>       <th>  Log-Likelihood:    </th> <td>-3.4404e+05</td>\n",
       "</tr>\n",
       "<tr>\n",
       "  <th>Date:</th>            <td>Sun, 07 May 2023</td> <th>  Deviance:          </th> <td>6.3504e+05</td> \n",
       "</tr>\n",
       "<tr>\n",
       "  <th>Time:</th>                <td>14:19:16</td>     <th>  Pearson chi2:      </th>  <td>6.83e+05</td>  \n",
       "</tr>\n",
       "<tr>\n",
       "  <th>No. Iterations:</th>          <td>5</td>        <th>  Pseudo R-squ. (CS):</th>   <td> 1.000</td>   \n",
       "</tr>\n",
       "<tr>\n",
       "  <th>Covariance Type:</th>     <td>nonrobust</td>    <th>                     </th>      <td> </td>     \n",
       "</tr>\n",
       "</table>\n",
       "<table class=\"simpletable\">\n",
       "<tr>\n",
       "                <td></td>                   <th>coef</th>     <th>std err</th>      <th>z</th>      <th>P>|z|</th>  <th>[0.025</th>    <th>0.975]</th>  \n",
       "</tr>\n",
       "<tr>\n",
       "  <th>Intercept</th>                     <td>    3.0118</td> <td>    0.006</td> <td>  476.777</td> <td> 0.000</td> <td>    2.999</td> <td>    3.024</td>\n",
       "</tr>\n",
       "<tr>\n",
       "  <th>mnth[T.Aug]</th>                   <td>   -0.2288</td> <td>    0.005</td> <td>  -48.719</td> <td> 0.000</td> <td>   -0.238</td> <td>   -0.220</td>\n",
       "</tr>\n",
       "<tr>\n",
       "  <th>mnth[T.Dec]</th>                   <td>    0.2981</td> <td>    0.005</td> <td>   59.511</td> <td> 0.000</td> <td>    0.288</td> <td>    0.308</td>\n",
       "</tr>\n",
       "<tr>\n",
       "  <th>mnth[T.Feb]</th>                   <td>   -0.1015</td> <td>    0.006</td> <td>  -17.160</td> <td> 0.000</td> <td>   -0.113</td> <td>   -0.090</td>\n",
       "</tr>\n",
       "<tr>\n",
       "  <th>mnth[T.Jan]</th>                   <td>   -0.1450</td> <td>    0.007</td> <td>  -21.388</td> <td> 0.000</td> <td>   -0.158</td> <td>   -0.132</td>\n",
       "</tr>\n",
       "<tr>\n",
       "  <th>mnth[T.July]</th>                  <td>   -0.3777</td> <td>    0.005</td> <td>  -76.183</td> <td> 0.000</td> <td>   -0.387</td> <td>   -0.368</td>\n",
       "</tr>\n",
       "<tr>\n",
       "  <th>mnth[T.June]</th>                  <td>   -0.1502</td> <td>    0.005</td> <td>  -32.493</td> <td> 0.000</td> <td>   -0.159</td> <td>   -0.141</td>\n",
       "</tr>\n",
       "<tr>\n",
       "  <th>mnth[T.March]</th>                 <td>   -0.0312</td> <td>    0.005</td> <td>   -5.833</td> <td> 0.000</td> <td>   -0.042</td> <td>   -0.021</td>\n",
       "</tr>\n",
       "<tr>\n",
       "  <th>mnth[T.May]</th>                   <td>    0.0508</td> <td>    0.004</td> <td>   11.690</td> <td> 0.000</td> <td>    0.042</td> <td>    0.059</td>\n",
       "</tr>\n",
       "<tr>\n",
       "  <th>mnth[T.Nov]</th>                   <td>    0.2845</td> <td>    0.005</td> <td>   61.782</td> <td> 0.000</td> <td>    0.276</td> <td>    0.294</td>\n",
       "</tr>\n",
       "<tr>\n",
       "  <th>mnth[T.Oct]</th>                   <td>    0.2667</td> <td>    0.004</td> <td>   61.683</td> <td> 0.000</td> <td>    0.258</td> <td>    0.275</td>\n",
       "</tr>\n",
       "<tr>\n",
       "  <th>mnth[T.Sept]</th>                  <td>   -0.0065</td> <td>    0.004</td> <td>   -1.473</td> <td> 0.141</td> <td>   -0.015</td> <td>    0.002</td>\n",
       "</tr>\n",
       "<tr>\n",
       "  <th>weathersit[T.cloudy/misty]</th>    <td>   -0.0308</td> <td>    0.002</td> <td>  -14.233</td> <td> 0.000</td> <td>   -0.035</td> <td>   -0.027</td>\n",
       "</tr>\n",
       "<tr>\n",
       "  <th>weathersit[T.heavy rain/snow]</th> <td>   -0.6455</td> <td>    0.167</td> <td>   -3.871</td> <td> 0.000</td> <td>   -0.972</td> <td>   -0.319</td>\n",
       "</tr>\n",
       "<tr>\n",
       "  <th>weathersit[T.light rain/snow]</th> <td>   -0.4728</td> <td>    0.004</td> <td> -116.934</td> <td> 0.000</td> <td>   -0.481</td> <td>   -0.465</td>\n",
       "</tr>\n",
       "<tr>\n",
       "  <th>hr</th>                            <td>    0.0507</td> <td>    0.000</td> <td>  351.836</td> <td> 0.000</td> <td>    0.050</td> <td>    0.051</td>\n",
       "</tr>\n",
       "<tr>\n",
       "  <th>workingday</th>                    <td>   -0.0128</td> <td>    0.002</td> <td>   -6.573</td> <td> 0.000</td> <td>   -0.017</td> <td>   -0.009</td>\n",
       "</tr>\n",
       "<tr>\n",
       "  <th>temp</th>                          <td>    2.5639</td> <td>    0.010</td> <td>  257.622</td> <td> 0.000</td> <td>    2.544</td> <td>    2.583</td>\n",
       "</tr>\n",
       "</table>"
      ],
      "text/plain": [
       "<class 'statsmodels.iolib.summary.Summary'>\n",
       "\"\"\"\n",
       "                 Generalized Linear Model Regression Results                  \n",
       "==============================================================================\n",
       "Dep. Variable:                 bikers   No. Observations:                 8645\n",
       "Model:                            GLM   Df Residuals:                     8627\n",
       "Model Family:                 Poisson   Df Model:                           17\n",
       "Link Function:                    Log   Scale:                          1.0000\n",
       "Method:                          IRLS   Log-Likelihood:            -3.4404e+05\n",
       "Date:                Sun, 07 May 2023   Deviance:                   6.3504e+05\n",
       "Time:                        14:19:16   Pearson chi2:                 6.83e+05\n",
       "No. Iterations:                     5   Pseudo R-squ. (CS):              1.000\n",
       "Covariance Type:            nonrobust                                         \n",
       "=================================================================================================\n",
       "                                    coef    std err          z      P>|z|      [0.025      0.975]\n",
       "-------------------------------------------------------------------------------------------------\n",
       "Intercept                         3.0118      0.006    476.777      0.000       2.999       3.024\n",
       "mnth[T.Aug]                      -0.2288      0.005    -48.719      0.000      -0.238      -0.220\n",
       "mnth[T.Dec]                       0.2981      0.005     59.511      0.000       0.288       0.308\n",
       "mnth[T.Feb]                      -0.1015      0.006    -17.160      0.000      -0.113      -0.090\n",
       "mnth[T.Jan]                      -0.1450      0.007    -21.388      0.000      -0.158      -0.132\n",
       "mnth[T.July]                     -0.3777      0.005    -76.183      0.000      -0.387      -0.368\n",
       "mnth[T.June]                     -0.1502      0.005    -32.493      0.000      -0.159      -0.141\n",
       "mnth[T.March]                    -0.0312      0.005     -5.833      0.000      -0.042      -0.021\n",
       "mnth[T.May]                       0.0508      0.004     11.690      0.000       0.042       0.059\n",
       "mnth[T.Nov]                       0.2845      0.005     61.782      0.000       0.276       0.294\n",
       "mnth[T.Oct]                       0.2667      0.004     61.683      0.000       0.258       0.275\n",
       "mnth[T.Sept]                     -0.0065      0.004     -1.473      0.141      -0.015       0.002\n",
       "weathersit[T.cloudy/misty]       -0.0308      0.002    -14.233      0.000      -0.035      -0.027\n",
       "weathersit[T.heavy rain/snow]    -0.6455      0.167     -3.871      0.000      -0.972      -0.319\n",
       "weathersit[T.light rain/snow]    -0.4728      0.004   -116.934      0.000      -0.481      -0.465\n",
       "hr                                0.0507      0.000    351.836      0.000       0.050       0.051\n",
       "workingday                       -0.0128      0.002     -6.573      0.000      -0.017      -0.009\n",
       "temp                              2.5639      0.010    257.622      0.000       2.544       2.583\n",
       "=================================================================================================\n",
       "\"\"\""
      ]
     },
     "execution_count": 90,
     "metadata": {},
     "output_type": "execute_result"
    }
   ],
   "source": [
    "glm_bikeshare.summary()"
   ]
  },
  {
   "cell_type": "code",
   "execution_count": 91,
   "id": "a7aeb3d5",
   "metadata": {},
   "outputs": [
    {
     "data": {
      "text/plain": [
       "107.73434730516972"
      ]
     },
     "execution_count": 91,
     "metadata": {},
     "output_type": "execute_result"
    }
   ],
   "source": [
    "# another look at the RMSE to judge whether poisson regression model is better than linear\n",
    "np.sqrt(((glm_bikeshare.fittedvalues - bikeshare.bikers)**2).sum()/len(bikeshare.bikers))"
   ]
  },
  {
   "cell_type": "markdown",
   "id": "e91c243d",
   "metadata": {},
   "source": [
    "#### Notes on this section\n",
    "\n",
    "- This demonstrates the steps involved in trying two different models\n",
    "- Linear models are often tested first to give a baseline against which to test the performance of other models.\n",
    "- Once a linear model has been tested and its assumptions have been checked, we can then consider more complex models (e.g. Poisson regression).\n",
    "- By comparing the performance of different models, we can select the one that best fits their data and research question.\n",
    "\n",
    "<b> The steps demo-ed in this section aren't comprehensive of how we'd normally test different models, this would normally include the following: </b>\n",
    "- Load, clean, prepare the data thoroughly\n",
    "- Create test / training sets \n",
    "- Fit each model to training set\n",
    "- Evaluate the performance of each model on the test set (e.g. calculate prediction accuracy via statistic like RMSE) \n",
    "- Compare performance of the two models using statistical metric (e.g. RMSE, MAE, R-squared) or visual represetnation (e.g. residual plots, QQ plots, ROC curves) \n",
    "- Select model that performs best on the testing data. Consider complexity, interpretability, generalisability of each model before making final decision. \n"
   ]
  }
 ],
 "metadata": {
  "kernelspec": {
   "display_name": "Python 3 (ipykernel)",
   "language": "python",
   "name": "python3"
  },
  "language_info": {
   "codemirror_mode": {
    "name": "ipython",
    "version": 3
   },
   "file_extension": ".py",
   "mimetype": "text/x-python",
   "name": "python",
   "nbconvert_exporter": "python",
   "pygments_lexer": "ipython3",
   "version": "3.10.9"
  }
 },
 "nbformat": 4,
 "nbformat_minor": 5
}
