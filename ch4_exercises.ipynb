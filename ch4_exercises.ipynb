{
 "cells": [
  {
   "cell_type": "markdown",
   "id": "01c7cdb6",
   "metadata": {},
   "source": [
    "## Ch4 exercises\n",
    "\n",
    "My attempt at Q13 and Q14 "
   ]
  },
  {
   "cell_type": "markdown",
   "id": "668ee06a",
   "metadata": {},
   "source": [
    "### 1 Libraries and dataset(s)"
   ]
  },
  {
   "cell_type": "code",
   "execution_count": 1,
   "id": "1728463e",
   "metadata": {},
   "outputs": [],
   "source": [
    "import numpy as np # numerical computing library for working with arrays, linear algebra etc\n",
    "import matplotlib.pyplot as plt # for creating plots\n",
    "import pandas as pd  # data manipulation and analysis library for creating data structures \n",
    "import math\n",
    "from patsy import dmatrices\n",
    "import statsmodels.discrete.discrete_model as sm\n",
    "import statsmodels.formula.api as smf\n",
    "import statsmodels.api as sma\n",
    "from statsmodels.graphics.regressionplots import * # imports all\n",
    "from sklearn import datasets, linear_model\n",
    "from sklearn.metrics import confusion_matrix\n",
    "from sklearn.discriminant_analysis import LinearDiscriminantAnalysis as LDA\n",
    "from sklearn.discriminant_analysis import QuadraticDiscriminantAnalysis as QDA\n",
    "from sklearn.naive_bayes import GaussianNB as NB\n",
    "from sklearn.neighbors import KNeighborsClassifier as KNN\n",
    "from sklearn import preprocessing"
   ]
  },
  {
   "cell_type": "code",
   "execution_count": 16,
   "id": "d94745b5",
   "metadata": {},
   "outputs": [],
   "source": [
    "weekly = pd.read_csv('data/Weekly.csv', header = 0)"
   ]
  },
  {
   "cell_type": "markdown",
   "id": "58eea0d3",
   "metadata": {},
   "source": [
    "#### Dataset description\n",
    "\n",
    "'Weekly' is stock market data simialr to 'Smarket' except contains 1089 weekly returns for 21 years (1990 – 2010). Variables include:\n",
    "\n",
    "- <b>'Year'</b> : the year of the observation.\n",
    "- <b>'Lag1', 'Lag2, 'Lag3', 'Lag4', 'Lag5'</b>: the % returns for each lagged day, where 'Lag1' corresponds to the % return for the previous day,  'Lag2' corresponds to the % return for 2 days previous, and so on. \n",
    "- <b>'Volume'</b>: the number of shares traded on the previous day, in billions.\n",
    "- <b>'Today'</b>: the % returns for the current day\n",
    "- <b>'Direction'</b>: a binary variable indicating whether the market went up or down on the current day.\n",
    "\n",
    "The goal is to use the dataset to predict the direction of the stock market based on the previou day's returns and the current day's volume. "
   ]
  },
  {
   "cell_type": "code",
   "execution_count": 15,
   "id": "d097610a",
   "metadata": {},
   "outputs": [
    {
     "data": {
      "text/html": [
       "<div>\n",
       "<style scoped>\n",
       "    .dataframe tbody tr th:only-of-type {\n",
       "        vertical-align: middle;\n",
       "    }\n",
       "\n",
       "    .dataframe tbody tr th {\n",
       "        vertical-align: top;\n",
       "    }\n",
       "\n",
       "    .dataframe thead th {\n",
       "        text-align: right;\n",
       "    }\n",
       "</style>\n",
       "<table border=\"1\" class=\"dataframe\">\n",
       "  <thead>\n",
       "    <tr style=\"text-align: right;\">\n",
       "      <th></th>\n",
       "      <th>Year</th>\n",
       "      <th>Lag1</th>\n",
       "      <th>Lag2</th>\n",
       "      <th>Lag3</th>\n",
       "      <th>Lag4</th>\n",
       "      <th>Lag5</th>\n",
       "      <th>Volume</th>\n",
       "      <th>Today</th>\n",
       "      <th>Direction</th>\n",
       "    </tr>\n",
       "  </thead>\n",
       "  <tbody>\n",
       "    <tr>\n",
       "      <th>0</th>\n",
       "      <td>1990</td>\n",
       "      <td>0.816</td>\n",
       "      <td>1.572</td>\n",
       "      <td>-3.936</td>\n",
       "      <td>-0.229</td>\n",
       "      <td>-3.484</td>\n",
       "      <td>0.154976</td>\n",
       "      <td>-0.270</td>\n",
       "      <td>Down</td>\n",
       "    </tr>\n",
       "    <tr>\n",
       "      <th>1</th>\n",
       "      <td>1990</td>\n",
       "      <td>-0.270</td>\n",
       "      <td>0.816</td>\n",
       "      <td>1.572</td>\n",
       "      <td>-3.936</td>\n",
       "      <td>-0.229</td>\n",
       "      <td>0.148574</td>\n",
       "      <td>-2.576</td>\n",
       "      <td>Down</td>\n",
       "    </tr>\n",
       "    <tr>\n",
       "      <th>2</th>\n",
       "      <td>1990</td>\n",
       "      <td>-2.576</td>\n",
       "      <td>-0.270</td>\n",
       "      <td>0.816</td>\n",
       "      <td>1.572</td>\n",
       "      <td>-3.936</td>\n",
       "      <td>0.159837</td>\n",
       "      <td>3.514</td>\n",
       "      <td>Up</td>\n",
       "    </tr>\n",
       "    <tr>\n",
       "      <th>3</th>\n",
       "      <td>1990</td>\n",
       "      <td>3.514</td>\n",
       "      <td>-2.576</td>\n",
       "      <td>-0.270</td>\n",
       "      <td>0.816</td>\n",
       "      <td>1.572</td>\n",
       "      <td>0.161630</td>\n",
       "      <td>0.712</td>\n",
       "      <td>Up</td>\n",
       "    </tr>\n",
       "    <tr>\n",
       "      <th>4</th>\n",
       "      <td>1990</td>\n",
       "      <td>0.712</td>\n",
       "      <td>3.514</td>\n",
       "      <td>-2.576</td>\n",
       "      <td>-0.270</td>\n",
       "      <td>0.816</td>\n",
       "      <td>0.153728</td>\n",
       "      <td>1.178</td>\n",
       "      <td>Up</td>\n",
       "    </tr>\n",
       "    <tr>\n",
       "      <th>...</th>\n",
       "      <td>...</td>\n",
       "      <td>...</td>\n",
       "      <td>...</td>\n",
       "      <td>...</td>\n",
       "      <td>...</td>\n",
       "      <td>...</td>\n",
       "      <td>...</td>\n",
       "      <td>...</td>\n",
       "      <td>...</td>\n",
       "    </tr>\n",
       "    <tr>\n",
       "      <th>495</th>\n",
       "      <td>1999</td>\n",
       "      <td>-2.140</td>\n",
       "      <td>-2.080</td>\n",
       "      <td>-4.359</td>\n",
       "      <td>1.105</td>\n",
       "      <td>0.867</td>\n",
       "      <td>0.747330</td>\n",
       "      <td>2.106</td>\n",
       "      <td>Up</td>\n",
       "    </tr>\n",
       "    <tr>\n",
       "      <th>496</th>\n",
       "      <td>1999</td>\n",
       "      <td>2.106</td>\n",
       "      <td>-2.140</td>\n",
       "      <td>-2.080</td>\n",
       "      <td>-4.359</td>\n",
       "      <td>1.105</td>\n",
       "      <td>0.750020</td>\n",
       "      <td>0.673</td>\n",
       "      <td>Up</td>\n",
       "    </tr>\n",
       "    <tr>\n",
       "      <th>497</th>\n",
       "      <td>1999</td>\n",
       "      <td>0.673</td>\n",
       "      <td>2.106</td>\n",
       "      <td>-2.140</td>\n",
       "      <td>-2.080</td>\n",
       "      <td>-4.359</td>\n",
       "      <td>0.660650</td>\n",
       "      <td>0.872</td>\n",
       "      <td>Up</td>\n",
       "    </tr>\n",
       "    <tr>\n",
       "      <th>498</th>\n",
       "      <td>1999</td>\n",
       "      <td>0.872</td>\n",
       "      <td>0.673</td>\n",
       "      <td>2.106</td>\n",
       "      <td>-2.140</td>\n",
       "      <td>-2.080</td>\n",
       "      <td>0.713790</td>\n",
       "      <td>0.665</td>\n",
       "      <td>Up</td>\n",
       "    </tr>\n",
       "    <tr>\n",
       "      <th>499</th>\n",
       "      <td>1999</td>\n",
       "      <td>0.665</td>\n",
       "      <td>0.872</td>\n",
       "      <td>0.673</td>\n",
       "      <td>2.106</td>\n",
       "      <td>-2.140</td>\n",
       "      <td>0.703620</td>\n",
       "      <td>-0.411</td>\n",
       "      <td>Down</td>\n",
       "    </tr>\n",
       "  </tbody>\n",
       "</table>\n",
       "<p>500 rows × 9 columns</p>\n",
       "</div>"
      ],
      "text/plain": [
       "     Year   Lag1   Lag2   Lag3   Lag4   Lag5    Volume  Today Direction\n",
       "0    1990  0.816  1.572 -3.936 -0.229 -3.484  0.154976 -0.270      Down\n",
       "1    1990 -0.270  0.816  1.572 -3.936 -0.229  0.148574 -2.576      Down\n",
       "2    1990 -2.576 -0.270  0.816  1.572 -3.936  0.159837  3.514        Up\n",
       "3    1990  3.514 -2.576 -0.270  0.816  1.572  0.161630  0.712        Up\n",
       "4    1990  0.712  3.514 -2.576 -0.270  0.816  0.153728  1.178        Up\n",
       "..    ...    ...    ...    ...    ...    ...       ...    ...       ...\n",
       "495  1999 -2.140 -2.080 -4.359  1.105  0.867  0.747330  2.106        Up\n",
       "496  1999  2.106 -2.140 -2.080 -4.359  1.105  0.750020  0.673        Up\n",
       "497  1999  0.673  2.106 -2.140 -2.080 -4.359  0.660650  0.872        Up\n",
       "498  1999  0.872  0.673  2.106 -2.140 -2.080  0.713790  0.665        Up\n",
       "499  1999  0.665  0.872  0.673  2.106 -2.140  0.703620 -0.411      Down\n",
       "\n",
       "[500 rows x 9 columns]"
      ]
     },
     "execution_count": 15,
     "metadata": {},
     "output_type": "execute_result"
    }
   ],
   "source": [
    "weekly.head(500)"
   ]
  },
  {
   "cell_type": "code",
   "execution_count": 12,
   "id": "6427791e",
   "metadata": {},
   "outputs": [
    {
     "data": {
      "text/html": [
       "<div>\n",
       "<style scoped>\n",
       "    .dataframe tbody tr th:only-of-type {\n",
       "        vertical-align: middle;\n",
       "    }\n",
       "\n",
       "    .dataframe tbody tr th {\n",
       "        vertical-align: top;\n",
       "    }\n",
       "\n",
       "    .dataframe thead th {\n",
       "        text-align: right;\n",
       "    }\n",
       "</style>\n",
       "<table border=\"1\" class=\"dataframe\">\n",
       "  <thead>\n",
       "    <tr style=\"text-align: right;\">\n",
       "      <th></th>\n",
       "      <th>Lag1</th>\n",
       "      <th>Lag2</th>\n",
       "      <th>Lag3</th>\n",
       "      <th>Lag5</th>\n",
       "      <th>Volume</th>\n",
       "      <th>Today</th>\n",
       "    </tr>\n",
       "  </thead>\n",
       "  <tbody>\n",
       "    <tr>\n",
       "      <th>Lag1</th>\n",
       "      <td>1.000000</td>\n",
       "      <td>-0.074853</td>\n",
       "      <td>0.058636</td>\n",
       "      <td>-0.008183</td>\n",
       "      <td>-0.064951</td>\n",
       "      <td>-0.075032</td>\n",
       "    </tr>\n",
       "    <tr>\n",
       "      <th>Lag2</th>\n",
       "      <td>-0.074853</td>\n",
       "      <td>1.000000</td>\n",
       "      <td>-0.075721</td>\n",
       "      <td>-0.072499</td>\n",
       "      <td>-0.085513</td>\n",
       "      <td>0.059167</td>\n",
       "    </tr>\n",
       "    <tr>\n",
       "      <th>Lag3</th>\n",
       "      <td>0.058636</td>\n",
       "      <td>-0.075721</td>\n",
       "      <td>1.000000</td>\n",
       "      <td>0.060657</td>\n",
       "      <td>-0.069288</td>\n",
       "      <td>-0.071244</td>\n",
       "    </tr>\n",
       "    <tr>\n",
       "      <th>Lag5</th>\n",
       "      <td>-0.008183</td>\n",
       "      <td>-0.072499</td>\n",
       "      <td>0.060657</td>\n",
       "      <td>1.000000</td>\n",
       "      <td>-0.058517</td>\n",
       "      <td>0.011013</td>\n",
       "    </tr>\n",
       "    <tr>\n",
       "      <th>Volume</th>\n",
       "      <td>-0.064951</td>\n",
       "      <td>-0.085513</td>\n",
       "      <td>-0.069288</td>\n",
       "      <td>-0.058517</td>\n",
       "      <td>1.000000</td>\n",
       "      <td>-0.033078</td>\n",
       "    </tr>\n",
       "    <tr>\n",
       "      <th>Today</th>\n",
       "      <td>-0.075032</td>\n",
       "      <td>0.059167</td>\n",
       "      <td>-0.071244</td>\n",
       "      <td>0.011013</td>\n",
       "      <td>-0.033078</td>\n",
       "      <td>1.000000</td>\n",
       "    </tr>\n",
       "  </tbody>\n",
       "</table>\n",
       "</div>"
      ],
      "text/plain": [
       "            Lag1      Lag2      Lag3      Lag5    Volume     Today\n",
       "Lag1    1.000000 -0.074853  0.058636 -0.008183 -0.064951 -0.075032\n",
       "Lag2   -0.074853  1.000000 -0.075721 -0.072499 -0.085513  0.059167\n",
       "Lag3    0.058636 -0.075721  1.000000  0.060657 -0.069288 -0.071244\n",
       "Lag5   -0.008183 -0.072499  0.060657  1.000000 -0.058517  0.011013\n",
       "Volume -0.064951 -0.085513 -0.069288 -0.058517  1.000000 -0.033078\n",
       "Today  -0.075032  0.059167 -0.071244  0.011013 -0.033078  1.000000"
      ]
     },
     "execution_count": 12,
     "metadata": {},
     "output_type": "execute_result"
    }
   ],
   "source": [
    "# computes correlation matrix\n",
    "weekly_subset = weekly[['Lag1', 'Lag2', 'Lag3', 'Lag5','Volume', 'Today']] \n",
    "weekly_subset.corr()"
   ]
  },
  {
   "cell_type": "code",
   "execution_count": 14,
   "id": "3142d7d9",
   "metadata": {},
   "outputs": [
    {
     "data": {
      "text/plain": [
       "<function matplotlib.pyplot.show(close=None, block=None)>"
      ]
     },
     "execution_count": 14,
     "metadata": {},
     "output_type": "execute_result"
    },
    {
     "data": {
      "image/png": "[encoded data removed]",
      "text/plain": [
       "<Figure size 640x480 with 1 Axes>"
      ]
     },
     "metadata": {},
     "output_type": "display_data"
    }
   ],
   "source": [
    "# plotting the volume column\n",
    "plt.plot(weekly[['Volume']])\n",
    "plt.xlabel('Observation')\n",
    "plt.ylabel('Volume (billions)')\n",
    "plt.show"
   ]
  },
  {
   "cell_type": "markdown",
   "id": "8e3a4899",
   "metadata": {},
   "source": [
    "#### Notes on interpretation in answer to Q13a:\n",
    "- Correlation matrix shows it's difficult to see any obvious patterns between the quantitative variables\n",
    "- Plot of volume shows that more recent observations (i.e. those closer to 2010) have a higher number of volumes traded on the previous day on average, and more recent observatinos also tend to have wider volume range of approx 2-3 billion variability on a given day, compared to volume range of 0.5-1 billion variability on oldest obervations."
   ]
  },
  {
   "cell_type": "markdown",
   "id": "2397c4cf",
   "metadata": {},
   "source": [
    "#### Q13b: logistic regression model with 'direction' as response"
   ]
  },
  {
   "cell_type": "code",
   "execution_count": 18,
   "id": "5ac46024",
   "metadata": {},
   "outputs": [
    {
     "name": "stdout",
     "output_type": "stream",
     "text": [
      "      Direction[Down]  Direction[Up]\n",
      "0                 1.0            0.0\n",
      "1                 1.0            0.0\n",
      "2                 0.0            1.0\n",
      "3                 0.0            1.0\n",
      "4                 0.0            1.0\n",
      "...               ...            ...\n",
      "1084              0.0            1.0\n",
      "1085              0.0            1.0\n",
      "1086              0.0            1.0\n",
      "1087              0.0            1.0\n",
      "1088              0.0            1.0\n",
      "\n",
      "[1089 rows x 2 columns]\n"
     ]
    }
   ],
   "source": [
    "# Using 'dmatrices()' function in 'statsmodels' library to create two dataframes, 'y' and 'X'\n",
    "y, X = dmatrices('Direction~Lag1+Lag2+Lag3+Lag4+Lag5+Volume', weekly, return_type = 'dataframe')\n",
    "print(y)"
   ]
  },
  {
   "cell_type": "code",
   "execution_count": 20,
   "id": "4ab808b2",
   "metadata": {},
   "outputs": [
    {
     "data": {
      "text/html": [
       "<div>\n",
       "<style scoped>\n",
       "    .dataframe tbody tr th:only-of-type {\n",
       "        vertical-align: middle;\n",
       "    }\n",
       "\n",
       "    .dataframe tbody tr th {\n",
       "        vertical-align: top;\n",
       "    }\n",
       "\n",
       "    .dataframe thead th {\n",
       "        text-align: right;\n",
       "    }\n",
       "</style>\n",
       "<table border=\"1\" class=\"dataframe\">\n",
       "  <thead>\n",
       "    <tr style=\"text-align: right;\">\n",
       "      <th></th>\n",
       "      <th>Intercept</th>\n",
       "      <th>Lag1</th>\n",
       "      <th>Lag2</th>\n",
       "      <th>Lag3</th>\n",
       "      <th>Lag4</th>\n",
       "      <th>Lag5</th>\n",
       "      <th>Volume</th>\n",
       "    </tr>\n",
       "  </thead>\n",
       "  <tbody>\n",
       "    <tr>\n",
       "      <th>0</th>\n",
       "      <td>1.0</td>\n",
       "      <td>0.816</td>\n",
       "      <td>1.572</td>\n",
       "      <td>-3.936</td>\n",
       "      <td>-0.229</td>\n",
       "      <td>-3.484</td>\n",
       "      <td>0.154976</td>\n",
       "    </tr>\n",
       "    <tr>\n",
       "      <th>1</th>\n",
       "      <td>1.0</td>\n",
       "      <td>-0.270</td>\n",
       "      <td>0.816</td>\n",
       "      <td>1.572</td>\n",
       "      <td>-3.936</td>\n",
       "      <td>-0.229</td>\n",
       "      <td>0.148574</td>\n",
       "    </tr>\n",
       "    <tr>\n",
       "      <th>2</th>\n",
       "      <td>1.0</td>\n",
       "      <td>-2.576</td>\n",
       "      <td>-0.270</td>\n",
       "      <td>0.816</td>\n",
       "      <td>1.572</td>\n",
       "      <td>-3.936</td>\n",
       "      <td>0.159837</td>\n",
       "    </tr>\n",
       "    <tr>\n",
       "      <th>3</th>\n",
       "      <td>1.0</td>\n",
       "      <td>3.514</td>\n",
       "      <td>-2.576</td>\n",
       "      <td>-0.270</td>\n",
       "      <td>0.816</td>\n",
       "      <td>1.572</td>\n",
       "      <td>0.161630</td>\n",
       "    </tr>\n",
       "    <tr>\n",
       "      <th>4</th>\n",
       "      <td>1.0</td>\n",
       "      <td>0.712</td>\n",
       "      <td>3.514</td>\n",
       "      <td>-2.576</td>\n",
       "      <td>-0.270</td>\n",
       "      <td>0.816</td>\n",
       "      <td>0.153728</td>\n",
       "    </tr>\n",
       "  </tbody>\n",
       "</table>\n",
       "</div>"
      ],
      "text/plain": [
       "   Intercept   Lag1   Lag2   Lag3   Lag4   Lag5    Volume\n",
       "0        1.0  0.816  1.572 -3.936 -0.229 -3.484  0.154976\n",
       "1        1.0 -0.270  0.816  1.572 -3.936 -0.229  0.148574\n",
       "2        1.0 -2.576 -0.270  0.816  1.572 -3.936  0.159837\n",
       "3        1.0  3.514 -2.576 -0.270  0.816  1.572  0.161630\n",
       "4        1.0  0.712  3.514 -2.576 -0.270  0.816  0.153728"
      ]
     },
     "execution_count": 20,
     "metadata": {},
     "output_type": "execute_result"
    }
   ],
   "source": [
    "X.head()"
   ]
  },
  {
   "cell_type": "code",
   "execution_count": 22,
   "id": "2f4a2f54",
   "metadata": {},
   "outputs": [
    {
     "name": "stdout",
     "output_type": "stream",
     "text": [
      "Optimization terminated successfully.\n",
      "         Current function value: 0.682441\n",
      "         Iterations 4\n"
     ]
    },
    {
     "data": {
      "text/html": [
       "<table class=\"simpletable\">\n",
       "<caption>Logit Regression Results</caption>\n",
       "<tr>\n",
       "  <th>Dep. Variable:</th>     <td>Direction[Up]</td>  <th>  No. Observations:  </th>  <td>  1089</td> \n",
       "</tr>\n",
       "<tr>\n",
       "  <th>Model:</th>                 <td>Logit</td>      <th>  Df Residuals:      </th>  <td>  1082</td> \n",
       "</tr>\n",
       "<tr>\n",
       "  <th>Method:</th>                 <td>MLE</td>       <th>  Df Model:          </th>  <td>     6</td> \n",
       "</tr>\n",
       "<tr>\n",
       "  <th>Date:</th>            <td>Wed, 10 May 2023</td> <th>  Pseudo R-squ.:     </th> <td>0.006580</td>\n",
       "</tr>\n",
       "<tr>\n",
       "  <th>Time:</th>                <td>17:38:53</td>     <th>  Log-Likelihood:    </th> <td> -743.18</td>\n",
       "</tr>\n",
       "<tr>\n",
       "  <th>converged:</th>             <td>True</td>       <th>  LL-Null:           </th> <td> -748.10</td>\n",
       "</tr>\n",
       "<tr>\n",
       "  <th>Covariance Type:</th>     <td>nonrobust</td>    <th>  LLR p-value:       </th>  <td>0.1313</td> \n",
       "</tr>\n",
       "</table>\n",
       "<table class=\"simpletable\">\n",
       "<tr>\n",
       "      <td></td>         <th>coef</th>     <th>std err</th>      <th>z</th>      <th>P>|z|</th>  <th>[0.025</th>    <th>0.975]</th>  \n",
       "</tr>\n",
       "<tr>\n",
       "  <th>Intercept</th> <td>    0.2669</td> <td>    0.086</td> <td>    3.106</td> <td> 0.002</td> <td>    0.098</td> <td>    0.435</td>\n",
       "</tr>\n",
       "<tr>\n",
       "  <th>Lag1</th>      <td>   -0.0413</td> <td>    0.026</td> <td>   -1.563</td> <td> 0.118</td> <td>   -0.093</td> <td>    0.010</td>\n",
       "</tr>\n",
       "<tr>\n",
       "  <th>Lag2</th>      <td>    0.0584</td> <td>    0.027</td> <td>    2.175</td> <td> 0.030</td> <td>    0.006</td> <td>    0.111</td>\n",
       "</tr>\n",
       "<tr>\n",
       "  <th>Lag3</th>      <td>   -0.0161</td> <td>    0.027</td> <td>   -0.602</td> <td> 0.547</td> <td>   -0.068</td> <td>    0.036</td>\n",
       "</tr>\n",
       "<tr>\n",
       "  <th>Lag4</th>      <td>   -0.0278</td> <td>    0.026</td> <td>   -1.050</td> <td> 0.294</td> <td>   -0.080</td> <td>    0.024</td>\n",
       "</tr>\n",
       "<tr>\n",
       "  <th>Lag5</th>      <td>   -0.0145</td> <td>    0.026</td> <td>   -0.549</td> <td> 0.583</td> <td>   -0.066</td> <td>    0.037</td>\n",
       "</tr>\n",
       "<tr>\n",
       "  <th>Volume</th>    <td>   -0.0227</td> <td>    0.037</td> <td>   -0.616</td> <td> 0.538</td> <td>   -0.095</td> <td>    0.050</td>\n",
       "</tr>\n",
       "</table>"
      ],
      "text/plain": [
       "<class 'statsmodels.iolib.summary.Summary'>\n",
       "\"\"\"\n",
       "                           Logit Regression Results                           \n",
       "==============================================================================\n",
       "Dep. Variable:          Direction[Up]   No. Observations:                 1089\n",
       "Model:                          Logit   Df Residuals:                     1082\n",
       "Method:                           MLE   Df Model:                            6\n",
       "Date:                Wed, 10 May 2023   Pseudo R-squ.:                0.006580\n",
       "Time:                        17:38:53   Log-Likelihood:                -743.18\n",
       "converged:                       True   LL-Null:                       -748.10\n",
       "Covariance Type:            nonrobust   LLR p-value:                    0.1313\n",
       "==============================================================================\n",
       "                 coef    std err          z      P>|z|      [0.025      0.975]\n",
       "------------------------------------------------------------------------------\n",
       "Intercept      0.2669      0.086      3.106      0.002       0.098       0.435\n",
       "Lag1          -0.0413      0.026     -1.563      0.118      -0.093       0.010\n",
       "Lag2           0.0584      0.027      2.175      0.030       0.006       0.111\n",
       "Lag3          -0.0161      0.027     -0.602      0.547      -0.068       0.036\n",
       "Lag4          -0.0278      0.026     -1.050      0.294      -0.080       0.024\n",
       "Lag5          -0.0145      0.026     -0.549      0.583      -0.066       0.037\n",
       "Volume        -0.0227      0.037     -0.616      0.538      -0.095       0.050\n",
       "==============================================================================\n",
       "\"\"\""
      ]
     },
     "execution_count": 22,
     "metadata": {},
     "output_type": "execute_result"
    }
   ],
   "source": [
    "# creating a logistic regression model to predict whether the stock market direction will be up based on the previous days results\n",
    "\n",
    "logit = sm.Logit(y.iloc[:,1], X) # interested in stock market going up, so selecting column 1 in 'y'\n",
    "logit.fit().summary()"
   ]
  },
  {
   "cell_type": "markdown",
   "id": "45ffc21b",
   "metadata": {},
   "source": [
    "#### Notes on interpretation\n",
    "- Lag2 seems statistically significant based on the p-value (0.030) which is less than the common significance level of 0.05.\n",
    "- Given that the coefficient estimate for Lag2 is positive (0.0584) and taking into account the p-value, there is evidence to support a relationship between the Lag2 variable and the probability of the stock market direction being up."
   ]
  },
  {
   "cell_type": "code",
   "execution_count": 23,
   "id": "86727763",
   "metadata": {},
   "outputs": [],
   "source": [
    "# performing binary classification using logistic regression so that I can view confusion matrix results on the data\n",
    "predict_label = pd.DataFrame(np.zeros(shape=(1089,1)), columns = ['Label 1']) # creating new dataframe similar to the original"
   ]
  },
  {
   "cell_type": "code",
   "execution_count": 24,
   "id": "b209038f",
   "metadata": {},
   "outputs": [
    {
     "data": {
      "text/html": [
       "<div>\n",
       "<style scoped>\n",
       "    .dataframe tbody tr th:only-of-type {\n",
       "        vertical-align: middle;\n",
       "    }\n",
       "\n",
       "    .dataframe tbody tr th {\n",
       "        vertical-align: top;\n",
       "    }\n",
       "\n",
       "    .dataframe thead th {\n",
       "        text-align: right;\n",
       "    }\n",
       "</style>\n",
       "<table border=\"1\" class=\"dataframe\">\n",
       "  <thead>\n",
       "    <tr style=\"text-align: right;\">\n",
       "      <th></th>\n",
       "      <th>Label 1</th>\n",
       "    </tr>\n",
       "  </thead>\n",
       "  <tbody>\n",
       "    <tr>\n",
       "      <th>0</th>\n",
       "      <td>0.0</td>\n",
       "    </tr>\n",
       "    <tr>\n",
       "      <th>1</th>\n",
       "      <td>0.0</td>\n",
       "    </tr>\n",
       "    <tr>\n",
       "      <th>2</th>\n",
       "      <td>0.0</td>\n",
       "    </tr>\n",
       "    <tr>\n",
       "      <th>3</th>\n",
       "      <td>0.0</td>\n",
       "    </tr>\n",
       "    <tr>\n",
       "      <th>4</th>\n",
       "      <td>0.0</td>\n",
       "    </tr>\n",
       "  </tbody>\n",
       "</table>\n",
       "</div>"
      ],
      "text/plain": [
       "   Label 1\n",
       "0      0.0\n",
       "1      0.0\n",
       "2      0.0\n",
       "3      0.0\n",
       "4      0.0"
      ]
     },
     "execution_count": 24,
     "metadata": {},
     "output_type": "execute_result"
    }
   ],
   "source": [
    "predict_label.head()"
   ]
  },
  {
   "cell_type": "code",
   "execution_count": 25,
   "id": "703dc28d",
   "metadata": {},
   "outputs": [
    {
     "name": "stdout",
     "output_type": "stream",
     "text": [
      "Optimization terminated successfully.\n",
      "         Current function value: 0.682441\n",
      "         Iterations 4\n"
     ]
    }
   ],
   "source": [
    "threshold = 0.5 # setting threshold to value for classificaiton to 0.5. Predicted probabilities <0.5 will be classified as 0, predicted probabilities >0.5 will be classified as 1.\n",
    "predict_label.iloc[logit.fit().predict()>threshold] = 1 # fitting model to data, telling it to change positive classifications to 1"
   ]
  },
  {
   "cell_type": "code",
   "execution_count": 26,
   "id": "bd78a11f",
   "metadata": {},
   "outputs": [
    {
     "data": {
      "text/plain": [
       "array([[ 54, 430],\n",
       "       [ 48, 557]])"
      ]
     },
     "execution_count": 26,
     "metadata": {},
     "output_type": "execute_result"
    }
   ],
   "source": [
    "# computes a confusing matrix based on true labels and predicted labels of binary classification\n",
    "confusion_matrix(y.iloc[:,1], predict_label.iloc[:,0])"
   ]
  },
  {
   "cell_type": "code",
   "execution_count": 27,
   "id": "2003dad8",
   "metadata": {},
   "outputs": [
    {
     "name": "stdout",
     "output_type": "stream",
     "text": [
      "0.5610651974288338\n"
     ]
    }
   ],
   "source": [
    "# calculates accuracy of binary classification model by comparing predicted labels to the true labels\n",
    "# then taking mean of the resulting boolean array\n",
    "print(np.mean(y.iloc[:,1] == predict_label.iloc[:,0]))"
   ]
  },
  {
   "cell_type": "markdown",
   "id": "18bb65a6",
   "metadata": {},
   "source": [
    "#### Notes on interpretation (in answer to Q13c)\n",
    "\n",
    "- Calculation of accuracy of logistic regression model indicates that the model doesn't seem to be performing much better than chance\n",
    "- The confusion matrix confirms the same: there appears to be nearly the same number of false positives / negatives as true positives / negatives "
   ]
  },
  {
   "cell_type": "markdown",
   "id": "13147b76",
   "metadata": {},
   "source": [
    "#### Q13d: Now fit the logistic regression model using a training data period from 1990 to 2008, with Lag2 as the only predictor. Compute the confusion matrix and the overall fraction of correct predictions for the held out data (that is, the data from 2009 and 2010)."
   ]
  },
  {
   "cell_type": "code",
   "execution_count": 28,
   "id": "aa2679bf",
   "metadata": {},
   "outputs": [],
   "source": [
    "# creating testing and training data sets\n",
    "weekly_test = weekly.query('Year >= 2008')\n",
    "weekly_train = weekly.query('Year < 2008')"
   ]
  },
  {
   "cell_type": "code",
   "execution_count": 29,
   "id": "542f9663",
   "metadata": {},
   "outputs": [],
   "source": [
    "# creating design matrices for each dataset \n",
    "# with the response variable set to 'direction' and only using 'Lag2' as the predictor variable\n",
    "y_train, X_train = dmatrices('Direction~Lag2', weekly_train, return_type = 'dataframe')\n",
    "y_test, X_test = dmatrices('Direction~Lag2', weekly_test, return_type = 'dataframe')"
   ]
  },
  {
   "cell_type": "code",
   "execution_count": 30,
   "id": "f8aacc2a",
   "metadata": {},
   "outputs": [
    {
     "name": "stdout",
     "output_type": "stream",
     "text": [
      "Optimization terminated successfully.\n",
      "         Current function value: 0.685159\n",
      "         Iterations 4\n",
      "                           Logit Regression Results                           \n",
      "==============================================================================\n",
      "Dep. Variable:          Direction[Up]   No. Observations:                  933\n",
      "Model:                          Logit   Df Residuals:                      931\n",
      "Method:                           MLE   Df Model:                            1\n",
      "Date:                Wed, 10 May 2023   Pseudo R-squ.:                0.001673\n",
      "Time:                        18:06:30   Log-Likelihood:                -639.25\n",
      "converged:                       True   LL-Null:                       -640.32\n",
      "Covariance Type:            nonrobust   LLR p-value:                    0.1433\n",
      "==============================================================================\n",
      "                 coef    std err          z      P>|z|      [0.025      0.975]\n",
      "------------------------------------------------------------------------------\n",
      "Intercept      0.2266      0.066      3.422      0.001       0.097       0.356\n",
      "Lag2           0.0472      0.032      1.460      0.144      -0.016       0.110\n",
      "==============================================================================\n"
     ]
    }
   ],
   "source": [
    "# fitting logistic regression model to training set\n",
    "logit = sm.Logit(y_train.iloc[:,1], X_train)\n",
    "print(logit.fit().summary())"
   ]
  },
  {
   "cell_type": "code",
   "execution_count": 31,
   "id": "fa65c787",
   "metadata": {},
   "outputs": [
    {
     "name": "stdout",
     "output_type": "stream",
     "text": [
      "Optimization terminated successfully.\n",
      "         Current function value: 0.685159\n",
      "         Iterations 4\n"
     ]
    }
   ],
   "source": [
    "# performing logistic regression on the test set, 'X_test'\n",
    "# then using resulting model to make predictions\n",
    "\n",
    "preds = logit.fit().predict(X_test) # fitting model to testing set\n",
    "predict_label = pd.DataFrame(np.zeros(shape=(X_test.shape[0],1)), columns = ['label']) # dataframe of all zeros (?) with same no. rows as 'X_test'\n",
    "threshold = 0.5\n",
    "mark = (preds > threshold).reset_index(drop=True) # boolean array indicating which predictors are above threshold and therefore predicted to be positive\n",
    "predict_label.loc[mark] = 1 # predictions corresponding to values above threshold (as indicated by 'mark') are changed to 1"
   ]
  },
  {
   "cell_type": "code",
   "execution_count": 32,
   "id": "e74c860c",
   "metadata": {},
   "outputs": [
    {
     "data": {
      "text/plain": [
       "array([[ 7, 65],\n",
       "       [ 5, 79]])"
      ]
     },
     "execution_count": 32,
     "metadata": {},
     "output_type": "execute_result"
    }
   ],
   "source": [
    "confusion_matrix(y_test.iloc[:,1], predict_label.iloc[:,0]) \n",
    "\n",
    "# confusion matrix is compairing the predicted values in 'predict_label' (column 0) to the true values in 'y_test' (column 1)"
   ]
  },
  {
   "cell_type": "code",
   "execution_count": 33,
   "id": "bc5571f2",
   "metadata": {},
   "outputs": [
    {
     "data": {
      "text/plain": [
       "0.5512820512820513"
      ]
     },
     "execution_count": 33,
     "metadata": {},
     "output_type": "execute_result"
    }
   ],
   "source": [
    "# determining the accuracy of this model\n",
    "np.mean(y_test.iloc[:,1].reset_index(drop=True)==predict_label.iloc[:,0].reset_index(drop=True)) "
   ]
  },
  {
   "cell_type": "markdown",
   "id": "9bc29ef4",
   "metadata": {},
   "source": [
    "#### Notes on interpretation \n",
    "\n",
    "- Logistic regression model still doesn't appear to produce accurate results even with only using Lag2 variable alone."
   ]
  },
  {
   "cell_type": "markdown",
   "id": "ef241408",
   "metadata": {},
   "source": [
    "#### Q13e: refitting data to LDA model and checking accuracy"
   ]
  },
  {
   "cell_type": "code",
   "execution_count": null,
   "id": "018a39cc",
   "metadata": {},
   "outputs": [],
   "source": []
  }
 ],
 "metadata": {
  "kernelspec": {
   "display_name": "Python 3 (ipykernel)",
   "language": "python",
   "name": "python3"
  },
  "language_info": {
   "codemirror_mode": {
    "name": "ipython",
    "version": 3
   },
   "file_extension": ".py",
   "mimetype": "text/x-python",
   "name": "python",
   "nbconvert_exporter": "python",
   "pygments_lexer": "ipython3",
   "version": "3.10.9"
  }
 },
 "nbformat": 4,
 "nbformat_minor": 5
}
