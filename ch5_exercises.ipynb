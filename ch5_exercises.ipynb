{
 "cells": [
  {
   "cell_type": "markdown",
   "id": "d8205a87",
   "metadata": {},
   "source": [
    "## Ch5 exercises: cross-validation and the bootstrap"
   ]
  },
  {
   "cell_type": "code",
   "execution_count": 1,
   "id": "8c4de7f9",
   "metadata": {},
   "outputs": [],
   "source": [
    "import numpy as np\n",
    "import matplotlib.pyplot as plt\n",
    "import scipy # importing SciPu library to do scientific computing, e.g. numerical integration, optimisaiton, linear algebra\n",
    "import pandas as pd \n",
    "import math\n",
    "import random\n",
    "import statsmodels.api as sm\n",
    "import statsmodels.formula.api as smf\n",
    "from statsmodels.graphics.regressionplots import *\n",
    "from sklearn.linear_model import LogisticRegression\n",
    "from sklearn.model_selection import train_test_split\n",
    "from sklearn.metrics import accuracy_score\n",
    "from sklearn import datasets, linear_model\n",
    "from sklearn.utils import resample\n",
    "from sklearn.model_selection import KFold, cross_val_score\n",
    "from sklearn.preprocessing import PolynomialFeatures\n",
    "from sklearn.linear_model import LinearRegression\n",
    "from sklearn.pipeline import Pipeline\n",
    "from collections import OrderedDict # provides specialised container datatypes that are alternatives to built-in data structures like lists, tuples, dictionaries etc\n",
    "\n",
    "# OrderedDict is a dictionary subclass that maintains the order of inserted items, useful for when the order of elements is important"
   ]
  },
  {
   "cell_type": "markdown",
   "id": "d75a80bc",
   "metadata": {},
   "source": [
    "### Question 5"
   ]
  },
  {
   "cell_type": "code",
   "execution_count": 2,
   "id": "95200890",
   "metadata": {},
   "outputs": [],
   "source": [
    "data = pd.read_csv('data/Default.csv', header = 0)"
   ]
  },
  {
   "cell_type": "code",
   "execution_count": 3,
   "id": "862d341e",
   "metadata": {},
   "outputs": [
    {
     "data": {
      "text/html": [
       "<div>\n",
       "<style scoped>\n",
       "    .dataframe tbody tr th:only-of-type {\n",
       "        vertical-align: middle;\n",
       "    }\n",
       "\n",
       "    .dataframe tbody tr th {\n",
       "        vertical-align: top;\n",
       "    }\n",
       "\n",
       "    .dataframe thead th {\n",
       "        text-align: right;\n",
       "    }\n",
       "</style>\n",
       "<table border=\"1\" class=\"dataframe\">\n",
       "  <thead>\n",
       "    <tr style=\"text-align: right;\">\n",
       "      <th></th>\n",
       "      <th>default</th>\n",
       "      <th>student</th>\n",
       "      <th>balance</th>\n",
       "      <th>income</th>\n",
       "    </tr>\n",
       "  </thead>\n",
       "  <tbody>\n",
       "    <tr>\n",
       "      <th>0</th>\n",
       "      <td>No</td>\n",
       "      <td>No</td>\n",
       "      <td>729.526495</td>\n",
       "      <td>44361.625074</td>\n",
       "    </tr>\n",
       "    <tr>\n",
       "      <th>1</th>\n",
       "      <td>No</td>\n",
       "      <td>Yes</td>\n",
       "      <td>817.180407</td>\n",
       "      <td>12106.134700</td>\n",
       "    </tr>\n",
       "    <tr>\n",
       "      <th>2</th>\n",
       "      <td>No</td>\n",
       "      <td>No</td>\n",
       "      <td>1073.549164</td>\n",
       "      <td>31767.138947</td>\n",
       "    </tr>\n",
       "    <tr>\n",
       "      <th>3</th>\n",
       "      <td>No</td>\n",
       "      <td>No</td>\n",
       "      <td>529.250605</td>\n",
       "      <td>35704.493935</td>\n",
       "    </tr>\n",
       "    <tr>\n",
       "      <th>4</th>\n",
       "      <td>No</td>\n",
       "      <td>No</td>\n",
       "      <td>785.655883</td>\n",
       "      <td>38463.495879</td>\n",
       "    </tr>\n",
       "  </tbody>\n",
       "</table>\n",
       "</div>"
      ],
      "text/plain": [
       "  default student      balance        income\n",
       "0      No      No   729.526495  44361.625074\n",
       "1      No     Yes   817.180407  12106.134700\n",
       "2      No      No  1073.549164  31767.138947\n",
       "3      No      No   529.250605  35704.493935\n",
       "4      No      No   785.655883  38463.495879"
      ]
     },
     "execution_count": 3,
     "metadata": {},
     "output_type": "execute_result"
    }
   ],
   "source": [
    "data.head()"
   ]
  },
  {
   "cell_type": "code",
   "execution_count": 4,
   "id": "3160ea89",
   "metadata": {},
   "outputs": [],
   "source": [
    "# separating the input features (X) from the target variable (Y)\n",
    "X = data[['income', 'balance']]\n",
    "y = data['default']"
   ]
  },
  {
   "cell_type": "code",
   "execution_count": 5,
   "id": "8b841532",
   "metadata": {},
   "outputs": [],
   "source": [
    "# splitting the data into testing and training sets using sklearn module 'test_train_split'\n",
    "X_train, X_val, y_train, y_val = train_test_split(X, y, test_size=0.2, random_state=42)"
   ]
  },
  {
   "cell_type": "markdown",
   "id": "189a1973",
   "metadata": {},
   "source": [
    "#### Notes on interpretation\n",
    "\n",
    "The <code>train_test_split</code> function is part of the <code>sklearn.model_selection</code> module in <code>scikit-learn</code>. It allows you to randomly split the data into subsets for training and validation purposes. Here's what each argument in the function does:\n",
    "\n",
    "- <code>X</code>: This is the input feature matrix (independent variables) that you want to split.\n",
    "- <code>y</code>: This is the target variable (dependent variable) corresponding to the input features.\n",
    "- <code>test_size</code>: This parameter specifies the proportion of the data that will be allocated for validation. In this case, <code>test_size=0.2</code> means that 20% of the data will be used for validation, and the remaining 80% will be used for training.\n",
    "- <code>random_state</code>: This parameter allows you to specify a random seed for reproducibility. Setting it to a specific value like 42 ensures that the data split will be the same every time you run the code, which can be helpful for consistency. It can be set to any random number, e.g. 42 or 1. 42 is often seen because it's become convention in the DS community following the Hitch Hikers Guide to the Galaxy. \n"
   ]
  },
  {
   "cell_type": "code",
   "execution_count": 6,
   "id": "8d1a4746",
   "metadata": {},
   "outputs": [
    {
     "data": {
      "text/html": [
       "<div>\n",
       "<style scoped>\n",
       "    .dataframe tbody tr th:only-of-type {\n",
       "        vertical-align: middle;\n",
       "    }\n",
       "\n",
       "    .dataframe tbody tr th {\n",
       "        vertical-align: top;\n",
       "    }\n",
       "\n",
       "    .dataframe thead th {\n",
       "        text-align: right;\n",
       "    }\n",
       "</style>\n",
       "<table border=\"1\" class=\"dataframe\">\n",
       "  <thead>\n",
       "    <tr style=\"text-align: right;\">\n",
       "      <th></th>\n",
       "      <th>income</th>\n",
       "      <th>balance</th>\n",
       "    </tr>\n",
       "  </thead>\n",
       "  <tbody>\n",
       "    <tr>\n",
       "      <th>9254</th>\n",
       "      <td>34103.879520</td>\n",
       "      <td>1018.568130</td>\n",
       "    </tr>\n",
       "    <tr>\n",
       "      <th>1561</th>\n",
       "      <td>28660.747508</td>\n",
       "      <td>62.170050</td>\n",
       "    </tr>\n",
       "    <tr>\n",
       "      <th>1670</th>\n",
       "      <td>40822.447413</td>\n",
       "      <td>1046.743543</td>\n",
       "    </tr>\n",
       "    <tr>\n",
       "      <th>6087</th>\n",
       "      <td>44125.718725</td>\n",
       "      <td>763.735280</td>\n",
       "    </tr>\n",
       "    <tr>\n",
       "      <th>6669</th>\n",
       "      <td>25730.917583</td>\n",
       "      <td>697.248633</td>\n",
       "    </tr>\n",
       "  </tbody>\n",
       "</table>\n",
       "</div>"
      ],
      "text/plain": [
       "            income      balance\n",
       "9254  34103.879520  1018.568130\n",
       "1561  28660.747508    62.170050\n",
       "1670  40822.447413  1046.743543\n",
       "6087  44125.718725   763.735280\n",
       "6669  25730.917583   697.248633"
      ]
     },
     "execution_count": 6,
     "metadata": {},
     "output_type": "execute_result"
    }
   ],
   "source": [
    "# looking at the datasets we've now created... \n",
    "X_train.head()"
   ]
  },
  {
   "cell_type": "code",
   "execution_count": 7,
   "id": "5681845e",
   "metadata": {},
   "outputs": [
    {
     "data": {
      "text/html": [
       "<div>\n",
       "<style scoped>\n",
       "    .dataframe tbody tr th:only-of-type {\n",
       "        vertical-align: middle;\n",
       "    }\n",
       "\n",
       "    .dataframe tbody tr th {\n",
       "        vertical-align: top;\n",
       "    }\n",
       "\n",
       "    .dataframe thead th {\n",
       "        text-align: right;\n",
       "    }\n",
       "</style>\n",
       "<table border=\"1\" class=\"dataframe\">\n",
       "  <thead>\n",
       "    <tr style=\"text-align: right;\">\n",
       "      <th></th>\n",
       "      <th>income</th>\n",
       "      <th>balance</th>\n",
       "    </tr>\n",
       "  </thead>\n",
       "  <tbody>\n",
       "    <tr>\n",
       "      <th>6252</th>\n",
       "      <td>31507.089277</td>\n",
       "      <td>1435.662933</td>\n",
       "    </tr>\n",
       "    <tr>\n",
       "      <th>4684</th>\n",
       "      <td>42139.070269</td>\n",
       "      <td>771.789347</td>\n",
       "    </tr>\n",
       "    <tr>\n",
       "      <th>1731</th>\n",
       "      <td>21809.218509</td>\n",
       "      <td>0.000000</td>\n",
       "    </tr>\n",
       "    <tr>\n",
       "      <th>4742</th>\n",
       "      <td>32803.832648</td>\n",
       "      <td>113.571264</td>\n",
       "    </tr>\n",
       "    <tr>\n",
       "      <th>4521</th>\n",
       "      <td>49903.597081</td>\n",
       "      <td>1358.132472</td>\n",
       "    </tr>\n",
       "  </tbody>\n",
       "</table>\n",
       "</div>"
      ],
      "text/plain": [
       "            income      balance\n",
       "6252  31507.089277  1435.662933\n",
       "4684  42139.070269   771.789347\n",
       "1731  21809.218509     0.000000\n",
       "4742  32803.832648   113.571264\n",
       "4521  49903.597081  1358.132472"
      ]
     },
     "execution_count": 7,
     "metadata": {},
     "output_type": "execute_result"
    }
   ],
   "source": [
    "# looking at the datasets we've now created... \n",
    "X_val.head()"
   ]
  },
  {
   "cell_type": "code",
   "execution_count": 8,
   "id": "c543133a",
   "metadata": {},
   "outputs": [
    {
     "data": {
      "text/plain": [
       "9254    No\n",
       "1561    No\n",
       "1670    No\n",
       "6087    No\n",
       "6669    No\n",
       "Name: default, dtype: object"
      ]
     },
     "execution_count": 8,
     "metadata": {},
     "output_type": "execute_result"
    }
   ],
   "source": [
    "# looking at the datasets we've now created... \n",
    "y_train.head()"
   ]
  },
  {
   "cell_type": "code",
   "execution_count": 9,
   "id": "0368ff48",
   "metadata": {},
   "outputs": [
    {
     "data": {
      "text/plain": [
       "6252    No\n",
       "4684    No\n",
       "1731    No\n",
       "4742    No\n",
       "4521    No\n",
       "Name: default, dtype: object"
      ]
     },
     "execution_count": 9,
     "metadata": {},
     "output_type": "execute_result"
    }
   ],
   "source": [
    "# looking at the datasets we've now created... \n",
    "y_val.head()"
   ]
  },
  {
   "cell_type": "code",
   "execution_count": 10,
   "id": "5543c295",
   "metadata": {},
   "outputs": [],
   "source": [
    "# creating a logistic regression model using scikit-learn's LogisticRegression class\n",
    "model = LogisticRegression() "
   ]
  },
  {
   "cell_type": "code",
   "execution_count": 11,
   "id": "f80f0837",
   "metadata": {},
   "outputs": [
    {
     "data": {
      "text/html": [
       "<style>#sk-container-id-1 {color: black;background-color: white;}#sk-container-id-1 pre{padding: 0;}#sk-container-id-1 div.sk-toggleable {background-color: white;}#sk-container-id-1 label.sk-toggleable__label {cursor: pointer;display: block;width: 100%;margin-bottom: 0;padding: 0.3em;box-sizing: border-box;text-align: center;}#sk-container-id-1 label.sk-toggleable__label-arrow:before {content: \"▸\";float: left;margin-right: 0.25em;color: #696969;}#sk-container-id-1 label.sk-toggleable__label-arrow:hover:before {color: black;}#sk-container-id-1 div.sk-estimator:hover label.sk-toggleable__label-arrow:before {color: black;}#sk-container-id-1 div.sk-toggleable__content {max-height: 0;max-width: 0;overflow: hidden;text-align: left;background-color: #f0f8ff;}#sk-container-id-1 div.sk-toggleable__content pre {margin: 0.2em;color: black;border-radius: 0.25em;background-color: #f0f8ff;}#sk-container-id-1 input.sk-toggleable__control:checked~div.sk-toggleable__content {max-height: 200px;max-width: 100%;overflow: auto;}#sk-container-id-1 input.sk-toggleable__control:checked~label.sk-toggleable__label-arrow:before {content: \"▾\";}#sk-container-id-1 div.sk-estimator input.sk-toggleable__control:checked~label.sk-toggleable__label {background-color: #d4ebff;}#sk-container-id-1 div.sk-label input.sk-toggleable__control:checked~label.sk-toggleable__label {background-color: #d4ebff;}#sk-container-id-1 input.sk-hidden--visually {border: 0;clip: rect(1px 1px 1px 1px);clip: rect(1px, 1px, 1px, 1px);height: 1px;margin: -1px;overflow: hidden;padding: 0;position: absolute;width: 1px;}#sk-container-id-1 div.sk-estimator {font-family: monospace;background-color: #f0f8ff;border: 1px dotted black;border-radius: 0.25em;box-sizing: border-box;margin-bottom: 0.5em;}#sk-container-id-1 div.sk-estimator:hover {background-color: #d4ebff;}#sk-container-id-1 div.sk-parallel-item::after {content: \"\";width: 100%;border-bottom: 1px solid gray;flex-grow: 1;}#sk-container-id-1 div.sk-label:hover label.sk-toggleable__label {background-color: #d4ebff;}#sk-container-id-1 div.sk-serial::before {content: \"\";position: absolute;border-left: 1px solid gray;box-sizing: border-box;top: 0;bottom: 0;left: 50%;z-index: 0;}#sk-container-id-1 div.sk-serial {display: flex;flex-direction: column;align-items: center;background-color: white;padding-right: 0.2em;padding-left: 0.2em;position: relative;}#sk-container-id-1 div.sk-item {position: relative;z-index: 1;}#sk-container-id-1 div.sk-parallel {display: flex;align-items: stretch;justify-content: center;background-color: white;position: relative;}#sk-container-id-1 div.sk-item::before, #sk-container-id-1 div.sk-parallel-item::before {content: \"\";position: absolute;border-left: 1px solid gray;box-sizing: border-box;top: 0;bottom: 0;left: 50%;z-index: -1;}#sk-container-id-1 div.sk-parallel-item {display: flex;flex-direction: column;z-index: 1;position: relative;background-color: white;}#sk-container-id-1 div.sk-parallel-item:first-child::after {align-self: flex-end;width: 50%;}#sk-container-id-1 div.sk-parallel-item:last-child::after {align-self: flex-start;width: 50%;}#sk-container-id-1 div.sk-parallel-item:only-child::after {width: 0;}#sk-container-id-1 div.sk-dashed-wrapped {border: 1px dashed gray;margin: 0 0.4em 0.5em 0.4em;box-sizing: border-box;padding-bottom: 0.4em;background-color: white;}#sk-container-id-1 div.sk-label label {font-family: monospace;font-weight: bold;display: inline-block;line-height: 1.2em;}#sk-container-id-1 div.sk-label-container {text-align: center;}#sk-container-id-1 div.sk-container {/* jupyter's `normalize.less` sets `[hidden] { display: none; }` but bootstrap.min.css set `[hidden] { display: none !important; }` so we also need the `!important` here to be able to override the default hidden behavior on the sphinx rendered scikit-learn.org. See: https://github.com/scikit-learn/scikit-learn/issues/21755 */display: inline-block !important;position: relative;}#sk-container-id-1 div.sk-text-repr-fallback {display: none;}</style><div id=\"sk-container-id-1\" class=\"sk-top-container\"><div class=\"sk-text-repr-fallback\"><pre>LogisticRegression()</pre><b>In a Jupyter environment, please rerun this cell to show the HTML representation or trust the notebook. <br />On GitHub, the HTML representation is unable to render, please try loading this page with nbviewer.org.</b></div><div class=\"sk-container\" hidden><div class=\"sk-item\"><div class=\"sk-estimator sk-toggleable\"><input class=\"sk-toggleable__control sk-hidden--visually\" id=\"sk-estimator-id-1\" type=\"checkbox\" checked><label for=\"sk-estimator-id-1\" class=\"sk-toggleable__label sk-toggleable__label-arrow\">LogisticRegression</label><div class=\"sk-toggleable__content\"><pre>LogisticRegression()</pre></div></div></div></div></div>"
      ],
      "text/plain": [
       "LogisticRegression()"
      ]
     },
     "execution_count": 11,
     "metadata": {},
     "output_type": "execute_result"
    }
   ],
   "source": [
    "# training the model with X_train features and y_train target variable\n",
    "model.fit(X_train, y_train)"
   ]
  },
  {
   "cell_type": "code",
   "execution_count": 12,
   "id": "72e33118",
   "metadata": {},
   "outputs": [],
   "source": [
    "y_pred = model.predict(X_val)"
   ]
  },
  {
   "cell_type": "code",
   "execution_count": 13,
   "id": "05a7bca4",
   "metadata": {},
   "outputs": [
    {
     "name": "stdout",
     "output_type": "stream",
     "text": [
      "['No' 'No' 'No' ... 'No' 'No' 'No']\n"
     ]
    }
   ],
   "source": [
    "print(y_pred)"
   ]
  },
  {
   "cell_type": "code",
   "execution_count": 14,
   "id": "016e503b",
   "metadata": {},
   "outputs": [
    {
     "name": "stdout",
     "output_type": "stream",
     "text": [
      "Validation Accuracy: 0.9655\n"
     ]
    }
   ],
   "source": [
    "accuracy = accuracy_score(y_val, y_pred)\n",
    "print(\"Validation Accuracy:\", accuracy)"
   ]
  },
  {
   "cell_type": "markdown",
   "id": "cab14197",
   "metadata": {},
   "source": [
    "#### Notes on interpretation\n",
    "- Model seems to perform very well given highest possible accuracy is 1"
   ]
  },
  {
   "cell_type": "code",
   "execution_count": 15,
   "id": "964479c6",
   "metadata": {},
   "outputs": [
    {
     "name": "stdout",
     "output_type": "stream",
     "text": [
      "Coefficients: [[-0.00012841  0.0004443 ]]\n",
      "Intercept: [-1.11621713e-06]\n",
      "Model Parameters: {'C': 1.0, 'class_weight': None, 'dual': False, 'fit_intercept': True, 'intercept_scaling': 1, 'l1_ratio': None, 'max_iter': 100, 'multi_class': 'auto', 'n_jobs': None, 'penalty': 'l2', 'random_state': None, 'solver': 'lbfgs', 'tol': 0.0001, 'verbose': 0, 'warm_start': False}\n",
      "Classes: ['No' 'Yes']\n",
      "Number of iterations: [17]\n",
      "Training Accuracy: 0.966375\n"
     ]
    }
   ],
   "source": [
    "print(\"Coefficients:\", model.coef_)\n",
    "print(\"Intercept:\", model.intercept_)\n",
    "print(\"Model Parameters:\", model.get_params())\n",
    "print(\"Classes:\", model.classes_)\n",
    "print(\"Number of iterations:\", model.n_iter_)\n",
    "print(\"Training Accuracy:\", model.score(X_train, y_train))"
   ]
  },
  {
   "cell_type": "code",
   "execution_count": 16,
   "id": "4be3b355",
   "metadata": {},
   "outputs": [
    {
     "name": "stdout",
     "output_type": "stream",
     "text": [
      "Split 1 - Validation Accuracy: 0.963\n",
      "Split 2 - Validation Accuracy: 0.9705\n",
      "Split 3 - Validation Accuracy: 0.9715\n"
     ]
    }
   ],
   "source": [
    "# using a for loop to repeat the process above with 3 different splits of the test/train sets\n",
    "# then comparing results to assess variability in the model's performance\n",
    "\n",
    "for i in range(3):\n",
    "    # splitting the data into training and validation sets\n",
    "    X_train, X_val, y_train, y_val = train_test_split(X, y, test_size=0.2, random_state=i) # using 'i' to iterate through different values for each split. I.e. creating three different splits of the data with different random seeds\n",
    "\n",
    "    # creating a logistic regression model\n",
    "    model = LogisticRegression()\n",
    "\n",
    "    # training the model on the training set\n",
    "    model.fit(X_train, y_train)\n",
    "\n",
    "    # predicting the target variable for the validation set\n",
    "    y_pred = model.predict(X_val)\n",
    "\n",
    "    # calculating the accuracy score\n",
    "    accuracy = accuracy_score(y_val, y_pred)\n",
    "    print(f\"Split {i+1} - Validation Accuracy:\", accuracy)"
   ]
  },
  {
   "cell_type": "markdown",
   "id": "7c937eb4",
   "metadata": {},
   "source": [
    "#### Notes on interpretation \n",
    "\n",
    "- Validation accuracy is consistent\n",
    "- Overall validation accuracy is high\n",
    "- Model appears to produce good and reliable results\n",
    "\n",
    "\n",
    "#### Next I will create a new model, introducing the variable \"student\" which I will convert into an integer"
   ]
  },
  {
   "cell_type": "code",
   "execution_count": 17,
   "id": "574857c3",
   "metadata": {},
   "outputs": [],
   "source": [
    "# converting 'student' from string to integer\n",
    "data['student'] = data['student'].map({'No': 0, 'Yes': 1})"
   ]
  },
  {
   "cell_type": "code",
   "execution_count": 18,
   "id": "e968ca42",
   "metadata": {},
   "outputs": [
    {
     "data": {
      "text/html": [
       "<div>\n",
       "<style scoped>\n",
       "    .dataframe tbody tr th:only-of-type {\n",
       "        vertical-align: middle;\n",
       "    }\n",
       "\n",
       "    .dataframe tbody tr th {\n",
       "        vertical-align: top;\n",
       "    }\n",
       "\n",
       "    .dataframe thead th {\n",
       "        text-align: right;\n",
       "    }\n",
       "</style>\n",
       "<table border=\"1\" class=\"dataframe\">\n",
       "  <thead>\n",
       "    <tr style=\"text-align: right;\">\n",
       "      <th></th>\n",
       "      <th>default</th>\n",
       "      <th>student</th>\n",
       "      <th>balance</th>\n",
       "      <th>income</th>\n",
       "    </tr>\n",
       "  </thead>\n",
       "  <tbody>\n",
       "    <tr>\n",
       "      <th>0</th>\n",
       "      <td>No</td>\n",
       "      <td>0</td>\n",
       "      <td>729.526495</td>\n",
       "      <td>44361.625074</td>\n",
       "    </tr>\n",
       "    <tr>\n",
       "      <th>1</th>\n",
       "      <td>No</td>\n",
       "      <td>1</td>\n",
       "      <td>817.180407</td>\n",
       "      <td>12106.134700</td>\n",
       "    </tr>\n",
       "    <tr>\n",
       "      <th>2</th>\n",
       "      <td>No</td>\n",
       "      <td>0</td>\n",
       "      <td>1073.549164</td>\n",
       "      <td>31767.138947</td>\n",
       "    </tr>\n",
       "    <tr>\n",
       "      <th>3</th>\n",
       "      <td>No</td>\n",
       "      <td>0</td>\n",
       "      <td>529.250605</td>\n",
       "      <td>35704.493935</td>\n",
       "    </tr>\n",
       "    <tr>\n",
       "      <th>4</th>\n",
       "      <td>No</td>\n",
       "      <td>0</td>\n",
       "      <td>785.655883</td>\n",
       "      <td>38463.495879</td>\n",
       "    </tr>\n",
       "  </tbody>\n",
       "</table>\n",
       "</div>"
      ],
      "text/plain": [
       "  default  student      balance        income\n",
       "0      No        0   729.526495  44361.625074\n",
       "1      No        1   817.180407  12106.134700\n",
       "2      No        0  1073.549164  31767.138947\n",
       "3      No        0   529.250605  35704.493935\n",
       "4      No        0   785.655883  38463.495879"
      ]
     },
     "execution_count": 18,
     "metadata": {},
     "output_type": "execute_result"
    }
   ],
   "source": [
    "# checking result of change\n",
    "data.head()"
   ]
  },
  {
   "cell_type": "code",
   "execution_count": 19,
   "id": "f9383673",
   "metadata": {},
   "outputs": [],
   "source": [
    "# splitting dataset into features (X) and target variable (y)\n",
    "X2 = data[['income', 'balance', 'student']] # using double brackets to select multiple coloumns from dataframe and create a new dataframe \n",
    "y2 = data['default'] # using single brackets to select one column and create a new series"
   ]
  },
  {
   "cell_type": "code",
   "execution_count": 20,
   "id": "b0689e78",
   "metadata": {},
   "outputs": [
    {
     "data": {
      "text/plain": [
       "0    No\n",
       "1    No\n",
       "2    No\n",
       "3    No\n",
       "4    No\n",
       "Name: default, dtype: object"
      ]
     },
     "execution_count": 20,
     "metadata": {},
     "output_type": "execute_result"
    }
   ],
   "source": [
    "# checking results\n",
    "y2.head()"
   ]
  },
  {
   "cell_type": "code",
   "execution_count": 21,
   "id": "89e6f6af",
   "metadata": {},
   "outputs": [
    {
     "name": "stdout",
     "output_type": "stream",
     "text": [
      "Split 1 - Validation Accuracy: 0.965\n",
      "Split 2 - Validation Accuracy: 0.967\n",
      "Split 3 - Validation Accuracy: 0.9695\n"
     ]
    }
   ],
   "source": [
    "# creating x3 training/validation sets again to test the accuracy of this model with 'student'\n",
    "\n",
    "for i in range(3):\n",
    "    # splitting the data into training and validation sets\n",
    "    X2_train, X2_val, y2_train, y2_val = train_test_split(X2, y2, test_size=0.2, random_state=i) # using 'i' to iterate through different values for each split. I.e. creating three different splits of the data with different random seeds\n",
    "\n",
    "    # creating a logistic regression model\n",
    "    model2 = LogisticRegression()\n",
    "\n",
    "    # training the model on the training set\n",
    "    model2.fit(X2_train, y2_train)\n",
    "\n",
    "    # predicting the target variable for the validation set\n",
    "    y2_pred = model2.predict(X2_val)\n",
    "\n",
    "    # calculating the accuracy score\n",
    "    accuracy2 = accuracy_score(y2_val, y2_pred)\n",
    "    print(f\"Split {i+1} - Validation Accuracy:\", accuracy2)\n",
    "    \n"
   ]
  },
  {
   "cell_type": "markdown",
   "id": "95b40b31",
   "metadata": {},
   "source": [
    "#### Notes on interpretation\n",
    "\n",
    "- The logistic regression model <i> with </i> the 'student' variable included appears to perform marginally better than the model without it\n",
    "- However, the gains may be so slight that it might be worth excluding and opting for the simplier model instead"
   ]
  },
  {
   "cell_type": "markdown",
   "id": "5957e1a1",
   "metadata": {},
   "source": [
    "### Question 6"
   ]
  },
  {
   "cell_type": "code",
   "execution_count": 26,
   "id": "7ef84553",
   "metadata": {},
   "outputs": [
    {
     "ename": "ValueError",
     "evalue": "endog must be in the unit interval.",
     "output_type": "error",
     "traceback": [
      "\u001b[0;31m---------------------------------------------------------------------------\u001b[0m",
      "\u001b[0;31mValueError\u001b[0m                                Traceback (most recent call last)",
      "Cell \u001b[0;32mIn[26], line 16\u001b[0m\n\u001b[1;32m     14\u001b[0m \u001b[38;5;66;03m# fitting model using statsmodels (sm)\u001b[39;00m\n\u001b[1;32m     15\u001b[0m X \u001b[38;5;241m=\u001b[39m sm\u001b[38;5;241m.\u001b[39madd_constant(X) \u001b[38;5;66;03m# adding a constant term to the predictor variables\u001b[39;00m\n\u001b[0;32m---> 16\u001b[0m logit_model \u001b[38;5;241m=\u001b[39m \u001b[43msm\u001b[49m\u001b[38;5;241;43m.\u001b[39;49m\u001b[43mLogit\u001b[49m\u001b[43m(\u001b[49m\u001b[43my\u001b[49m\u001b[43m,\u001b[49m\u001b[43m \u001b[49m\u001b[43mX\u001b[49m\u001b[43m)\u001b[49m\n\u001b[1;32m     17\u001b[0m result \u001b[38;5;241m=\u001b[39m logit_model\u001b[38;5;241m.\u001b[39mfit()\n\u001b[1;32m     19\u001b[0m \u001b[38;5;66;03m# computing the standard errors using \"result.bse\" of the statsmodel library \u001b[39;00m\n",
      "File \u001b[0;32m~/anaconda3/lib/python3.10/site-packages/statsmodels/discrete/discrete_model.py:465\u001b[0m, in \u001b[0;36mBinaryModel.__init__\u001b[0;34m(self, endog, exog, check_rank, **kwargs)\u001b[0m\n\u001b[1;32m    463\u001b[0m \u001b[38;5;28;01mif\u001b[39;00m \u001b[38;5;129;01mnot\u001b[39;00m \u001b[38;5;28missubclass\u001b[39m(\u001b[38;5;28mself\u001b[39m\u001b[38;5;241m.\u001b[39m\u001b[38;5;18m__class__\u001b[39m, MultinomialModel):\n\u001b[1;32m    464\u001b[0m     \u001b[38;5;28;01mif\u001b[39;00m \u001b[38;5;129;01mnot\u001b[39;00m np\u001b[38;5;241m.\u001b[39mall((\u001b[38;5;28mself\u001b[39m\u001b[38;5;241m.\u001b[39mendog \u001b[38;5;241m>\u001b[39m\u001b[38;5;241m=\u001b[39m \u001b[38;5;241m0\u001b[39m) \u001b[38;5;241m&\u001b[39m (\u001b[38;5;28mself\u001b[39m\u001b[38;5;241m.\u001b[39mendog \u001b[38;5;241m<\u001b[39m\u001b[38;5;241m=\u001b[39m \u001b[38;5;241m1\u001b[39m)):\n\u001b[0;32m--> 465\u001b[0m         \u001b[38;5;28;01mraise\u001b[39;00m \u001b[38;5;167;01mValueError\u001b[39;00m(\u001b[38;5;124m\"\u001b[39m\u001b[38;5;124mendog must be in the unit interval.\u001b[39m\u001b[38;5;124m\"\u001b[39m)\n\u001b[1;32m    467\u001b[0m     \u001b[38;5;28;01mif\u001b[39;00m (\u001b[38;5;129;01mnot\u001b[39;00m \u001b[38;5;28mself\u001b[39m\u001b[38;5;241m.\u001b[39m_continuous_ok \u001b[38;5;129;01mand\u001b[39;00m\n\u001b[1;32m    468\u001b[0m             np\u001b[38;5;241m.\u001b[39many(\u001b[38;5;28mself\u001b[39m\u001b[38;5;241m.\u001b[39mendog \u001b[38;5;241m!=\u001b[39m np\u001b[38;5;241m.\u001b[39mround(\u001b[38;5;28mself\u001b[39m\u001b[38;5;241m.\u001b[39mendog))):\n\u001b[1;32m    469\u001b[0m         \u001b[38;5;28;01mraise\u001b[39;00m \u001b[38;5;167;01mValueError\u001b[39;00m(\u001b[38;5;124m\"\u001b[39m\u001b[38;5;124mendog must be binary, either 0 or 1\u001b[39m\u001b[38;5;124m\"\u001b[39m)\n",
      "\u001b[0;31mValueError\u001b[0m: endog must be in the unit interval."
     ]
    }
   ],
   "source": [
    "# setting random seed for reproducibility \n",
    "np.random.seed(42)\n",
    "\n",
    "# converting 'default' column into binary values 1 and 0\n",
    "data['default'] = data['default'].map({'No': 0, 'Yes': 1})\n",
    "\n",
    "# In logistic regression, the target variable (also known as the dependent variable) should typically be binary. \n",
    "# By converting the 'default' column to binary values, we are preparing the data to be compatible with a logistic regression model.\n",
    "\n",
    "# separating input features (X) from target variable (y)\n",
    "X = data[['income', 'balance']]\n",
    "y = data['default']\n",
    "\n",
    "# fitting model using statsmodels (sm)\n",
    "X = sm.add_constant(X) # adding a constant term to the predictor variables\n",
    "logit_model = sm.Logit(y, X)\n",
    "result = logit_model.fit()\n",
    "\n",
    "# computing the standard errors using \"result.bse\" of the statsmodel library \n",
    "std_errors = result.bse"
   ]
  },
  {
   "cell_type": "code",
   "execution_count": null,
   "id": "025cbdfc",
   "metadata": {},
   "outputs": [],
   "source": []
  }
 ],
 "metadata": {
  "kernelspec": {
   "display_name": "Python 3 (ipykernel)",
   "language": "python",
   "name": "python3"
  },
  "language_info": {
   "codemirror_mode": {
    "name": "ipython",
    "version": 3
   },
   "file_extension": ".py",
   "mimetype": "text/x-python",
   "name": "python",
   "nbconvert_exporter": "python",
   "pygments_lexer": "ipython3",
   "version": "3.10.9"
  }
 },
 "nbformat": 4,
 "nbformat_minor": 5
}
