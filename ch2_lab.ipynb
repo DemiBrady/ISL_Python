{
 "cells": [
  {
   "cell_type": "markdown",
   "id": "559bc306",
   "metadata": {},
   "source": [
    "## Ch2 lab: intro \n",
    "\n",
    "### 2.3.1 Basic commands"
   ]
  },
  {
   "cell_type": "code",
   "execution_count": 1,
   "id": "52046540",
   "metadata": {},
   "outputs": [],
   "source": [
    "import numpy as np\n",
    "import random # for random number generation"
   ]
  },
  {
   "cell_type": "code",
   "execution_count": 2,
   "id": "26358d8c",
   "metadata": {},
   "outputs": [
    {
     "name": "stdout",
     "output_type": "stream",
     "text": [
      "[1 3 2 5]\n"
     ]
    }
   ],
   "source": [
    "x = np.array([1,3,2,5]) # this defines the variable 'x' is an array which contains a list of 1, 3, 2, 5\n",
    "print(x)"
   ]
  },
  {
   "cell_type": "code",
   "execution_count": 3,
   "id": "e8911967",
   "metadata": {},
   "outputs": [
    {
     "name": "stdout",
     "output_type": "stream",
     "text": [
      "[1 6 2]\n",
      "[1, 4, 3]\n"
     ]
    }
   ],
   "source": [
    "x = np.array([1,6,2]) # this changes the definition of the variable x as an array which contains a list of 1, 6, 2\n",
    "print(x)\n",
    "y = [1,4,3] # this defines the variable 'y' as a list containing 1, 4, 3\n",
    "print(y)"
   ]
  },
  {
   "cell_type": "code",
   "execution_count": 4,
   "id": "3f11c18a",
   "metadata": {},
   "outputs": [
    {
     "data": {
      "text/plain": [
       "3"
      ]
     },
     "execution_count": 4,
     "metadata": {},
     "output_type": "execute_result"
    }
   ],
   "source": [
    "len(x) # using len() to find the length of the x vector "
   ]
  },
  {
   "cell_type": "code",
   "execution_count": 5,
   "id": "992ca309",
   "metadata": {},
   "outputs": [
    {
     "data": {
      "text/plain": [
       "3"
      ]
     },
     "execution_count": 5,
     "metadata": {},
     "output_type": "execute_result"
    }
   ],
   "source": [
    "len(y)"
   ]
  },
  {
   "cell_type": "code",
   "execution_count": 6,
   "id": "2a94bd73",
   "metadata": {},
   "outputs": [
    {
     "name": "stdout",
     "output_type": "stream",
     "text": [
      "[ 2 10  5]\n"
     ]
    }
   ],
   "source": [
    "print(x+y)"
   ]
  },
  {
   "cell_type": "code",
   "execution_count": 7,
   "id": "de12fd67",
   "metadata": {},
   "outputs": [
    {
     "name": "stdout",
     "output_type": "stream",
     "text": [
      "Variable   Type       Data/Info\n",
      "-------------------------------\n",
      "np         module     <module 'numpy' from '/Us<...>kages/numpy/__init__.py'>\n",
      "random     module     <module 'random' from '/U<...>ib/python3.10/random.py'>\n",
      "x          ndarray    3: 3 elems, type `int64`, 24 bytes\n",
      "y          list       n=3\n"
     ]
    }
   ],
   "source": [
    "# a magic command that displays information about all interactive variables, \n",
    "# table includes variable names, data types, and values.\n",
    "%whos"
   ]
  },
  {
   "cell_type": "code",
   "execution_count": 8,
   "id": "2bc5c598",
   "metadata": {},
   "outputs": [],
   "source": [
    "del x # deletes variable x"
   ]
  },
  {
   "cell_type": "code",
   "execution_count": 9,
   "id": "2c72a1df",
   "metadata": {},
   "outputs": [
    {
     "name": "stdout",
     "output_type": "stream",
     "text": [
      "Variable   Type      Data/Info\n",
      "------------------------------\n",
      "np         module    <module 'numpy' from '/Us<...>kages/numpy/__init__.py'>\n",
      "random     module    <module 'random' from '/U<...>ib/python3.10/random.py'>\n",
      "y          list      n=3\n"
     ]
    }
   ],
   "source": [
    "# shows in a table that we've just deleted variable x\n",
    "%whos "
   ]
  },
  {
   "cell_type": "code",
   "execution_count": 10,
   "id": "911c6b91",
   "metadata": {},
   "outputs": [
    {
     "name": "stdout",
     "output_type": "stream",
     "text": [
      "[[1, 2], [3, 4]]\n"
     ]
    }
   ],
   "source": [
    "x = [[1, 2],[3, 4]] # recreates variable x, this time as a 2x2 matrix\n",
    "print(x)"
   ]
  },
  {
   "cell_type": "code",
   "execution_count": 11,
   "id": "2a069d5e",
   "metadata": {},
   "outputs": [
    {
     "name": "stdout",
     "output_type": "stream",
     "text": [
      "[1 2 3 4]\n",
      "[[1 2]\n",
      " [3 4]]\n"
     ]
    }
   ],
   "source": [
    "x = np.array([1, 2, 3, 4]) # redefines x as an array containing the list 1, 2, 3, 4 (naturally, it is a one dimensional array)\n",
    "print(x)\n",
    "x = np.reshape(x, [2,2]) # reshapes x as a 2x2 matrix, maintaining the values in the list as previously defined, now the array is two dimensional\n",
    "print(x)"
   ]
  },
  {
   "cell_type": "code",
   "execution_count": 12,
   "id": "a8698229",
   "metadata": {},
   "outputs": [
    {
     "name": "stdout",
     "output_type": "stream",
     "text": [
      "[ 1  2  3  4  5  6  7  8  9 10]\n"
     ]
    }
   ],
   "source": [
    "# using NumPy to arrange a set of numners\n",
    "# note the arange function excludes the last number in the range specification \n",
    "x = np.arange(1, 11) \n",
    "print(x) "
   ]
  },
  {
   "cell_type": "markdown",
   "id": "d268d781",
   "metadata": {},
   "source": [
    "#### The next three code blocks demonstrate how to use the matrix to do some calculations "
   ]
  },
  {
   "cell_type": "code",
   "execution_count": 13,
   "id": "e3965a5a",
   "metadata": {},
   "outputs": [
    {
     "data": {
      "text/plain": [
       "array([1.        , 1.41421356, 1.73205081, 2.        , 2.23606798,\n",
       "       2.44948974, 2.64575131, 2.82842712, 3.        , 3.16227766])"
      ]
     },
     "execution_count": 13,
     "metadata": {},
     "output_type": "execute_result"
    }
   ],
   "source": [
    "np.sqrt(x) # getting the square root of each element in x"
   ]
  },
  {
   "cell_type": "code",
   "execution_count": 14,
   "id": "9ccb4edb",
   "metadata": {},
   "outputs": [
    {
     "data": {
      "text/plain": [
       "array([  1,   4,   9,  16,  25,  36,  49,  64,  81, 100])"
      ]
     },
     "execution_count": 14,
     "metadata": {},
     "output_type": "execute_result"
    }
   ],
   "source": [
    "x**2 # squaring each element in x"
   ]
  },
  {
   "cell_type": "code",
   "execution_count": 15,
   "id": "891c8399",
   "metadata": {},
   "outputs": [
    {
     "data": {
      "text/plain": [
       "array([  1,   4,   9,  16,  25,  36,  49,  64,  81, 100])"
      ]
     },
     "execution_count": 15,
     "metadata": {},
     "output_type": "execute_result"
    }
   ],
   "source": [
    "np.square(x) # also squaring each element in x"
   ]
  },
  {
   "cell_type": "markdown",
   "id": "f063fe2d",
   "metadata": {},
   "source": [
    "#### The following block shows the shorthand way to define a variable in Python. It's noteworthy, however, that it demonstrates defining the values of 'mu' and 'sigma'. In statistics and probability, mu and sigma are used frequently. In a normal distribution, mu is the mean and sigma is the standard deviation.  "
   ]
  },
  {
   "cell_type": "code",
   "execution_count": 16,
   "id": "c228d1f5",
   "metadata": {},
   "outputs": [],
   "source": [
    "mu, sigma = 0, 1 # assigning the mean of a normal distribution as 0 and the standard deviation as 1"
   ]
  },
  {
   "cell_type": "markdown",
   "id": "530d8014",
   "metadata": {},
   "source": [
    "#### The following block is a simulation often used in statistics and data science to generate synthetic data for testing and analysis. The two arrays created, 'x' and 'y', have a linear relationship with each other, whereby 'y' is 'x' with some random noise added to it "
   ]
  },
  {
   "cell_type": "code",
   "execution_count": 17,
   "id": "0b3286c1",
   "metadata": {},
   "outputs": [
    {
     "name": "stdout",
     "output_type": "stream",
     "text": [
      "[ 1.55104947  1.60490715 -0.6552168  -0.30007232  0.00225203]\n",
      "[21.52313164 21.47201489 19.27956745 19.76255199 19.95333772]\n"
     ]
    }
   ],
   "source": [
    "x = np.random.normal(mu, sigma, 5) # creating an array with the size of 5, with each element drawn randomly from a normal distribution with a mean of 'mu' and standard deviation of 'sigma'\n",
    "y = x + np.random.normal(20, 0.1, 5) # creating an array of size 5, each element calcuated by adding a random value from a normal distribution with a mean of '20' and SD of '0.1' to the corresponding element in 'x'\n",
    "\n",
    "# The '+' operator is used to add the two arrays element-wise\n",
    "\n",
    "print(x)\n",
    "print(y)"
   ]
  },
  {
   "cell_type": "markdown",
   "id": "6c98d1a0",
   "metadata": {},
   "source": [
    "#### The next two blocks compute the Pearson correlation coefficient between 'x' and 'y'. This is a measure of the linear relationship between the two variables. The correlation coefficient is useful for quantifying the relationship between two variables in a dataset. It is particularly helpful when deciding which variables to select for inclusion in a ML model.  \n",
    "\n",
    "#### A value of 1 indicates a perfect positive linear relationship, a value of -1 indicates a perfect negative linear relationship, and a value of 0 indicates no linear relationship. "
   ]
  },
  {
   "cell_type": "code",
   "execution_count": 18,
   "id": "c9bc89d3",
   "metadata": {},
   "outputs": [
    {
     "data": {
      "text/plain": [
       "array([[1.        , 0.99815906],\n",
       "       [0.99815906, 1.        ]])"
      ]
     },
     "execution_count": 18,
     "metadata": {},
     "output_type": "execute_result"
    }
   ],
   "source": [
    "np.corrcoef(x,y) # computing cor coef matrix between 'x' and 'y'\n",
    "# results in a 2x2 matrix, where (1,1) entry is the corr coef between 'x' and 'x'\n",
    "# the (1,2) and (2,1) entries are corr coeff between 'x' and 'y'\n",
    "# the (2,2) entry is corr coeff on between 'y' and 'y'"
   ]
  },
  {
   "cell_type": "code",
   "execution_count": 19,
   "id": "168374fb",
   "metadata": {},
   "outputs": [
    {
     "data": {
      "text/plain": [
       "0.9981590646343966"
      ]
     },
     "execution_count": 19,
     "metadata": {},
     "output_type": "execute_result"
    }
   ],
   "source": [
    "np.corrcoef(x, y)[0,1] # extracts only the (1,2) entry from the corr coeff matrix computed in previous line\n",
    "# Shows the strength and direction of the linear relationship between 'x' and 'y'"
   ]
  },
  {
   "cell_type": "markdown",
   "id": "92b8b057",
   "metadata": {},
   "source": [
    "#### The following block demonstrates the random seed function. It shows how to set the seed for the random number generator in Python's built-in 'random' module to a fixed value. This means that every time the random number generator is used after setting the seed, it will produce the same sequence of random numbers. ####\n",
    "\n",
    "#### Setting the seed can be useful in simulations where we want to ensure that the random numbers produced are consistent across different runs of the code. E.g. if working in a team and wanting to ensure everyone gets the same results when running the code. ####"
   ]
  },
  {
   "cell_type": "code",
   "execution_count": 20,
   "id": "05e02a03",
   "metadata": {},
   "outputs": [],
   "source": [
    "random.seed(2333)"
   ]
  },
  {
   "cell_type": "code",
   "execution_count": 21,
   "id": "cdbc5156",
   "metadata": {},
   "outputs": [
    {
     "data": {
      "text/plain": [
       "array([ 0.74955958, -0.78443679, -0.03411824, -0.12094326, -0.39029433])"
      ]
     },
     "execution_count": 21,
     "metadata": {},
     "output_type": "execute_result"
    }
   ],
   "source": [
    "np.random.normal(mu, sigma, 5) # now that we've set the seed we should get the same result from this code everytime we run the notebook"
   ]
  },
  {
   "cell_type": "code",
   "execution_count": 22,
   "id": "5204e2ab",
   "metadata": {},
   "outputs": [
    {
     "name": "stdout",
     "output_type": "stream",
     "text": [
      "-0.15699954905738892\n",
      "0.7426832055961066\n",
      "0.8617906970930392\n",
      "0.8617906970930392\n"
     ]
    }
   ],
   "source": [
    "# generating a sample of values from a normal distribution and calculate basic descriptive statistics\n",
    "mu, sigma = 0, 1\n",
    "num_samples = 10\n",
    "x = np.random.normal(mu, sigma, num_samples)\n",
    "print(np.mean(x))\n",
    "print(np.var(x))\n",
    "print(np.sqrt(np.var(x)))\n",
    "print(np.std(x))"
   ]
  },
  {
   "cell_type": "markdown",
   "id": "8e676aa0",
   "metadata": {},
   "source": [
    "### 2.3.2 Graphics"
   ]
  },
  {
   "cell_type": "code",
   "execution_count": 23,
   "id": "8f08f0d9",
   "metadata": {},
   "outputs": [
    {
     "data": {
      "image/png": "[encoded data removed]",
      "text/plain": [
       "<Figure size 640x480 with 1 Axes>"
      ]
     },
     "metadata": {},
     "output_type": "display_data"
    }
   ],
   "source": [
    "import numpy as np\n",
    "import random\n",
    "\n",
    "x = np.random.normal(0, 1, 100) # creating a variable 'x' which is a sample containing 100 numbers from a normal distribution with a mean of 0 and standard deviation of 1\n",
    "y = np.random.normal(0, 1, 100) # creating a variable 'y' with the same elements as x\n",
    "\n",
    "import matplotlib.pyplot as plt\n",
    "\n",
    "plt.plot(x,y, 'm*') # creates the plot, defines the colour (magnenta) and plotting shapes (stars)\n",
    "plt.ylabel(\"This is the y-axis\") \n",
    "plt.xlabel(\"This is the x-axis\")\n",
    "plt.title(\"Plot of X vs Y\")\n",
    "plt.savefig(\"Figure.pdf\") # saves as PDF\n",
    "plt.show()\n",
    "\n",
    "# use plt.plt? for more options"
   ]
  },
  {
   "cell_type": "code",
   "execution_count": 24,
   "id": "a8888645",
   "metadata": {},
   "outputs": [
    {
     "name": "stdout",
     "output_type": "stream",
     "text": [
      "[-3.14159265 -3.01336438 -2.88513611 -2.75690784 -2.62867957 -2.5004513\n",
      " -2.37222302 -2.24399475 -2.11576648 -1.98753821 -1.85930994 -1.73108167\n",
      " -1.60285339 -1.47462512 -1.34639685 -1.21816858 -1.08994031 -0.96171204\n",
      " -0.83348377 -0.70525549 -0.57702722 -0.44879895 -0.32057068 -0.19234241\n",
      " -0.06411414  0.06411414  0.19234241  0.32057068  0.44879895  0.57702722\n",
      "  0.70525549  0.83348377  0.96171204  1.08994031  1.21816858  1.34639685\n",
      "  1.47462512  1.60285339  1.73108167  1.85930994  1.98753821  2.11576648\n",
      "  2.24399475  2.37222302  2.5004513   2.62867957  2.75690784  2.88513611\n",
      "  3.01336438  3.14159265]\n"
     ]
    }
   ],
   "source": [
    "# demo of importing math module to use Pi\n",
    "import math\n",
    "x = np.linspace(-math.pi, math.pi, num = 50)\n",
    "print(x)"
   ]
  },
  {
   "cell_type": "code",
   "execution_count": 25,
   "id": "7c4b62f3",
   "metadata": {},
   "outputs": [],
   "source": [
    "import matplotlib.cm as cm\n",
    "import matplotlib.mlab as mlab\n",
    "y = x\n",
    "X, Y = np.meshgrid(x,y) # creates a grid of coordinates from the arrays x and y\n",
    "# the resulting X and Y arrays represent the coordinates of every point in the grid"
   ]
  },
  {
   "cell_type": "code",
   "execution_count": 26,
   "id": "bdb77de6",
   "metadata": {},
   "outputs": [
    {
     "name": "stdout",
     "output_type": "stream",
     "text": [
      "Variable      Type       Data/Info\n",
      "----------------------------------\n",
      "X             ndarray    50x50: 2500 elems, type `float64`, 20000 bytes\n",
      "Y             ndarray    50x50: 2500 elems, type `float64`, 20000 bytes\n",
      "cm            module     <module 'matplotlib.cm' f<...>ckages/matplotlib/cm.py'>\n",
      "math          module     <module 'math' from '/Use<...>h.cpython-310-darwin.so'>\n",
      "mlab          module     <module 'matplotlib.mlab'<...>ages/matplotlib/mlab.py'>\n",
      "mu            int        0\n",
      "np            module     <module 'numpy' from '/Us<...>kages/numpy/__init__.py'>\n",
      "num_samples   int        10\n",
      "plt           module     <module 'matplotlib.pyplo<...>es/matplotlib/pyplot.py'>\n",
      "random        module     <module 'random' from '/U<...>ib/python3.10/random.py'>\n",
      "sigma         int        1\n",
      "x             ndarray    50: 50 elems, type `float64`, 400 bytes\n",
      "y             ndarray    50: 50 elems, type `float64`, 400 bytes\n"
     ]
    }
   ],
   "source": [
    "%whos"
   ]
  },
  {
   "cell_type": "code",
   "execution_count": 27,
   "id": "bfd04c1e",
   "metadata": {},
   "outputs": [
    {
     "data": {
      "image/png": "[encoded data removed]",
      "text/plain": [
       "<Figure size 640x480 with 1 Axes>"
      ]
     },
     "metadata": {},
     "output_type": "display_data"
    }
   ],
   "source": [
    "# creates a contour plot of a two-dimensional function 'f' using the 'cos and 'square' functions from NumPy\n",
    "f = np.cos(Y)/(1 + np.square(X))\n",
    "CS = plt.contour(X, Y, f)\n",
    "plt.show()"
   ]
  },
  {
   "cell_type": "code",
   "execution_count": 28,
   "id": "1243fe7d",
   "metadata": {},
   "outputs": [
    {
     "data": {
      "image/png": "[encoded data removed]",
      "text/plain": [
       "<Figure size 640x480 with 1 Axes>"
      ]
     },
     "metadata": {},
     "output_type": "display_data"
    }
   ],
   "source": [
    "# creates a heatmap of a symmetric two-dimensinoal function \n",
    "fa = (f - f.T)/2 #f.T for transpose or tranpose(f)\n",
    "plt.imshow(fa, extent=(x[0], x[-1], y[0], y[-1])) \n",
    "plt.show()"
   ]
  },
  {
   "cell_type": "code",
   "execution_count": 29,
   "id": "a3f984a3",
   "metadata": {},
   "outputs": [
    {
     "data": {
      "image/png": "[encoded data removed]",
      "text/plain": [
       "<Figure size 640x480 with 1 Axes>"
      ]
     },
     "metadata": {},
     "output_type": "display_data"
    }
   ],
   "source": [
    "# creates a 3D plot of a two-dimensional function\n",
    "from mpl_toolkits.mplot3d import axes3d\n",
    "fig = plt.figure()\n",
    "ax = fig.add_subplot(111, projection='3d')\n",
    "ax.plot_wireframe(X, Y, fa)\n",
    "plt.show()"
   ]
  },
  {
   "cell_type": "markdown",
   "id": "c61d8c2e",
   "metadata": {},
   "source": [
    "### 2.3.3 Indexing data\n",
    "Indexing data is essential for data science as it allows you to extract specific values or subets of data from larger data structures, such as arrays, lists, or pandas data frames.\n",
    "\n",
    "You might use indexing for data exploration (when you want to explore specific parts of a large data set to better understand its properties), data cleansing (to select and modify specific values or rows in a dataset), data preprocessing (preforming operations such as normalization or feature extraction by selecting and manipulating specific features or columns in a dataset), data analysis (selecting specific subets of data for analysis)."
   ]
  },
  {
   "cell_type": "code",
   "execution_count": 30,
   "id": "237526f2",
   "metadata": {},
   "outputs": [
    {
     "name": "stdout",
     "output_type": "stream",
     "text": [
      "[[ 1  1  1  1]\n",
      " [17 17 17 17]\n",
      " [ 1  1  1  1]\n",
      " [ 2  2  2  2]]\n"
     ]
    }
   ],
   "source": [
    "A = np.array([1,17,1,2,1,17,1,2,1,17,1,2,1,17,1,2]).reshape(4,4).transpose()\n",
    "print(A)\n",
    "\n",
    "# why do this? np.array creates an array from a sequence of values\n",
    "# the reshape() method is called on tihs array to shape it into a 4x4 array\n",
    "# the transpose() method is called on the reshaped array, this flips the rows and columns of the array"
   ]
  },
  {
   "cell_type": "code",
   "execution_count": 31,
   "id": "fdf1d867",
   "metadata": {},
   "outputs": [
    {
     "name": "stdout",
     "output_type": "stream",
     "text": [
      "[[ 1 17  1  2]\n",
      " [ 1 17  1  2]\n",
      " [ 1 17  1  2]\n",
      " [ 1 17  1  2]]\n"
     ]
    }
   ],
   "source": [
    "# running the same code as above without the transpose() method to see the difference\n",
    "A = np.array([1,17,1,2,1,17,1,2,1,17,1,2,1,17,1,2]).reshape(4,4)\n",
    "print(A)"
   ]
  },
  {
   "cell_type": "code",
   "execution_count": 32,
   "id": "d2e6a3e3",
   "metadata": {},
   "outputs": [
    {
     "name": "stdout",
     "output_type": "stream",
     "text": [
      "1\n"
     ]
    }
   ],
   "source": [
    "print(A[2,2]) # this code will print the element at the third row and third column of the array 'A'\n",
    "\n",
    "# given the line of code above defining A, this value will be 1"
   ]
  },
  {
   "cell_type": "code",
   "execution_count": 33,
   "id": "1fa6d33a",
   "metadata": {},
   "outputs": [
    {
     "name": "stdout",
     "output_type": "stream",
     "text": [
      "1\n",
      "17\n",
      "1\n",
      "2\n"
     ]
    }
   ],
   "source": [
    "# trying the print function of the array again with different values\n",
    "print(A[0,0])\n",
    "print(A[0,1])\n",
    "print(A[0,2])\n",
    "print(A[0,3])\n",
    "\n",
    "# these print functions print the first row of the matrix 2 blocks above\n",
    "# demostrates how Python indexes from 0, not 1"
   ]
  },
  {
   "cell_type": "code",
   "execution_count": 34,
   "id": "0507098a",
   "metadata": {},
   "outputs": [
    {
     "data": {
      "text/plain": [
       "array([[17,  2],\n",
       "       [17,  2]])"
      ]
     },
     "execution_count": 34,
     "metadata": {},
     "output_type": "execute_result"
    }
   ],
   "source": [
    "A[[[0],[2]], [1,3]] # will produce a 2x2 array containing the elements in row 0 and 2 and columns 1 and 3\n",
    "\n",
    "# when indexing to an array, first square brackets denote the rows of interest, second square brackets denotes the columns"
   ]
  },
  {
   "cell_type": "code",
   "execution_count": 35,
   "id": "0f122ccb",
   "metadata": {},
   "outputs": [
    {
     "data": {
      "text/plain": [
       "1"
      ]
     },
     "execution_count": 35,
     "metadata": {},
     "output_type": "execute_result"
    }
   ],
   "source": [
    "A[0,0] # demo-ing that you don't need to use the print function in Jupyter notebooks\n",
    "\n",
    "# same code in second-to-last block runs the same without it"
   ]
  },
  {
   "cell_type": "code",
   "execution_count": 36,
   "id": "5fc839ea",
   "metadata": {},
   "outputs": [
    {
     "data": {
      "text/plain": [
       "2"
      ]
     },
     "execution_count": 36,
     "metadata": {},
     "output_type": "execute_result"
    }
   ],
   "source": [
    "# but you do need to use the print function in Jupyter notebooks when trying to do more than one operation in one block\n",
    "# ? I think ? maybe not the best explanation of the rule but note that this only produces 1 value\n",
    "\n",
    "A[0,0] \n",
    "A[0,2]\n",
    "A[0,3]\n"
   ]
  },
  {
   "cell_type": "code",
   "execution_count": 37,
   "id": "d622c555",
   "metadata": {},
   "outputs": [
    {
     "data": {
      "text/plain": [
       "array([[17,  2],\n",
       "       [17,  2]])"
      ]
     },
     "execution_count": 37,
     "metadata": {},
     "output_type": "execute_result"
    }
   ],
   "source": [
    "# another way to select rows / columns in an array using the slicing notation\n",
    "# slicing notation is denoted by ':'\n",
    "# first slice denotes rows, second slice denotes columns\n",
    "\n",
    "A[0:3:2, 1:4:2]\n",
    "\n",
    "# this code will result in a 2x2 array containing elements denoted by the slices\n",
    "# first slice selects rows between 0 and 3 with a step of 2, i.e. rows 0 and 2\n",
    "# second slice selects columns between 1 and 4 with a step of 2, i.e. columns 1 and 3"
   ]
  },
  {
   "cell_type": "code",
   "execution_count": 38,
   "id": "23e319ed",
   "metadata": {},
   "outputs": [
    {
     "data": {
      "text/plain": [
       "array([[ 1, 17,  1,  2],\n",
       "       [ 1, 17,  1,  2]])"
      ]
     },
     "execution_count": 38,
     "metadata": {},
     "output_type": "execute_result"
    }
   ],
   "source": [
    "# example of slicing rows but leaving all columns\n",
    "A[0:3:2,:]"
   ]
  },
  {
   "cell_type": "code",
   "execution_count": 39,
   "id": "34b2e06a",
   "metadata": {},
   "outputs": [
    {
     "data": {
      "text/plain": [
       "array([[17,  2],\n",
       "       [17,  2],\n",
       "       [17,  2],\n",
       "       [17,  2]])"
      ]
     },
     "execution_count": 39,
     "metadata": {},
     "output_type": "execute_result"
    }
   ],
   "source": [
    "# example of slicing columns but leaving all rows\n",
    "A[:, 1:4:2] "
   ]
  },
  {
   "cell_type": "code",
   "execution_count": 40,
   "id": "281ce111",
   "metadata": {},
   "outputs": [
    {
     "data": {
      "text/plain": [
       "2"
      ]
     },
     "execution_count": 40,
     "metadata": {},
     "output_type": "execute_result"
    }
   ],
   "source": [
    "# using the '-' sign to index from the end of a sequence\n",
    "# i.e. -1 calls from the last element \n",
    "\n",
    "A[-1, -1] # calls the element of the last row of the last column (2)"
   ]
  },
  {
   "cell_type": "code",
   "execution_count": 41,
   "id": "33b8ceeb",
   "metadata": {},
   "outputs": [
    {
     "data": {
      "text/plain": [
       "array([ 1, 17,  1,  2])"
      ]
     },
     "execution_count": 41,
     "metadata": {},
     "output_type": "execute_result"
    }
   ],
   "source": [
    "A[-1] # calls the last row"
   ]
  },
  {
   "cell_type": "code",
   "execution_count": 42,
   "id": "dca2ce8a",
   "metadata": {},
   "outputs": [
    {
     "name": "stdout",
     "output_type": "stream",
     "text": [
      "[False  True False  True]\n"
     ]
    }
   ],
   "source": [
    "# not sure what this is doing?\n",
    "\n",
    "ind = np.ones((4,), bool)\n",
    "ind[[0,2]] = False\n",
    "print(ind)"
   ]
  },
  {
   "cell_type": "code",
   "execution_count": 43,
   "id": "ba2973c6",
   "metadata": {},
   "outputs": [
    {
     "data": {
      "text/plain": [
       "(4, 4)"
      ]
     },
     "execution_count": 43,
     "metadata": {},
     "output_type": "execute_result"
    }
   ],
   "source": [
    "# using .shape to get the shape of the matrix\n",
    "A.shape"
   ]
  },
  {
   "cell_type": "markdown",
   "id": "aa7acc67",
   "metadata": {},
   "source": [
    "### 2.3.4 Loading data\n",
    "Using the Pandas module to read from a file into a data frame. Pandas is commonly used for importing data because it can handle various data formats including CSV, Excel, SQL databases, and JSON. It can also handle different data types including numeric, categorial, text, and time-series.\n",
    "\n",
    "There are several parameters in Pandas to customise how to read, write, and manipulate data. These include: 'header' to specify which row of the file contains column names, 'index_col' to specify which column(s) should be used as the index of the resulting data frame, 'usecols' to specify which columns to read from the file, 'na_values' to specify which strings or values should be treated as missing (NaN) values in the resulting data frame, 'dtype' to specify the data type for each column in the resulting data frame. "
   ]
  },
  {
   "cell_type": "code",
   "execution_count": 46,
   "id": "b5c5365a",
   "metadata": {},
   "outputs": [],
   "source": [
    "import pandas as pd\n",
    "auto = pd.read_csv('data/Auto.csv', header=0, na_values='?') # denotes headers as in row 0, denotes missing values as cells with '?'"
   ]
  },
  {
   "cell_type": "code",
   "execution_count": 47,
   "id": "29f46bdc",
   "metadata": {},
   "outputs": [
    {
     "data": {
      "text/html": [
       "<div>\n",
       "<style scoped>\n",
       "    .dataframe tbody tr th:only-of-type {\n",
       "        vertical-align: middle;\n",
       "    }\n",
       "\n",
       "    .dataframe tbody tr th {\n",
       "        vertical-align: top;\n",
       "    }\n",
       "\n",
       "    .dataframe thead th {\n",
       "        text-align: right;\n",
       "    }\n",
       "</style>\n",
       "<table border=\"1\" class=\"dataframe\">\n",
       "  <thead>\n",
       "    <tr style=\"text-align: right;\">\n",
       "      <th></th>\n",
       "      <th>mpg</th>\n",
       "      <th>cylinders</th>\n",
       "      <th>displacement</th>\n",
       "      <th>horsepower</th>\n",
       "      <th>weight</th>\n",
       "      <th>acceleration</th>\n",
       "      <th>year</th>\n",
       "      <th>origin</th>\n",
       "      <th>name</th>\n",
       "    </tr>\n",
       "  </thead>\n",
       "  <tbody>\n",
       "    <tr>\n",
       "      <th>0</th>\n",
       "      <td>18.0</td>\n",
       "      <td>8</td>\n",
       "      <td>307.0</td>\n",
       "      <td>130.0</td>\n",
       "      <td>3504</td>\n",
       "      <td>12.0</td>\n",
       "      <td>70</td>\n",
       "      <td>1</td>\n",
       "      <td>chevrolet chevelle malibu</td>\n",
       "    </tr>\n",
       "    <tr>\n",
       "      <th>1</th>\n",
       "      <td>15.0</td>\n",
       "      <td>8</td>\n",
       "      <td>350.0</td>\n",
       "      <td>165.0</td>\n",
       "      <td>3693</td>\n",
       "      <td>11.5</td>\n",
       "      <td>70</td>\n",
       "      <td>1</td>\n",
       "      <td>buick skylark 320</td>\n",
       "    </tr>\n",
       "    <tr>\n",
       "      <th>2</th>\n",
       "      <td>18.0</td>\n",
       "      <td>8</td>\n",
       "      <td>318.0</td>\n",
       "      <td>150.0</td>\n",
       "      <td>3436</td>\n",
       "      <td>11.0</td>\n",
       "      <td>70</td>\n",
       "      <td>1</td>\n",
       "      <td>plymouth satellite</td>\n",
       "    </tr>\n",
       "    <tr>\n",
       "      <th>3</th>\n",
       "      <td>16.0</td>\n",
       "      <td>8</td>\n",
       "      <td>304.0</td>\n",
       "      <td>150.0</td>\n",
       "      <td>3433</td>\n",
       "      <td>12.0</td>\n",
       "      <td>70</td>\n",
       "      <td>1</td>\n",
       "      <td>amc rebel sst</td>\n",
       "    </tr>\n",
       "    <tr>\n",
       "      <th>4</th>\n",
       "      <td>17.0</td>\n",
       "      <td>8</td>\n",
       "      <td>302.0</td>\n",
       "      <td>140.0</td>\n",
       "      <td>3449</td>\n",
       "      <td>10.5</td>\n",
       "      <td>70</td>\n",
       "      <td>1</td>\n",
       "      <td>ford torino</td>\n",
       "    </tr>\n",
       "  </tbody>\n",
       "</table>\n",
       "</div>"
      ],
      "text/plain": [
       "    mpg  cylinders  displacement  horsepower  weight  acceleration  year  \\\n",
       "0  18.0          8         307.0       130.0    3504          12.0    70   \n",
       "1  15.0          8         350.0       165.0    3693          11.5    70   \n",
       "2  18.0          8         318.0       150.0    3436          11.0    70   \n",
       "3  16.0          8         304.0       150.0    3433          12.0    70   \n",
       "4  17.0          8         302.0       140.0    3449          10.5    70   \n",
       "\n",
       "   origin                       name  \n",
       "0       1  chevrolet chevelle malibu  \n",
       "1       1          buick skylark 320  \n",
       "2       1         plymouth satellite  \n",
       "3       1              amc rebel sst  \n",
       "4       1                ford torino  "
      ]
     },
     "execution_count": 47,
     "metadata": {},
     "output_type": "execute_result"
    }
   ],
   "source": [
    "auto.head() # displays the first 5 rows in the dataframe, typically used to check data is loaded correctly\n",
    "\n",
    "# to see more than default rows, can specify number of rows needed in brackets"
   ]
  },
  {
   "cell_type": "code",
   "execution_count": 48,
   "id": "8bff6317",
   "metadata": {},
   "outputs": [
    {
     "data": {
      "text/plain": [
       "mpg                   25.0\n",
       "cylinders                4\n",
       "displacement          98.0\n",
       "horsepower             NaN\n",
       "weight                2046\n",
       "acceleration          19.0\n",
       "year                    71\n",
       "origin                   1\n",
       "name            ford pinto\n",
       "Name: 32, dtype: object"
      ]
     },
     "execution_count": 48,
     "metadata": {},
     "output_type": "execute_result"
    }
   ],
   "source": [
    "auto.iloc[32] # using the 'iloc' method to index and retrieve data from a data frame position\n",
    "\n",
    "# number in square brackets denotes the row of data, if wanted to include column need to include another square bracket with column number"
   ]
  },
  {
   "cell_type": "code",
   "execution_count": 53,
   "id": "22db1517",
   "metadata": {},
   "outputs": [
    {
     "data": {
      "text/plain": [
       "(397, 9)"
      ]
     },
     "execution_count": 53,
     "metadata": {},
     "output_type": "execute_result"
    }
   ],
   "source": [
    "auto.shape # the .shape function tells us the dimension of the data frame"
   ]
  },
  {
   "cell_type": "code",
   "execution_count": 54,
   "id": "37f2bc65",
   "metadata": {},
   "outputs": [
    {
     "data": {
      "text/html": [
       "<div>\n",
       "<style scoped>\n",
       "    .dataframe tbody tr th:only-of-type {\n",
       "        vertical-align: middle;\n",
       "    }\n",
       "\n",
       "    .dataframe tbody tr th {\n",
       "        vertical-align: top;\n",
       "    }\n",
       "\n",
       "    .dataframe thead th {\n",
       "        text-align: right;\n",
       "    }\n",
       "</style>\n",
       "<table border=\"1\" class=\"dataframe\">\n",
       "  <thead>\n",
       "    <tr style=\"text-align: right;\">\n",
       "      <th></th>\n",
       "      <th>mpg</th>\n",
       "      <th>cylinders</th>\n",
       "      <th>displacement</th>\n",
       "      <th>horsepower</th>\n",
       "      <th>weight</th>\n",
       "      <th>acceleration</th>\n",
       "      <th>year</th>\n",
       "      <th>origin</th>\n",
       "      <th>name</th>\n",
       "    </tr>\n",
       "  </thead>\n",
       "  <tbody>\n",
       "    <tr>\n",
       "      <th>0</th>\n",
       "      <td>18.0</td>\n",
       "      <td>8</td>\n",
       "      <td>307.0</td>\n",
       "      <td>130.0</td>\n",
       "      <td>3504</td>\n",
       "      <td>12.0</td>\n",
       "      <td>70</td>\n",
       "      <td>1</td>\n",
       "      <td>chevrolet chevelle malibu</td>\n",
       "    </tr>\n",
       "    <tr>\n",
       "      <th>1</th>\n",
       "      <td>15.0</td>\n",
       "      <td>8</td>\n",
       "      <td>350.0</td>\n",
       "      <td>165.0</td>\n",
       "      <td>3693</td>\n",
       "      <td>11.5</td>\n",
       "      <td>70</td>\n",
       "      <td>1</td>\n",
       "      <td>buick skylark 320</td>\n",
       "    </tr>\n",
       "    <tr>\n",
       "      <th>2</th>\n",
       "      <td>18.0</td>\n",
       "      <td>8</td>\n",
       "      <td>318.0</td>\n",
       "      <td>150.0</td>\n",
       "      <td>3436</td>\n",
       "      <td>11.0</td>\n",
       "      <td>70</td>\n",
       "      <td>1</td>\n",
       "      <td>plymouth satellite</td>\n",
       "    </tr>\n",
       "    <tr>\n",
       "      <th>3</th>\n",
       "      <td>16.0</td>\n",
       "      <td>8</td>\n",
       "      <td>304.0</td>\n",
       "      <td>150.0</td>\n",
       "      <td>3433</td>\n",
       "      <td>12.0</td>\n",
       "      <td>70</td>\n",
       "      <td>1</td>\n",
       "      <td>amc rebel sst</td>\n",
       "    </tr>\n",
       "  </tbody>\n",
       "</table>\n",
       "</div>"
      ],
      "text/plain": [
       "    mpg  cylinders  displacement  horsepower  weight  acceleration  year  \\\n",
       "0  18.0          8         307.0       130.0    3504          12.0    70   \n",
       "1  15.0          8         350.0       165.0    3693          11.5    70   \n",
       "2  18.0          8         318.0       150.0    3436          11.0    70   \n",
       "3  16.0          8         304.0       150.0    3433          12.0    70   \n",
       "\n",
       "   origin                       name  \n",
       "0       1  chevrolet chevelle malibu  \n",
       "1       1          buick skylark 320  \n",
       "2       1         plymouth satellite  \n",
       "3       1              amc rebel sst  "
      ]
     },
     "execution_count": 54,
     "metadata": {},
     "output_type": "execute_result"
    }
   ],
   "source": [
    "auto[:4] # an alternative way to select and display the first x rows of data"
   ]
  },
  {
   "cell_type": "code",
   "execution_count": 55,
   "id": "c711a3f3",
   "metadata": {},
   "outputs": [
    {
     "data": {
      "text/html": [
       "<div>\n",
       "<style scoped>\n",
       "    .dataframe tbody tr th:only-of-type {\n",
       "        vertical-align: middle;\n",
       "    }\n",
       "\n",
       "    .dataframe tbody tr th {\n",
       "        vertical-align: top;\n",
       "    }\n",
       "\n",
       "    .dataframe thead th {\n",
       "        text-align: right;\n",
       "    }\n",
       "</style>\n",
       "<table border=\"1\" class=\"dataframe\">\n",
       "  <thead>\n",
       "    <tr style=\"text-align: right;\">\n",
       "      <th></th>\n",
       "      <th>mpg</th>\n",
       "      <th>cylinders</th>\n",
       "    </tr>\n",
       "  </thead>\n",
       "  <tbody>\n",
       "    <tr>\n",
       "      <th>0</th>\n",
       "      <td>18.0</td>\n",
       "      <td>8</td>\n",
       "    </tr>\n",
       "    <tr>\n",
       "      <th>1</th>\n",
       "      <td>15.0</td>\n",
       "      <td>8</td>\n",
       "    </tr>\n",
       "    <tr>\n",
       "      <th>2</th>\n",
       "      <td>18.0</td>\n",
       "      <td>8</td>\n",
       "    </tr>\n",
       "    <tr>\n",
       "      <th>3</th>\n",
       "      <td>16.0</td>\n",
       "      <td>8</td>\n",
       "    </tr>\n",
       "  </tbody>\n",
       "</table>\n",
       "</div>"
      ],
      "text/plain": [
       "    mpg  cylinders\n",
       "0  18.0          8\n",
       "1  15.0          8\n",
       "2  18.0          8\n",
       "3  16.0          8"
      ]
     },
     "execution_count": 55,
     "metadata": {},
     "output_type": "execute_result"
    }
   ],
   "source": [
    "auto.iloc[:4, :2] # alternative way to select and display first x rows and first x columns"
   ]
  },
  {
   "cell_type": "code",
   "execution_count": 56,
   "id": "3e957aeb",
   "metadata": {},
   "outputs": [
    {
     "name": "stdout",
     "output_type": "stream",
     "text": [
      "['mpg', 'cylinders', 'displacement', 'horsepower', 'weight', 'acceleration', 'year', 'origin', 'name']\n"
     ]
    }
   ],
   "source": [
    "print(list(auto)) # using list function to find the column names"
   ]
  },
  {
   "cell_type": "code",
   "execution_count": 57,
   "id": "7c7ccb60",
   "metadata": {},
   "outputs": [
    {
     "name": "stdout",
     "output_type": "stream",
     "text": [
      "Index(['mpg', 'cylinders', 'displacement', 'horsepower', 'weight',\n",
      "       'acceleration', 'year', 'origin', 'name'],\n",
      "      dtype='object')\n"
     ]
    }
   ],
   "source": [
    "print(auto.columns) # we can also use the .columns function to find the column names"
   ]
  },
  {
   "cell_type": "code",
   "execution_count": 58,
   "id": "711ea6a3",
   "metadata": {},
   "outputs": [
    {
     "data": {
      "text/plain": [
       "mpg             0\n",
       "cylinders       0\n",
       "displacement    0\n",
       "horsepower      5\n",
       "weight          0\n",
       "acceleration    0\n",
       "year            0\n",
       "origin          0\n",
       "name            0\n",
       "dtype: int64"
      ]
     },
     "execution_count": 58,
     "metadata": {},
     "output_type": "execute_result"
    }
   ],
   "source": [
    "auto.isnull().sum() # using .isnull and .sum to find how many NaNs in each variable / column"
   ]
  },
  {
   "cell_type": "code",
   "execution_count": 59,
   "id": "fc4a27df",
   "metadata": {},
   "outputs": [
    {
     "name": "stdout",
     "output_type": "stream",
     "text": [
      "(397, 9)\n"
     ]
    }
   ],
   "source": [
    "print(auto.shape) # there are only 4 missing values in a 397x9 dataframe, this is small enough proportion to delete... "
   ]
  },
  {
   "cell_type": "code",
   "execution_count": 60,
   "id": "a7e8636e",
   "metadata": {},
   "outputs": [],
   "source": [
    "auto = auto.dropna() # deletes all rows with cells categorised as 'na' as per our first line of code in this section"
   ]
  },
  {
   "cell_type": "code",
   "execution_count": 62,
   "id": "0a035fcf",
   "metadata": {},
   "outputs": [
    {
     "name": "stdout",
     "output_type": "stream",
     "text": [
      "(392, 9)\n"
     ]
    }
   ],
   "source": [
    "print(auto.shape) # checking that rows have been deleted, should now be 392x9"
   ]
  },
  {
   "cell_type": "markdown",
   "id": "abb61774",
   "metadata": {},
   "source": [
    "### 2.3.5 Additional graphical and numberical summaries"
   ]
  },
  {
   "cell_type": "code",
   "execution_count": 70,
   "id": "777919de",
   "metadata": {},
   "outputs": [
    {
     "data": {
      "image/png": "[encoded data removed]",
      "text/plain": [
       "<Figure size 640x480 with 1 Axes>"
      ]
     },
     "metadata": {},
     "output_type": "display_data"
    }
   ],
   "source": [
    "# creating a scatter plot, to create different plots buse different Matplotlib functions\n",
    "plt.plot(auto.cylinders, auto.mpg, 'ro') # x-axis first, y-axis second, 'ro' specifies colour / shape of points on plot\n",
    "plt.xlabel(\"This is cylinders\") \n",
    "plt.ylabel(\"This is mpg\")\n",
    "plt.title(\"Plot cylinders x mpg\")\n",
    "plt.show()"
   ]
  },
  {
   "cell_type": "code",
   "execution_count": 71,
   "id": "d15f3842",
   "metadata": {},
   "outputs": [
    {
     "data": {
      "text/plain": [
       "<function matplotlib.pyplot.show(close=None, block=None)>"
      ]
     },
     "execution_count": 71,
     "metadata": {},
     "output_type": "execute_result"
    },
    {
     "data": {
      "image/png": "[encoded data removed]",
      "text/plain": [
       "<Figure size 640x480 with 2 Axes>"
      ]
     },
     "metadata": {},
     "output_type": "display_data"
    }
   ],
   "source": [
    "# usiing .hist to get a histogram of certain variables, using 'column' to specify which variables\n",
    "auto.hist(column = ['cylinders', 'mpg'])\n",
    "plt.show"
   ]
  },
  {
   "cell_type": "code",
   "execution_count": 76,
   "id": "6b123c6a",
   "metadata": {},
   "outputs": [
    {
     "data": {
      "text/html": [
       "<div>\n",
       "<style scoped>\n",
       "    .dataframe tbody tr th:only-of-type {\n",
       "        vertical-align: middle;\n",
       "    }\n",
       "\n",
       "    .dataframe tbody tr th {\n",
       "        vertical-align: top;\n",
       "    }\n",
       "\n",
       "    .dataframe thead th {\n",
       "        text-align: right;\n",
       "    }\n",
       "</style>\n",
       "<table border=\"1\" class=\"dataframe\">\n",
       "  <thead>\n",
       "    <tr style=\"text-align: right;\">\n",
       "      <th></th>\n",
       "      <th>mpg</th>\n",
       "      <th>displacement</th>\n",
       "      <th>horsepower</th>\n",
       "      <th>weight</th>\n",
       "      <th>acceleration</th>\n",
       "      <th>year</th>\n",
       "      <th>origin</th>\n",
       "    </tr>\n",
       "  </thead>\n",
       "  <tbody>\n",
       "    <tr>\n",
       "      <th>count</th>\n",
       "      <td>392.000000</td>\n",
       "      <td>392.000000</td>\n",
       "      <td>392.000000</td>\n",
       "      <td>392.000000</td>\n",
       "      <td>392.000000</td>\n",
       "      <td>392.000000</td>\n",
       "      <td>392.000000</td>\n",
       "    </tr>\n",
       "    <tr>\n",
       "      <th>mean</th>\n",
       "      <td>23.445918</td>\n",
       "      <td>194.411990</td>\n",
       "      <td>104.469388</td>\n",
       "      <td>2977.584184</td>\n",
       "      <td>15.541327</td>\n",
       "      <td>75.979592</td>\n",
       "      <td>1.576531</td>\n",
       "    </tr>\n",
       "    <tr>\n",
       "      <th>std</th>\n",
       "      <td>7.805007</td>\n",
       "      <td>104.644004</td>\n",
       "      <td>38.491160</td>\n",
       "      <td>849.402560</td>\n",
       "      <td>2.758864</td>\n",
       "      <td>3.683737</td>\n",
       "      <td>0.805518</td>\n",
       "    </tr>\n",
       "    <tr>\n",
       "      <th>min</th>\n",
       "      <td>9.000000</td>\n",
       "      <td>68.000000</td>\n",
       "      <td>46.000000</td>\n",
       "      <td>1613.000000</td>\n",
       "      <td>8.000000</td>\n",
       "      <td>70.000000</td>\n",
       "      <td>1.000000</td>\n",
       "    </tr>\n",
       "    <tr>\n",
       "      <th>25%</th>\n",
       "      <td>17.000000</td>\n",
       "      <td>105.000000</td>\n",
       "      <td>75.000000</td>\n",
       "      <td>2225.250000</td>\n",
       "      <td>13.775000</td>\n",
       "      <td>73.000000</td>\n",
       "      <td>1.000000</td>\n",
       "    </tr>\n",
       "    <tr>\n",
       "      <th>50%</th>\n",
       "      <td>22.750000</td>\n",
       "      <td>151.000000</td>\n",
       "      <td>93.500000</td>\n",
       "      <td>2803.500000</td>\n",
       "      <td>15.500000</td>\n",
       "      <td>76.000000</td>\n",
       "      <td>1.000000</td>\n",
       "    </tr>\n",
       "    <tr>\n",
       "      <th>75%</th>\n",
       "      <td>29.000000</td>\n",
       "      <td>275.750000</td>\n",
       "      <td>126.000000</td>\n",
       "      <td>3614.750000</td>\n",
       "      <td>17.025000</td>\n",
       "      <td>79.000000</td>\n",
       "      <td>2.000000</td>\n",
       "    </tr>\n",
       "    <tr>\n",
       "      <th>max</th>\n",
       "      <td>46.600000</td>\n",
       "      <td>455.000000</td>\n",
       "      <td>230.000000</td>\n",
       "      <td>5140.000000</td>\n",
       "      <td>24.800000</td>\n",
       "      <td>82.000000</td>\n",
       "      <td>3.000000</td>\n",
       "    </tr>\n",
       "  </tbody>\n",
       "</table>\n",
       "</div>"
      ],
      "text/plain": [
       "              mpg  displacement  horsepower       weight  acceleration  \\\n",
       "count  392.000000    392.000000  392.000000   392.000000    392.000000   \n",
       "mean    23.445918    194.411990  104.469388  2977.584184     15.541327   \n",
       "std      7.805007    104.644004   38.491160   849.402560      2.758864   \n",
       "min      9.000000     68.000000   46.000000  1613.000000      8.000000   \n",
       "25%     17.000000    105.000000   75.000000  2225.250000     13.775000   \n",
       "50%     22.750000    151.000000   93.500000  2803.500000     15.500000   \n",
       "75%     29.000000    275.750000  126.000000  3614.750000     17.025000   \n",
       "max     46.600000    455.000000  230.000000  5140.000000     24.800000   \n",
       "\n",
       "             year      origin  \n",
       "count  392.000000  392.000000  \n",
       "mean    75.979592    1.576531  \n",
       "std      3.683737    0.805518  \n",
       "min     70.000000    1.000000  \n",
       "25%     73.000000    1.000000  \n",
       "50%     76.000000    1.000000  \n",
       "75%     79.000000    2.000000  \n",
       "max     82.000000    3.000000  "
      ]
     },
     "execution_count": 76,
     "metadata": {},
     "output_type": "execute_result"
    }
   ],
   "source": [
    "# using '.describe()' to get a summary of the dataframe\n",
    "auto.describe()"
   ]
  },
  {
   "cell_type": "code",
   "execution_count": 74,
   "id": "198ca561",
   "metadata": {},
   "outputs": [],
   "source": [
    "# changing the data type of a variable, e.g. changing cylinders to a categorical variable\n",
    "auto['cylinders'] = auto['cylinders'].astype('category')"
   ]
  }
 ],
 "metadata": {
  "kernelspec": {
   "display_name": "Python 3 (ipykernel)",
   "language": "python",
   "name": "python3"
  },
  "language_info": {
   "codemirror_mode": {
    "name": "ipython",
    "version": 3
   },
   "file_extension": ".py",
   "mimetype": "text/x-python",
   "name": "python",
   "nbconvert_exporter": "python",
   "pygments_lexer": "ipython3",
   "version": "3.10.9"
  }
 },
 "nbformat": 4,
 "nbformat_minor": 5
}
